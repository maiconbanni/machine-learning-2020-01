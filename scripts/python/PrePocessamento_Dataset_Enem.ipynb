{
 "cells": [
  {
   "cell_type": "code",
   "execution_count": 2,
   "metadata": {
    "colab": {
     "base_uri": "https://localhost:8080/",
     "height": 71
    },
    "colab_type": "code",
    "executionInfo": {
     "elapsed": 1634,
     "status": "ok",
     "timestamp": 1589935153562,
     "user": {
      "displayName": "Marcos Oliveira",
      "photoUrl": "https://lh3.googleusercontent.com/a-/AOh14GjtJc6boEovFWZizRLvOrpllW_GprehG4IpHp41=s64",
      "userId": "12258186870812423715"
     },
     "user_tz": 180
    },
    "id": "oZ8Y9HeS2vVh",
    "outputId": "1ca5af64-b239-4347-c53e-a9496b8972ba"
   },
   "outputs": [],
   "source": [
    "import pandas as pd\n",
    "import numpy as np\n",
    "import matplotlib.pyplot as plt\n",
    "import seaborn as sns"
   ]
  },
  {
   "cell_type": "code",
   "execution_count": 3,
   "metadata": {
    "colab": {},
    "colab_type": "code",
    "id": "h7KlnP3l26aY"
   },
   "outputs": [],
   "source": [
    "dataset_enem = pd.read_csv(\"E:\\\\Documentos\\\\Mestrado\\\\UFF\\\\Disciplinas\\\\1 Semestre\\\\1 - Aprendizado de Máquina\\\\2.1 - Trabalho\\\\1 - Fase - Elaboração\\\\Dataset_Enem\\\\DADOS\\\\MICRODADOS_ENEM_2018.csv\", sep=\";\", encoding='ISO-8859-1', usecols=['SG_UF_RESIDENCIA', 'NU_IDADE', 'TP_ESTADO_CIVIL', 'TP_COR_RACA',  'TP_ST_CONCLUSAO', 'TP_ANO_CONCLUIU', 'IN_TREINEIRO', 'TP_ENSINO', 'NU_NOTA_CN', 'NU_NOTA_CH', 'NU_NOTA_LC', 'NU_NOTA_MT', 'NU_NOTA_REDACAO', 'TP_LINGUA', 'Q001', 'Q002','Q005', 'Q006', 'Q025', 'Q026', 'Q027'] )"
   ]
  },
  {
   "cell_type": "code",
   "execution_count": 4,
   "metadata": {
    "colab": {},
    "colab_type": "code",
    "id": "w9WVAhHl4kSf"
   },
   "outputs": [],
   "source": [
    "dataset_enem['RENDIMENTO_CN'] = 0\n",
    "dataset_enem['RENDIMENTO_CH'] = 0\n",
    "dataset_enem['RENDIMENTO_LC'] = 0\n",
    "dataset_enem['RENDIMENTO_MT'] = 0\n",
    "dataset_enem['RENDIMENTO_REDACAO'] = 0 \n",
    "dataset_enem['MEDIA_GERAL'] = 0 \n",
    "dataset_enem['RENDIMENTO_GERAL'] = 0"
   ]
  },
  {
   "cell_type": "code",
   "execution_count": 6,
   "metadata": {
    "colab": {
     "base_uri": "https://localhost:8080/",
     "height": 439
    },
    "colab_type": "code",
    "executionInfo": {
     "elapsed": 2174,
     "status": "ok",
     "timestamp": 1589935279480,
     "user": {
      "displayName": "Marcos Oliveira",
      "photoUrl": "https://lh3.googleusercontent.com/a-/AOh14GjtJc6boEovFWZizRLvOrpllW_GprehG4IpHp41=s64",
      "userId": "12258186870812423715"
     },
     "user_tz": 180
    },
    "id": "AN3EDK8_5uup",
    "outputId": "db454469-3e1d-4d30-de83-7ebb2e2353cc"
   },
   "outputs": [
    {
     "data": {
      "text/html": [
       "<div>\n",
       "<style scoped>\n",
       "    .dataframe tbody tr th:only-of-type {\n",
       "        vertical-align: middle;\n",
       "    }\n",
       "\n",
       "    .dataframe tbody tr th {\n",
       "        vertical-align: top;\n",
       "    }\n",
       "\n",
       "    .dataframe thead th {\n",
       "        text-align: right;\n",
       "    }\n",
       "</style>\n",
       "<table border=\"1\" class=\"dataframe\">\n",
       "  <thead>\n",
       "    <tr style=\"text-align: right;\">\n",
       "      <th></th>\n",
       "      <th>SG_UF_RESIDENCIA</th>\n",
       "      <th>NU_IDADE</th>\n",
       "      <th>TP_ESTADO_CIVIL</th>\n",
       "      <th>TP_COR_RACA</th>\n",
       "      <th>TP_ST_CONCLUSAO</th>\n",
       "      <th>TP_ANO_CONCLUIU</th>\n",
       "      <th>TP_ENSINO</th>\n",
       "      <th>IN_TREINEIRO</th>\n",
       "      <th>NU_NOTA_CN</th>\n",
       "      <th>NU_NOTA_CH</th>\n",
       "      <th>...</th>\n",
       "      <th>Q025</th>\n",
       "      <th>Q026</th>\n",
       "      <th>Q027</th>\n",
       "      <th>RENDIMENTO_CN</th>\n",
       "      <th>RENDIMENTO_CH</th>\n",
       "      <th>RENDIMENTO_LC</th>\n",
       "      <th>RENDIMENTO_MT</th>\n",
       "      <th>RENDIMENTO_REDACAO</th>\n",
       "      <th>MEDIA_GERAL</th>\n",
       "      <th>RENDIMENTO_GERAL</th>\n",
       "    </tr>\n",
       "  </thead>\n",
       "  <tbody>\n",
       "    <tr>\n",
       "      <th>0</th>\n",
       "      <td>DF</td>\n",
       "      <td>44.0</td>\n",
       "      <td>1.0</td>\n",
       "      <td>1</td>\n",
       "      <td>2</td>\n",
       "      <td>0</td>\n",
       "      <td>1.0</td>\n",
       "      <td>0</td>\n",
       "      <td>NaN</td>\n",
       "      <td>NaN</td>\n",
       "      <td>...</td>\n",
       "      <td>A</td>\n",
       "      <td>B</td>\n",
       "      <td>A</td>\n",
       "      <td>0</td>\n",
       "      <td>0</td>\n",
       "      <td>0</td>\n",
       "      <td>0</td>\n",
       "      <td>0</td>\n",
       "      <td>0</td>\n",
       "      <td>0</td>\n",
       "    </tr>\n",
       "    <tr>\n",
       "      <th>1</th>\n",
       "      <td>MA</td>\n",
       "      <td>23.0</td>\n",
       "      <td>0.0</td>\n",
       "      <td>3</td>\n",
       "      <td>1</td>\n",
       "      <td>5</td>\n",
       "      <td>1.0</td>\n",
       "      <td>0</td>\n",
       "      <td>521.0</td>\n",
       "      <td>568.7</td>\n",
       "      <td>...</td>\n",
       "      <td>A</td>\n",
       "      <td>A</td>\n",
       "      <td>A</td>\n",
       "      <td>0</td>\n",
       "      <td>0</td>\n",
       "      <td>0</td>\n",
       "      <td>0</td>\n",
       "      <td>0</td>\n",
       "      <td>0</td>\n",
       "      <td>0</td>\n",
       "    </tr>\n",
       "    <tr>\n",
       "      <th>2</th>\n",
       "      <td>SP</td>\n",
       "      <td>23.0</td>\n",
       "      <td>0.0</td>\n",
       "      <td>1</td>\n",
       "      <td>1</td>\n",
       "      <td>3</td>\n",
       "      <td>3.0</td>\n",
       "      <td>0</td>\n",
       "      <td>NaN</td>\n",
       "      <td>NaN</td>\n",
       "      <td>...</td>\n",
       "      <td>B</td>\n",
       "      <td>A</td>\n",
       "      <td>A</td>\n",
       "      <td>0</td>\n",
       "      <td>0</td>\n",
       "      <td>0</td>\n",
       "      <td>0</td>\n",
       "      <td>0</td>\n",
       "      <td>0</td>\n",
       "      <td>0</td>\n",
       "    </tr>\n",
       "    <tr>\n",
       "      <th>3</th>\n",
       "      <td>BA</td>\n",
       "      <td>26.0</td>\n",
       "      <td>0.0</td>\n",
       "      <td>3</td>\n",
       "      <td>1</td>\n",
       "      <td>8</td>\n",
       "      <td>1.0</td>\n",
       "      <td>0</td>\n",
       "      <td>NaN</td>\n",
       "      <td>NaN</td>\n",
       "      <td>...</td>\n",
       "      <td>B</td>\n",
       "      <td>A</td>\n",
       "      <td>A</td>\n",
       "      <td>0</td>\n",
       "      <td>0</td>\n",
       "      <td>0</td>\n",
       "      <td>0</td>\n",
       "      <td>0</td>\n",
       "      <td>0</td>\n",
       "      <td>0</td>\n",
       "    </tr>\n",
       "    <tr>\n",
       "      <th>4</th>\n",
       "      <td>BA</td>\n",
       "      <td>20.0</td>\n",
       "      <td>0.0</td>\n",
       "      <td>0</td>\n",
       "      <td>2</td>\n",
       "      <td>0</td>\n",
       "      <td>1.0</td>\n",
       "      <td>0</td>\n",
       "      <td>NaN</td>\n",
       "      <td>419.9</td>\n",
       "      <td>...</td>\n",
       "      <td>B</td>\n",
       "      <td>B</td>\n",
       "      <td>A</td>\n",
       "      <td>0</td>\n",
       "      <td>0</td>\n",
       "      <td>0</td>\n",
       "      <td>0</td>\n",
       "      <td>0</td>\n",
       "      <td>0</td>\n",
       "      <td>0</td>\n",
       "    </tr>\n",
       "    <tr>\n",
       "      <th>...</th>\n",
       "      <td>...</td>\n",
       "      <td>...</td>\n",
       "      <td>...</td>\n",
       "      <td>...</td>\n",
       "      <td>...</td>\n",
       "      <td>...</td>\n",
       "      <td>...</td>\n",
       "      <td>...</td>\n",
       "      <td>...</td>\n",
       "      <td>...</td>\n",
       "      <td>...</td>\n",
       "      <td>...</td>\n",
       "      <td>...</td>\n",
       "      <td>...</td>\n",
       "      <td>...</td>\n",
       "      <td>...</td>\n",
       "      <td>...</td>\n",
       "      <td>...</td>\n",
       "      <td>...</td>\n",
       "      <td>...</td>\n",
       "      <td>...</td>\n",
       "    </tr>\n",
       "    <tr>\n",
       "      <th>5513742</th>\n",
       "      <td>RJ</td>\n",
       "      <td>56.0</td>\n",
       "      <td>1.0</td>\n",
       "      <td>1</td>\n",
       "      <td>1</td>\n",
       "      <td>6</td>\n",
       "      <td>NaN</td>\n",
       "      <td>0</td>\n",
       "      <td>NaN</td>\n",
       "      <td>NaN</td>\n",
       "      <td>...</td>\n",
       "      <td>A</td>\n",
       "      <td>A</td>\n",
       "      <td>C</td>\n",
       "      <td>0</td>\n",
       "      <td>0</td>\n",
       "      <td>0</td>\n",
       "      <td>0</td>\n",
       "      <td>0</td>\n",
       "      <td>0</td>\n",
       "      <td>0</td>\n",
       "    </tr>\n",
       "    <tr>\n",
       "      <th>5513743</th>\n",
       "      <td>AM</td>\n",
       "      <td>20.0</td>\n",
       "      <td>0.0</td>\n",
       "      <td>3</td>\n",
       "      <td>2</td>\n",
       "      <td>0</td>\n",
       "      <td>1.0</td>\n",
       "      <td>0</td>\n",
       "      <td>435.6</td>\n",
       "      <td>556.8</td>\n",
       "      <td>...</td>\n",
       "      <td>B</td>\n",
       "      <td>B</td>\n",
       "      <td>A</td>\n",
       "      <td>0</td>\n",
       "      <td>0</td>\n",
       "      <td>0</td>\n",
       "      <td>0</td>\n",
       "      <td>0</td>\n",
       "      <td>0</td>\n",
       "      <td>0</td>\n",
       "    </tr>\n",
       "    <tr>\n",
       "      <th>5513744</th>\n",
       "      <td>SP</td>\n",
       "      <td>17.0</td>\n",
       "      <td>0.0</td>\n",
       "      <td>3</td>\n",
       "      <td>2</td>\n",
       "      <td>0</td>\n",
       "      <td>1.0</td>\n",
       "      <td>0</td>\n",
       "      <td>NaN</td>\n",
       "      <td>NaN</td>\n",
       "      <td>...</td>\n",
       "      <td>B</td>\n",
       "      <td>B</td>\n",
       "      <td>A</td>\n",
       "      <td>0</td>\n",
       "      <td>0</td>\n",
       "      <td>0</td>\n",
       "      <td>0</td>\n",
       "      <td>0</td>\n",
       "      <td>0</td>\n",
       "      <td>0</td>\n",
       "    </tr>\n",
       "    <tr>\n",
       "      <th>5513745</th>\n",
       "      <td>SP</td>\n",
       "      <td>17.0</td>\n",
       "      <td>0.0</td>\n",
       "      <td>1</td>\n",
       "      <td>2</td>\n",
       "      <td>0</td>\n",
       "      <td>1.0</td>\n",
       "      <td>0</td>\n",
       "      <td>524.9</td>\n",
       "      <td>496.5</td>\n",
       "      <td>...</td>\n",
       "      <td>B</td>\n",
       "      <td>B</td>\n",
       "      <td>C</td>\n",
       "      <td>0</td>\n",
       "      <td>0</td>\n",
       "      <td>0</td>\n",
       "      <td>0</td>\n",
       "      <td>0</td>\n",
       "      <td>0</td>\n",
       "      <td>0</td>\n",
       "    </tr>\n",
       "    <tr>\n",
       "      <th>5513746</th>\n",
       "      <td>MG</td>\n",
       "      <td>21.0</td>\n",
       "      <td>0.0</td>\n",
       "      <td>3</td>\n",
       "      <td>1</td>\n",
       "      <td>3</td>\n",
       "      <td>NaN</td>\n",
       "      <td>0</td>\n",
       "      <td>442.7</td>\n",
       "      <td>549.4</td>\n",
       "      <td>...</td>\n",
       "      <td>B</td>\n",
       "      <td>A</td>\n",
       "      <td>A</td>\n",
       "      <td>0</td>\n",
       "      <td>0</td>\n",
       "      <td>0</td>\n",
       "      <td>0</td>\n",
       "      <td>0</td>\n",
       "      <td>0</td>\n",
       "      <td>0</td>\n",
       "    </tr>\n",
       "  </tbody>\n",
       "</table>\n",
       "<p>5513747 rows × 28 columns</p>\n",
       "</div>"
      ],
      "text/plain": [
       "        SG_UF_RESIDENCIA  NU_IDADE  TP_ESTADO_CIVIL  TP_COR_RACA  \\\n",
       "0                     DF      44.0              1.0            1   \n",
       "1                     MA      23.0              0.0            3   \n",
       "2                     SP      23.0              0.0            1   \n",
       "3                     BA      26.0              0.0            3   \n",
       "4                     BA      20.0              0.0            0   \n",
       "...                  ...       ...              ...          ...   \n",
       "5513742               RJ      56.0              1.0            1   \n",
       "5513743               AM      20.0              0.0            3   \n",
       "5513744               SP      17.0              0.0            3   \n",
       "5513745               SP      17.0              0.0            1   \n",
       "5513746               MG      21.0              0.0            3   \n",
       "\n",
       "         TP_ST_CONCLUSAO  TP_ANO_CONCLUIU  TP_ENSINO  IN_TREINEIRO  \\\n",
       "0                      2                0        1.0             0   \n",
       "1                      1                5        1.0             0   \n",
       "2                      1                3        3.0             0   \n",
       "3                      1                8        1.0             0   \n",
       "4                      2                0        1.0             0   \n",
       "...                  ...              ...        ...           ...   \n",
       "5513742                1                6        NaN             0   \n",
       "5513743                2                0        1.0             0   \n",
       "5513744                2                0        1.0             0   \n",
       "5513745                2                0        1.0             0   \n",
       "5513746                1                3        NaN             0   \n",
       "\n",
       "         NU_NOTA_CN  NU_NOTA_CH  ...  Q025  Q026  Q027  RENDIMENTO_CN  \\\n",
       "0               NaN         NaN  ...     A     B     A              0   \n",
       "1             521.0       568.7  ...     A     A     A              0   \n",
       "2               NaN         NaN  ...     B     A     A              0   \n",
       "3               NaN         NaN  ...     B     A     A              0   \n",
       "4               NaN       419.9  ...     B     B     A              0   \n",
       "...             ...         ...  ...   ...   ...   ...            ...   \n",
       "5513742         NaN         NaN  ...     A     A     C              0   \n",
       "5513743       435.6       556.8  ...     B     B     A              0   \n",
       "5513744         NaN         NaN  ...     B     B     A              0   \n",
       "5513745       524.9       496.5  ...     B     B     C              0   \n",
       "5513746       442.7       549.4  ...     B     A     A              0   \n",
       "\n",
       "        RENDIMENTO_CH RENDIMENTO_LC  RENDIMENTO_MT RENDIMENTO_REDACAO  \\\n",
       "0                   0             0              0                  0   \n",
       "1                   0             0              0                  0   \n",
       "2                   0             0              0                  0   \n",
       "3                   0             0              0                  0   \n",
       "4                   0             0              0                  0   \n",
       "...               ...           ...            ...                ...   \n",
       "5513742             0             0              0                  0   \n",
       "5513743             0             0              0                  0   \n",
       "5513744             0             0              0                  0   \n",
       "5513745             0             0              0                  0   \n",
       "5513746             0             0              0                  0   \n",
       "\n",
       "        MEDIA_GERAL RENDIMENTO_GERAL  \n",
       "0                 0                0  \n",
       "1                 0                0  \n",
       "2                 0                0  \n",
       "3                 0                0  \n",
       "4                 0                0  \n",
       "...             ...              ...  \n",
       "5513742           0                0  \n",
       "5513743           0                0  \n",
       "5513744           0                0  \n",
       "5513745           0                0  \n",
       "5513746           0                0  \n",
       "\n",
       "[5513747 rows x 28 columns]"
      ]
     },
     "execution_count": 6,
     "metadata": {},
     "output_type": "execute_result"
    }
   ],
   "source": [
    "dataset_enem"
   ]
  },
  {
   "cell_type": "code",
   "execution_count": 7,
   "metadata": {
    "colab": {
     "base_uri": "https://localhost:8080/",
     "height": 612
    },
    "colab_type": "code",
    "executionInfo": {
     "elapsed": 1936,
     "status": "ok",
     "timestamp": 1589935288999,
     "user": {
      "displayName": "Marcos Oliveira",
      "photoUrl": "https://lh3.googleusercontent.com/a-/AOh14GjtJc6boEovFWZizRLvOrpllW_GprehG4IpHp41=s64",
      "userId": "12258186870812423715"
     },
     "user_tz": 180
    },
    "id": "pobiR0lX6FFw",
    "outputId": "3988232c-a068-4549-b9ea-c5624bb3150c"
   },
   "outputs": [
    {
     "name": "stdout",
     "output_type": "stream",
     "text": [
      "<class 'pandas.core.frame.DataFrame'>\n",
      "RangeIndex: 5513747 entries, 0 to 5513746\n",
      "Data columns (total 28 columns):\n",
      " #   Column              Dtype  \n",
      "---  ------              -----  \n",
      " 0   SG_UF_RESIDENCIA    object \n",
      " 1   NU_IDADE            float64\n",
      " 2   TP_ESTADO_CIVIL     float64\n",
      " 3   TP_COR_RACA         int64  \n",
      " 4   TP_ST_CONCLUSAO     int64  \n",
      " 5   TP_ANO_CONCLUIU     int64  \n",
      " 6   TP_ENSINO           float64\n",
      " 7   IN_TREINEIRO        int64  \n",
      " 8   NU_NOTA_CN          float64\n",
      " 9   NU_NOTA_CH          float64\n",
      " 10  NU_NOTA_LC          float64\n",
      " 11  NU_NOTA_MT          float64\n",
      " 12  TP_LINGUA           int64  \n",
      " 13  NU_NOTA_REDACAO     float64\n",
      " 14  Q001                object \n",
      " 15  Q002                object \n",
      " 16  Q005                int64  \n",
      " 17  Q006                object \n",
      " 18  Q025                object \n",
      " 19  Q026                object \n",
      " 20  Q027                object \n",
      " 21  RENDIMENTO_CN       int64  \n",
      " 22  RENDIMENTO_CH       int64  \n",
      " 23  RENDIMENTO_LC       int64  \n",
      " 24  RENDIMENTO_MT       int64  \n",
      " 25  RENDIMENTO_REDACAO  int64  \n",
      " 26  MEDIA_GERAL         int64  \n",
      " 27  RENDIMENTO_GERAL    int64  \n",
      "dtypes: float64(8), int64(13), object(7)\n",
      "memory usage: 1.2+ GB\n"
     ]
    }
   ],
   "source": [
    "dataset_enem.info()"
   ]
  },
  {
   "cell_type": "code",
   "execution_count": 0,
   "metadata": {
    "colab": {},
    "colab_type": "code",
    "id": "ibTyRc3jBrWE"
   },
   "outputs": [],
   "source": [
    "#SG_UF_RESIDENCIA"
   ]
  },
  {
   "cell_type": "code",
   "execution_count": 8,
   "metadata": {
    "colab": {
     "base_uri": "https://localhost:8080/",
     "height": 493
    },
    "colab_type": "code",
    "executionInfo": {
     "elapsed": 1970,
     "status": "ok",
     "timestamp": 1589935295205,
     "user": {
      "displayName": "Marcos Oliveira",
      "photoUrl": "https://lh3.googleusercontent.com/a-/AOh14GjtJc6boEovFWZizRLvOrpllW_GprehG4IpHp41=s64",
      "userId": "12258186870812423715"
     },
     "user_tz": 180
    },
    "id": "XRa3H3rXBvUQ",
    "outputId": "3b6a9a8b-ff3c-4603-b1b0-5c4afbd8ddeb"
   },
   "outputs": [
    {
     "data": {
      "text/plain": [
       "SP    934174\n",
       "MG    587471\n",
       "BA    401328\n",
       "RJ    382078\n",
       "CE    329406\n",
       "PE    304302\n",
       "PA    283861\n",
       "RS    243555\n",
       "PR    236533\n",
       "MA    218462\n",
       "GO    191029\n",
       "PB    152049\n",
       "RN    124039\n",
       "SC    123933\n",
       "AM    123755\n",
       "PI    118350\n",
       "ES    112173\n",
       "DF    104531\n",
       "MT     96762\n",
       "AL     89670\n",
       "SE     74633\n",
       "MS     72319\n",
       "RO     62266\n",
       "TO     55145\n",
       "AP     40109\n",
       "AC     37785\n",
       "RR     14029\n",
       "Name: SG_UF_RESIDENCIA, dtype: int64"
      ]
     },
     "execution_count": 8,
     "metadata": {},
     "output_type": "execute_result"
    }
   ],
   "source": [
    "dataset_enem.SG_UF_RESIDENCIA.value_counts()"
   ]
  },
  {
   "cell_type": "code",
   "execution_count": 0,
   "metadata": {
    "colab": {},
    "colab_type": "code",
    "id": "1lvUheoSBGjL"
   },
   "outputs": [],
   "source": [
    "#NU_IDADE"
   ]
  },
  {
   "cell_type": "code",
   "execution_count": 9,
   "metadata": {
    "colab": {},
    "colab_type": "code",
    "id": "CgXcB6TzFhC5"
   },
   "outputs": [],
   "source": [
    "dataset_enem['NU_IDADE_2'] = 0"
   ]
  },
  {
   "cell_type": "code",
   "execution_count": 10,
   "metadata": {
    "colab": {},
    "colab_type": "code",
    "id": "xe1qc9dy_6IG"
   },
   "outputs": [],
   "source": [
    "condicao = [dataset_enem['NU_IDADE'] <= 14, dataset_enem['NU_IDADE'] == 15, dataset_enem['NU_IDADE'] == 16, dataset_enem['NU_IDADE'] == 17, dataset_enem['NU_IDADE'] == 18, dataset_enem['NU_IDADE'] == 19, dataset_enem['NU_IDADE'] ==20, dataset_enem['NU_IDADE'] == 21, dataset_enem['NU_IDADE'] == 22]\n",
    "resultado = [0, 1, 1, 2, 3, 4, 5, 6, 6]\n",
    "\n",
    "dataset_enem['NU_IDADE_2'] = np.select(condicao, resultado, 7)"
   ]
  },
  {
   "cell_type": "code",
   "execution_count": 11,
   "metadata": {
    "colab": {
     "base_uri": "https://localhost:8080/",
     "height": 439
    },
    "colab_type": "code",
    "executionInfo": {
     "elapsed": 1163,
     "status": "ok",
     "timestamp": 1589935308769,
     "user": {
      "displayName": "Marcos Oliveira",
      "photoUrl": "https://lh3.googleusercontent.com/a-/AOh14GjtJc6boEovFWZizRLvOrpllW_GprehG4IpHp41=s64",
      "userId": "12258186870812423715"
     },
     "user_tz": 180
    },
    "id": "rj1rvpM8BkGR",
    "outputId": "d3164ff2-969e-4072-ae52-24305a2db236"
   },
   "outputs": [
    {
     "data": {
      "text/html": [
       "<div>\n",
       "<style scoped>\n",
       "    .dataframe tbody tr th:only-of-type {\n",
       "        vertical-align: middle;\n",
       "    }\n",
       "\n",
       "    .dataframe tbody tr th {\n",
       "        vertical-align: top;\n",
       "    }\n",
       "\n",
       "    .dataframe thead th {\n",
       "        text-align: right;\n",
       "    }\n",
       "</style>\n",
       "<table border=\"1\" class=\"dataframe\">\n",
       "  <thead>\n",
       "    <tr style=\"text-align: right;\">\n",
       "      <th></th>\n",
       "      <th>SG_UF_RESIDENCIA</th>\n",
       "      <th>NU_IDADE</th>\n",
       "      <th>TP_ESTADO_CIVIL</th>\n",
       "      <th>TP_COR_RACA</th>\n",
       "      <th>TP_ST_CONCLUSAO</th>\n",
       "      <th>TP_ANO_CONCLUIU</th>\n",
       "      <th>TP_ENSINO</th>\n",
       "      <th>IN_TREINEIRO</th>\n",
       "      <th>NU_NOTA_CN</th>\n",
       "      <th>NU_NOTA_CH</th>\n",
       "      <th>...</th>\n",
       "      <th>Q026</th>\n",
       "      <th>Q027</th>\n",
       "      <th>RENDIMENTO_CN</th>\n",
       "      <th>RENDIMENTO_CH</th>\n",
       "      <th>RENDIMENTO_LC</th>\n",
       "      <th>RENDIMENTO_MT</th>\n",
       "      <th>RENDIMENTO_REDACAO</th>\n",
       "      <th>MEDIA_GERAL</th>\n",
       "      <th>RENDIMENTO_GERAL</th>\n",
       "      <th>NU_IDADE_2</th>\n",
       "    </tr>\n",
       "  </thead>\n",
       "  <tbody>\n",
       "    <tr>\n",
       "      <th>0</th>\n",
       "      <td>DF</td>\n",
       "      <td>44.0</td>\n",
       "      <td>1.0</td>\n",
       "      <td>1</td>\n",
       "      <td>2</td>\n",
       "      <td>0</td>\n",
       "      <td>1.0</td>\n",
       "      <td>0</td>\n",
       "      <td>NaN</td>\n",
       "      <td>NaN</td>\n",
       "      <td>...</td>\n",
       "      <td>B</td>\n",
       "      <td>A</td>\n",
       "      <td>0</td>\n",
       "      <td>0</td>\n",
       "      <td>0</td>\n",
       "      <td>0</td>\n",
       "      <td>0</td>\n",
       "      <td>0</td>\n",
       "      <td>0</td>\n",
       "      <td>7</td>\n",
       "    </tr>\n",
       "    <tr>\n",
       "      <th>1</th>\n",
       "      <td>MA</td>\n",
       "      <td>23.0</td>\n",
       "      <td>0.0</td>\n",
       "      <td>3</td>\n",
       "      <td>1</td>\n",
       "      <td>5</td>\n",
       "      <td>1.0</td>\n",
       "      <td>0</td>\n",
       "      <td>521.0</td>\n",
       "      <td>568.7</td>\n",
       "      <td>...</td>\n",
       "      <td>A</td>\n",
       "      <td>A</td>\n",
       "      <td>0</td>\n",
       "      <td>0</td>\n",
       "      <td>0</td>\n",
       "      <td>0</td>\n",
       "      <td>0</td>\n",
       "      <td>0</td>\n",
       "      <td>0</td>\n",
       "      <td>7</td>\n",
       "    </tr>\n",
       "    <tr>\n",
       "      <th>2</th>\n",
       "      <td>SP</td>\n",
       "      <td>23.0</td>\n",
       "      <td>0.0</td>\n",
       "      <td>1</td>\n",
       "      <td>1</td>\n",
       "      <td>3</td>\n",
       "      <td>3.0</td>\n",
       "      <td>0</td>\n",
       "      <td>NaN</td>\n",
       "      <td>NaN</td>\n",
       "      <td>...</td>\n",
       "      <td>A</td>\n",
       "      <td>A</td>\n",
       "      <td>0</td>\n",
       "      <td>0</td>\n",
       "      <td>0</td>\n",
       "      <td>0</td>\n",
       "      <td>0</td>\n",
       "      <td>0</td>\n",
       "      <td>0</td>\n",
       "      <td>7</td>\n",
       "    </tr>\n",
       "    <tr>\n",
       "      <th>3</th>\n",
       "      <td>BA</td>\n",
       "      <td>26.0</td>\n",
       "      <td>0.0</td>\n",
       "      <td>3</td>\n",
       "      <td>1</td>\n",
       "      <td>8</td>\n",
       "      <td>1.0</td>\n",
       "      <td>0</td>\n",
       "      <td>NaN</td>\n",
       "      <td>NaN</td>\n",
       "      <td>...</td>\n",
       "      <td>A</td>\n",
       "      <td>A</td>\n",
       "      <td>0</td>\n",
       "      <td>0</td>\n",
       "      <td>0</td>\n",
       "      <td>0</td>\n",
       "      <td>0</td>\n",
       "      <td>0</td>\n",
       "      <td>0</td>\n",
       "      <td>7</td>\n",
       "    </tr>\n",
       "    <tr>\n",
       "      <th>4</th>\n",
       "      <td>BA</td>\n",
       "      <td>20.0</td>\n",
       "      <td>0.0</td>\n",
       "      <td>0</td>\n",
       "      <td>2</td>\n",
       "      <td>0</td>\n",
       "      <td>1.0</td>\n",
       "      <td>0</td>\n",
       "      <td>NaN</td>\n",
       "      <td>419.9</td>\n",
       "      <td>...</td>\n",
       "      <td>B</td>\n",
       "      <td>A</td>\n",
       "      <td>0</td>\n",
       "      <td>0</td>\n",
       "      <td>0</td>\n",
       "      <td>0</td>\n",
       "      <td>0</td>\n",
       "      <td>0</td>\n",
       "      <td>0</td>\n",
       "      <td>5</td>\n",
       "    </tr>\n",
       "    <tr>\n",
       "      <th>...</th>\n",
       "      <td>...</td>\n",
       "      <td>...</td>\n",
       "      <td>...</td>\n",
       "      <td>...</td>\n",
       "      <td>...</td>\n",
       "      <td>...</td>\n",
       "      <td>...</td>\n",
       "      <td>...</td>\n",
       "      <td>...</td>\n",
       "      <td>...</td>\n",
       "      <td>...</td>\n",
       "      <td>...</td>\n",
       "      <td>...</td>\n",
       "      <td>...</td>\n",
       "      <td>...</td>\n",
       "      <td>...</td>\n",
       "      <td>...</td>\n",
       "      <td>...</td>\n",
       "      <td>...</td>\n",
       "      <td>...</td>\n",
       "      <td>...</td>\n",
       "    </tr>\n",
       "    <tr>\n",
       "      <th>5513742</th>\n",
       "      <td>RJ</td>\n",
       "      <td>56.0</td>\n",
       "      <td>1.0</td>\n",
       "      <td>1</td>\n",
       "      <td>1</td>\n",
       "      <td>6</td>\n",
       "      <td>NaN</td>\n",
       "      <td>0</td>\n",
       "      <td>NaN</td>\n",
       "      <td>NaN</td>\n",
       "      <td>...</td>\n",
       "      <td>A</td>\n",
       "      <td>C</td>\n",
       "      <td>0</td>\n",
       "      <td>0</td>\n",
       "      <td>0</td>\n",
       "      <td>0</td>\n",
       "      <td>0</td>\n",
       "      <td>0</td>\n",
       "      <td>0</td>\n",
       "      <td>7</td>\n",
       "    </tr>\n",
       "    <tr>\n",
       "      <th>5513743</th>\n",
       "      <td>AM</td>\n",
       "      <td>20.0</td>\n",
       "      <td>0.0</td>\n",
       "      <td>3</td>\n",
       "      <td>2</td>\n",
       "      <td>0</td>\n",
       "      <td>1.0</td>\n",
       "      <td>0</td>\n",
       "      <td>435.6</td>\n",
       "      <td>556.8</td>\n",
       "      <td>...</td>\n",
       "      <td>B</td>\n",
       "      <td>A</td>\n",
       "      <td>0</td>\n",
       "      <td>0</td>\n",
       "      <td>0</td>\n",
       "      <td>0</td>\n",
       "      <td>0</td>\n",
       "      <td>0</td>\n",
       "      <td>0</td>\n",
       "      <td>5</td>\n",
       "    </tr>\n",
       "    <tr>\n",
       "      <th>5513744</th>\n",
       "      <td>SP</td>\n",
       "      <td>17.0</td>\n",
       "      <td>0.0</td>\n",
       "      <td>3</td>\n",
       "      <td>2</td>\n",
       "      <td>0</td>\n",
       "      <td>1.0</td>\n",
       "      <td>0</td>\n",
       "      <td>NaN</td>\n",
       "      <td>NaN</td>\n",
       "      <td>...</td>\n",
       "      <td>B</td>\n",
       "      <td>A</td>\n",
       "      <td>0</td>\n",
       "      <td>0</td>\n",
       "      <td>0</td>\n",
       "      <td>0</td>\n",
       "      <td>0</td>\n",
       "      <td>0</td>\n",
       "      <td>0</td>\n",
       "      <td>2</td>\n",
       "    </tr>\n",
       "    <tr>\n",
       "      <th>5513745</th>\n",
       "      <td>SP</td>\n",
       "      <td>17.0</td>\n",
       "      <td>0.0</td>\n",
       "      <td>1</td>\n",
       "      <td>2</td>\n",
       "      <td>0</td>\n",
       "      <td>1.0</td>\n",
       "      <td>0</td>\n",
       "      <td>524.9</td>\n",
       "      <td>496.5</td>\n",
       "      <td>...</td>\n",
       "      <td>B</td>\n",
       "      <td>C</td>\n",
       "      <td>0</td>\n",
       "      <td>0</td>\n",
       "      <td>0</td>\n",
       "      <td>0</td>\n",
       "      <td>0</td>\n",
       "      <td>0</td>\n",
       "      <td>0</td>\n",
       "      <td>2</td>\n",
       "    </tr>\n",
       "    <tr>\n",
       "      <th>5513746</th>\n",
       "      <td>MG</td>\n",
       "      <td>21.0</td>\n",
       "      <td>0.0</td>\n",
       "      <td>3</td>\n",
       "      <td>1</td>\n",
       "      <td>3</td>\n",
       "      <td>NaN</td>\n",
       "      <td>0</td>\n",
       "      <td>442.7</td>\n",
       "      <td>549.4</td>\n",
       "      <td>...</td>\n",
       "      <td>A</td>\n",
       "      <td>A</td>\n",
       "      <td>0</td>\n",
       "      <td>0</td>\n",
       "      <td>0</td>\n",
       "      <td>0</td>\n",
       "      <td>0</td>\n",
       "      <td>0</td>\n",
       "      <td>0</td>\n",
       "      <td>6</td>\n",
       "    </tr>\n",
       "  </tbody>\n",
       "</table>\n",
       "<p>5513747 rows × 29 columns</p>\n",
       "</div>"
      ],
      "text/plain": [
       "        SG_UF_RESIDENCIA  NU_IDADE  TP_ESTADO_CIVIL  TP_COR_RACA  \\\n",
       "0                     DF      44.0              1.0            1   \n",
       "1                     MA      23.0              0.0            3   \n",
       "2                     SP      23.0              0.0            1   \n",
       "3                     BA      26.0              0.0            3   \n",
       "4                     BA      20.0              0.0            0   \n",
       "...                  ...       ...              ...          ...   \n",
       "5513742               RJ      56.0              1.0            1   \n",
       "5513743               AM      20.0              0.0            3   \n",
       "5513744               SP      17.0              0.0            3   \n",
       "5513745               SP      17.0              0.0            1   \n",
       "5513746               MG      21.0              0.0            3   \n",
       "\n",
       "         TP_ST_CONCLUSAO  TP_ANO_CONCLUIU  TP_ENSINO  IN_TREINEIRO  \\\n",
       "0                      2                0        1.0             0   \n",
       "1                      1                5        1.0             0   \n",
       "2                      1                3        3.0             0   \n",
       "3                      1                8        1.0             0   \n",
       "4                      2                0        1.0             0   \n",
       "...                  ...              ...        ...           ...   \n",
       "5513742                1                6        NaN             0   \n",
       "5513743                2                0        1.0             0   \n",
       "5513744                2                0        1.0             0   \n",
       "5513745                2                0        1.0             0   \n",
       "5513746                1                3        NaN             0   \n",
       "\n",
       "         NU_NOTA_CN  NU_NOTA_CH  ...  Q026  Q027  RENDIMENTO_CN  \\\n",
       "0               NaN         NaN  ...     B     A              0   \n",
       "1             521.0       568.7  ...     A     A              0   \n",
       "2               NaN         NaN  ...     A     A              0   \n",
       "3               NaN         NaN  ...     A     A              0   \n",
       "4               NaN       419.9  ...     B     A              0   \n",
       "...             ...         ...  ...   ...   ...            ...   \n",
       "5513742         NaN         NaN  ...     A     C              0   \n",
       "5513743       435.6       556.8  ...     B     A              0   \n",
       "5513744         NaN         NaN  ...     B     A              0   \n",
       "5513745       524.9       496.5  ...     B     C              0   \n",
       "5513746       442.7       549.4  ...     A     A              0   \n",
       "\n",
       "         RENDIMENTO_CH RENDIMENTO_LC RENDIMENTO_MT  RENDIMENTO_REDACAO  \\\n",
       "0                    0             0             0                   0   \n",
       "1                    0             0             0                   0   \n",
       "2                    0             0             0                   0   \n",
       "3                    0             0             0                   0   \n",
       "4                    0             0             0                   0   \n",
       "...                ...           ...           ...                 ...   \n",
       "5513742              0             0             0                   0   \n",
       "5513743              0             0             0                   0   \n",
       "5513744              0             0             0                   0   \n",
       "5513745              0             0             0                   0   \n",
       "5513746              0             0             0                   0   \n",
       "\n",
       "        MEDIA_GERAL RENDIMENTO_GERAL NU_IDADE_2  \n",
       "0                 0                0          7  \n",
       "1                 0                0          7  \n",
       "2                 0                0          7  \n",
       "3                 0                0          7  \n",
       "4                 0                0          5  \n",
       "...             ...              ...        ...  \n",
       "5513742           0                0          7  \n",
       "5513743           0                0          5  \n",
       "5513744           0                0          2  \n",
       "5513745           0                0          2  \n",
       "5513746           0                0          6  \n",
       "\n",
       "[5513747 rows x 29 columns]"
      ]
     },
     "execution_count": 11,
     "metadata": {},
     "output_type": "execute_result"
    }
   ],
   "source": [
    "dataset_enem"
   ]
  },
  {
   "cell_type": "code",
   "execution_count": 12,
   "metadata": {
    "colab": {
     "base_uri": "https://localhost:8080/",
     "height": 170
    },
    "colab_type": "code",
    "executionInfo": {
     "elapsed": 1421,
     "status": "ok",
     "timestamp": 1589935318319,
     "user": {
      "displayName": "Marcos Oliveira",
      "photoUrl": "https://lh3.googleusercontent.com/a-/AOh14GjtJc6boEovFWZizRLvOrpllW_GprehG4IpHp41=s64",
      "userId": "12258186870812423715"
     },
     "user_tz": 180
    },
    "id": "1nFzm6Sq_vS1",
    "outputId": "9fcc8b8a-58fe-4fae-c632-9e92f2744559"
   },
   "outputs": [
    {
     "data": {
      "text/plain": [
       "7    1693943\n",
       "3     928792\n",
       "2     878293\n",
       "4     617458\n",
       "6     580110\n",
       "5     424793\n",
       "1     384404\n",
       "0       5954\n",
       "Name: NU_IDADE_2, dtype: int64"
      ]
     },
     "execution_count": 12,
     "metadata": {},
     "output_type": "execute_result"
    }
   ],
   "source": [
    "dataset_enem.NU_IDADE_2.value_counts()"
   ]
  },
  {
   "cell_type": "code",
   "execution_count": 0,
   "metadata": {
    "colab": {},
    "colab_type": "code",
    "id": "jUPqGeQZBngR"
   },
   "outputs": [],
   "source": [
    "#TP_ESTADO_CIVIL"
   ]
  },
  {
   "cell_type": "code",
   "execution_count": 13,
   "metadata": {
    "colab": {
     "base_uri": "https://localhost:8080/",
     "height": 102
    },
    "colab_type": "code",
    "executionInfo": {
     "elapsed": 976,
     "status": "ok",
     "timestamp": 1589935323821,
     "user": {
      "displayName": "Marcos Oliveira",
      "photoUrl": "https://lh3.googleusercontent.com/a-/AOh14GjtJc6boEovFWZizRLvOrpllW_GprehG4IpHp41=s64",
      "userId": "12258186870812423715"
     },
     "user_tz": 180
    },
    "id": "GVdf42DTB7n6",
    "outputId": "41a7f77f-c137-4b7a-e2c4-52f8b801f1f6"
   },
   "outputs": [
    {
     "data": {
      "text/plain": [
       "0.0    4748654\n",
       "1.0     468245\n",
       "2.0      71890\n",
       "3.0       7321\n",
       "Name: TP_ESTADO_CIVIL, dtype: int64"
      ]
     },
     "execution_count": 13,
     "metadata": {},
     "output_type": "execute_result"
    }
   ],
   "source": [
    "dataset_enem.TP_ESTADO_CIVIL.value_counts()"
   ]
  },
  {
   "cell_type": "code",
   "execution_count": 14,
   "metadata": {
    "colab": {
     "base_uri": "https://localhost:8080/",
     "height": 68
    },
    "colab_type": "code",
    "executionInfo": {
     "elapsed": 931,
     "status": "ok",
     "timestamp": 1589909978589,
     "user": {
      "displayName": "Marcos Oliveira",
      "photoUrl": "https://lh3.googleusercontent.com/a-/AOh14GjtJc6boEovFWZizRLvOrpllW_GprehG4IpHp41=s64",
      "userId": "12258186870812423715"
     },
     "user_tz": 180
    },
    "id": "yAQzRfYmCEJu",
    "outputId": "9c02bb43-f349-4008-a0c2-df624aac50d4"
   },
   "outputs": [
    {
     "data": {
      "text/plain": [
       "True     5296110\n",
       "False     217637\n",
       "Name: TP_ESTADO_CIVIL, dtype: int64"
      ]
     },
     "execution_count": 14,
     "metadata": {},
     "output_type": "execute_result"
    }
   ],
   "source": [
    "pd.notna(dataset_enem.TP_ESTADO_CIVIL).value_counts()"
   ]
  },
  {
   "cell_type": "code",
   "execution_count": 15,
   "metadata": {
    "colab": {
     "base_uri": "https://localhost:8080/",
     "height": 102
    },
    "colab_type": "code",
    "executionInfo": {
     "elapsed": 1734,
     "status": "ok",
     "timestamp": 1589935440059,
     "user": {
      "displayName": "Marcos Oliveira",
      "photoUrl": "https://lh3.googleusercontent.com/a-/AOh14GjtJc6boEovFWZizRLvOrpllW_GprehG4IpHp41=s64",
      "userId": "12258186870812423715"
     },
     "user_tz": 180
    },
    "id": "kcBi0sUnA8sp",
    "outputId": "33de3ae0-65b1-413b-bbbf-4a9f06523768"
   },
   "outputs": [
    {
     "name": "stderr",
     "output_type": "stream",
     "text": [
      "C:\\Users\\Vinicius\\anaconda3\\lib\\site-packages\\ipykernel_launcher.py:1: SettingWithCopyWarning: \n",
      "A value is trying to be set on a copy of a slice from a DataFrame\n",
      "\n",
      "See the caveats in the documentation: https://pandas.pydata.org/pandas-docs/stable/user_guide/indexing.html#returning-a-view-versus-a-copy\n",
      "  \"\"\"Entry point for launching an IPython kernel.\n"
     ]
    }
   ],
   "source": [
    "dataset_enem.TP_ESTADO_CIVIL[(pd.notna(dataset_enem.TP_ESTADO_CIVIL)==False) & (dataset_enem.NU_IDADE <= 23)] = 1"
   ]
  },
  {
   "cell_type": "code",
   "execution_count": 16,
   "metadata": {
    "colab": {
     "base_uri": "https://localhost:8080/",
     "height": 68
    },
    "colab_type": "code",
    "executionInfo": {
     "elapsed": 991,
     "status": "ok",
     "timestamp": 1589935442784,
     "user": {
      "displayName": "Marcos Oliveira",
      "photoUrl": "https://lh3.googleusercontent.com/a-/AOh14GjtJc6boEovFWZizRLvOrpllW_GprehG4IpHp41=s64",
      "userId": "12258186870812423715"
     },
     "user_tz": 180
    },
    "id": "BbIuha7pBRww",
    "outputId": "c3c17a29-48ef-4a64-a16c-3dae9919034d"
   },
   "outputs": [
    {
     "data": {
      "text/plain": [
       "True     5388208\n",
       "False     125539\n",
       "Name: TP_ESTADO_CIVIL, dtype: int64"
      ]
     },
     "execution_count": 16,
     "metadata": {},
     "output_type": "execute_result"
    }
   ],
   "source": [
    "pd.notna(dataset_enem.TP_ESTADO_CIVIL).value_counts()"
   ]
  },
  {
   "cell_type": "code",
   "execution_count": 17,
   "metadata": {
    "colab": {},
    "colab_type": "code",
    "id": "tiVi42hQ99sy"
   },
   "outputs": [],
   "source": [
    "dataset_enem.dropna(subset=['TP_ESTADO_CIVIL'], inplace=True)"
   ]
  },
  {
   "cell_type": "code",
   "execution_count": 18,
   "metadata": {
    "colab": {
     "base_uri": "https://localhost:8080/",
     "height": 51
    },
    "colab_type": "code",
    "executionInfo": {
     "elapsed": 2590,
     "status": "ok",
     "timestamp": 1589935477813,
     "user": {
      "displayName": "Marcos Oliveira",
      "photoUrl": "https://lh3.googleusercontent.com/a-/AOh14GjtJc6boEovFWZizRLvOrpllW_GprehG4IpHp41=s64",
      "userId": "12258186870812423715"
     },
     "user_tz": 180
    },
    "id": "qG_hxunQ8Kjo",
    "outputId": "f2138e8d-5d99-48ad-9a04-39ae151b7602"
   },
   "outputs": [
    {
     "data": {
      "text/plain": [
       "True    5388208\n",
       "Name: TP_ESTADO_CIVIL, dtype: int64"
      ]
     },
     "execution_count": 18,
     "metadata": {},
     "output_type": "execute_result"
    }
   ],
   "source": [
    "pd.notna(dataset_enem.TP_ESTADO_CIVIL).value_counts()"
   ]
  },
  {
   "cell_type": "code",
   "execution_count": 19,
   "metadata": {
    "colab": {
     "base_uri": "https://localhost:8080/",
     "height": 102
    },
    "colab_type": "code",
    "executionInfo": {
     "elapsed": 1517,
     "status": "ok",
     "timestamp": 1589935481694,
     "user": {
      "displayName": "Marcos Oliveira",
      "photoUrl": "https://lh3.googleusercontent.com/a-/AOh14GjtJc6boEovFWZizRLvOrpllW_GprehG4IpHp41=s64",
      "userId": "12258186870812423715"
     },
     "user_tz": 180
    },
    "id": "_TEQD7ruCCEU",
    "outputId": "3c5cfbae-3b83-43eb-8d82-2690fd767cda"
   },
   "outputs": [
    {
     "data": {
      "text/plain": [
       "0.0    4748654\n",
       "1.0     560343\n",
       "2.0      71890\n",
       "3.0       7321\n",
       "Name: TP_ESTADO_CIVIL, dtype: int64"
      ]
     },
     "execution_count": 19,
     "metadata": {},
     "output_type": "execute_result"
    }
   ],
   "source": [
    "dataset_enem.TP_ESTADO_CIVIL.value_counts()"
   ]
  },
  {
   "cell_type": "code",
   "execution_count": 20,
   "metadata": {
    "colab": {
     "base_uri": "https://localhost:8080/",
     "height": 102
    },
    "colab_type": "code",
    "executionInfo": {
     "elapsed": 1891,
     "status": "ok",
     "timestamp": 1589935489522,
     "user": {
      "displayName": "Marcos Oliveira",
      "photoUrl": "https://lh3.googleusercontent.com/a-/AOh14GjtJc6boEovFWZizRLvOrpllW_GprehG4IpHp41=s64",
      "userId": "12258186870812423715"
     },
     "user_tz": 180
    },
    "id": "UqwpxsRf8MMR",
    "outputId": "5f803bff-6a65-43da-dc8f-f0ecfc1f7eec"
   },
   "outputs": [
    {
     "name": "stderr",
     "output_type": "stream",
     "text": [
      "C:\\Users\\Vinicius\\anaconda3\\lib\\site-packages\\ipykernel_launcher.py:1: SettingWithCopyWarning: \n",
      "A value is trying to be set on a copy of a slice from a DataFrame\n",
      "\n",
      "See the caveats in the documentation: https://pandas.pydata.org/pandas-docs/stable/user_guide/indexing.html#returning-a-view-versus-a-copy\n",
      "  \"\"\"Entry point for launching an IPython kernel.\n"
     ]
    }
   ],
   "source": [
    "dataset_enem.TP_ESTADO_CIVIL[(dataset_enem.TP_ESTADO_CIVIL)>=1] = 100"
   ]
  },
  {
   "cell_type": "code",
   "execution_count": 21,
   "metadata": {
    "colab": {
     "base_uri": "https://localhost:8080/",
     "height": 102
    },
    "colab_type": "code",
    "executionInfo": {
     "elapsed": 1127,
     "status": "ok",
     "timestamp": 1589935491834,
     "user": {
      "displayName": "Marcos Oliveira",
      "photoUrl": "https://lh3.googleusercontent.com/a-/AOh14GjtJc6boEovFWZizRLvOrpllW_GprehG4IpHp41=s64",
      "userId": "12258186870812423715"
     },
     "user_tz": 180
    },
    "id": "iUcfkAjaEOI6",
    "outputId": "24593bb1-c524-4bc4-95fa-44601ec2dbb1"
   },
   "outputs": [
    {
     "name": "stderr",
     "output_type": "stream",
     "text": [
      "C:\\Users\\Vinicius\\anaconda3\\lib\\site-packages\\ipykernel_launcher.py:1: SettingWithCopyWarning: \n",
      "A value is trying to be set on a copy of a slice from a DataFrame\n",
      "\n",
      "See the caveats in the documentation: https://pandas.pydata.org/pandas-docs/stable/user_guide/indexing.html#returning-a-view-versus-a-copy\n",
      "  \"\"\"Entry point for launching an IPython kernel.\n"
     ]
    }
   ],
   "source": [
    "dataset_enem.TP_ESTADO_CIVIL[(dataset_enem.TP_ESTADO_CIVIL)==0] = 1"
   ]
  },
  {
   "cell_type": "code",
   "execution_count": 22,
   "metadata": {
    "colab": {
     "base_uri": "https://localhost:8080/",
     "height": 102
    },
    "colab_type": "code",
    "executionInfo": {
     "elapsed": 1737,
     "status": "ok",
     "timestamp": 1589935497071,
     "user": {
      "displayName": "Marcos Oliveira",
      "photoUrl": "https://lh3.googleusercontent.com/a-/AOh14GjtJc6boEovFWZizRLvOrpllW_GprehG4IpHp41=s64",
      "userId": "12258186870812423715"
     },
     "user_tz": 180
    },
    "id": "TLWZCOF4Eoox",
    "outputId": "d54e1466-59d5-4d35-cd08-e4a1b7c5d50d"
   },
   "outputs": [
    {
     "name": "stderr",
     "output_type": "stream",
     "text": [
      "C:\\Users\\Vinicius\\anaconda3\\lib\\site-packages\\ipykernel_launcher.py:1: SettingWithCopyWarning: \n",
      "A value is trying to be set on a copy of a slice from a DataFrame\n",
      "\n",
      "See the caveats in the documentation: https://pandas.pydata.org/pandas-docs/stable/user_guide/indexing.html#returning-a-view-versus-a-copy\n",
      "  \"\"\"Entry point for launching an IPython kernel.\n"
     ]
    }
   ],
   "source": [
    "dataset_enem.TP_ESTADO_CIVIL[(dataset_enem.TP_ESTADO_CIVIL)==100] = 0"
   ]
  },
  {
   "cell_type": "code",
   "execution_count": 23,
   "metadata": {
    "colab": {
     "base_uri": "https://localhost:8080/",
     "height": 68
    },
    "colab_type": "code",
    "executionInfo": {
     "elapsed": 1079,
     "status": "ok",
     "timestamp": 1589935499318,
     "user": {
      "displayName": "Marcos Oliveira",
      "photoUrl": "https://lh3.googleusercontent.com/a-/AOh14GjtJc6boEovFWZizRLvOrpllW_GprehG4IpHp41=s64",
      "userId": "12258186870812423715"
     },
     "user_tz": 180
    },
    "id": "9FXZcEatCZjK",
    "outputId": "b18e13ef-031f-4bba-986f-28445aa82439"
   },
   "outputs": [
    {
     "data": {
      "text/plain": [
       "1.0    4748654\n",
       "0.0     639554\n",
       "Name: TP_ESTADO_CIVIL, dtype: int64"
      ]
     },
     "execution_count": 23,
     "metadata": {},
     "output_type": "execute_result"
    }
   ],
   "source": [
    "dataset_enem.TP_ESTADO_CIVIL.value_counts()"
   ]
  },
  {
   "cell_type": "code",
   "execution_count": 24,
   "metadata": {
    "colab": {
     "base_uri": "https://localhost:8080/",
     "height": 51
    },
    "colab_type": "code",
    "executionInfo": {
     "elapsed": 1495,
     "status": "ok",
     "timestamp": 1589935505781,
     "user": {
      "displayName": "Marcos Oliveira",
      "photoUrl": "https://lh3.googleusercontent.com/a-/AOh14GjtJc6boEovFWZizRLvOrpllW_GprehG4IpHp41=s64",
      "userId": "12258186870812423715"
     },
     "user_tz": 180
    },
    "id": "0yUc8ucS8eAs",
    "outputId": "622daf23-3985-4cd1-e070-d08110fdaab2"
   },
   "outputs": [
    {
     "data": {
      "text/plain": [
       "True    5388208\n",
       "Name: TP_ESTADO_CIVIL, dtype: int64"
      ]
     },
     "execution_count": 24,
     "metadata": {},
     "output_type": "execute_result"
    }
   ],
   "source": [
    "pd.notna(dataset_enem.TP_ESTADO_CIVIL).value_counts()"
   ]
  },
  {
   "cell_type": "code",
   "execution_count": 25,
   "metadata": {
    "colab": {
     "base_uri": "https://localhost:8080/",
     "height": 439
    },
    "colab_type": "code",
    "executionInfo": {
     "elapsed": 976,
     "status": "ok",
     "timestamp": 1589935508695,
     "user": {
      "displayName": "Marcos Oliveira",
      "photoUrl": "https://lh3.googleusercontent.com/a-/AOh14GjtJc6boEovFWZizRLvOrpllW_GprehG4IpHp41=s64",
      "userId": "12258186870812423715"
     },
     "user_tz": 180
    },
    "id": "4syxOP8ZE42w",
    "outputId": "1a4ec786-bbf7-4dcb-a8ab-ac43e53f28e7"
   },
   "outputs": [
    {
     "data": {
      "text/html": [
       "<div>\n",
       "<style scoped>\n",
       "    .dataframe tbody tr th:only-of-type {\n",
       "        vertical-align: middle;\n",
       "    }\n",
       "\n",
       "    .dataframe tbody tr th {\n",
       "        vertical-align: top;\n",
       "    }\n",
       "\n",
       "    .dataframe thead th {\n",
       "        text-align: right;\n",
       "    }\n",
       "</style>\n",
       "<table border=\"1\" class=\"dataframe\">\n",
       "  <thead>\n",
       "    <tr style=\"text-align: right;\">\n",
       "      <th></th>\n",
       "      <th>SG_UF_RESIDENCIA</th>\n",
       "      <th>NU_IDADE</th>\n",
       "      <th>TP_ESTADO_CIVIL</th>\n",
       "      <th>TP_COR_RACA</th>\n",
       "      <th>TP_ST_CONCLUSAO</th>\n",
       "      <th>TP_ANO_CONCLUIU</th>\n",
       "      <th>TP_ENSINO</th>\n",
       "      <th>IN_TREINEIRO</th>\n",
       "      <th>NU_NOTA_CN</th>\n",
       "      <th>NU_NOTA_CH</th>\n",
       "      <th>...</th>\n",
       "      <th>Q026</th>\n",
       "      <th>Q027</th>\n",
       "      <th>RENDIMENTO_CN</th>\n",
       "      <th>RENDIMENTO_CH</th>\n",
       "      <th>RENDIMENTO_LC</th>\n",
       "      <th>RENDIMENTO_MT</th>\n",
       "      <th>RENDIMENTO_REDACAO</th>\n",
       "      <th>MEDIA_GERAL</th>\n",
       "      <th>RENDIMENTO_GERAL</th>\n",
       "      <th>NU_IDADE_2</th>\n",
       "    </tr>\n",
       "  </thead>\n",
       "  <tbody>\n",
       "    <tr>\n",
       "      <th>0</th>\n",
       "      <td>DF</td>\n",
       "      <td>44.0</td>\n",
       "      <td>0.0</td>\n",
       "      <td>1</td>\n",
       "      <td>2</td>\n",
       "      <td>0</td>\n",
       "      <td>1.0</td>\n",
       "      <td>0</td>\n",
       "      <td>NaN</td>\n",
       "      <td>NaN</td>\n",
       "      <td>...</td>\n",
       "      <td>B</td>\n",
       "      <td>A</td>\n",
       "      <td>0</td>\n",
       "      <td>0</td>\n",
       "      <td>0</td>\n",
       "      <td>0</td>\n",
       "      <td>0</td>\n",
       "      <td>0</td>\n",
       "      <td>0</td>\n",
       "      <td>7</td>\n",
       "    </tr>\n",
       "    <tr>\n",
       "      <th>1</th>\n",
       "      <td>MA</td>\n",
       "      <td>23.0</td>\n",
       "      <td>1.0</td>\n",
       "      <td>3</td>\n",
       "      <td>1</td>\n",
       "      <td>5</td>\n",
       "      <td>1.0</td>\n",
       "      <td>0</td>\n",
       "      <td>521.0</td>\n",
       "      <td>568.7</td>\n",
       "      <td>...</td>\n",
       "      <td>A</td>\n",
       "      <td>A</td>\n",
       "      <td>0</td>\n",
       "      <td>0</td>\n",
       "      <td>0</td>\n",
       "      <td>0</td>\n",
       "      <td>0</td>\n",
       "      <td>0</td>\n",
       "      <td>0</td>\n",
       "      <td>7</td>\n",
       "    </tr>\n",
       "    <tr>\n",
       "      <th>2</th>\n",
       "      <td>SP</td>\n",
       "      <td>23.0</td>\n",
       "      <td>1.0</td>\n",
       "      <td>1</td>\n",
       "      <td>1</td>\n",
       "      <td>3</td>\n",
       "      <td>3.0</td>\n",
       "      <td>0</td>\n",
       "      <td>NaN</td>\n",
       "      <td>NaN</td>\n",
       "      <td>...</td>\n",
       "      <td>A</td>\n",
       "      <td>A</td>\n",
       "      <td>0</td>\n",
       "      <td>0</td>\n",
       "      <td>0</td>\n",
       "      <td>0</td>\n",
       "      <td>0</td>\n",
       "      <td>0</td>\n",
       "      <td>0</td>\n",
       "      <td>7</td>\n",
       "    </tr>\n",
       "    <tr>\n",
       "      <th>3</th>\n",
       "      <td>BA</td>\n",
       "      <td>26.0</td>\n",
       "      <td>1.0</td>\n",
       "      <td>3</td>\n",
       "      <td>1</td>\n",
       "      <td>8</td>\n",
       "      <td>1.0</td>\n",
       "      <td>0</td>\n",
       "      <td>NaN</td>\n",
       "      <td>NaN</td>\n",
       "      <td>...</td>\n",
       "      <td>A</td>\n",
       "      <td>A</td>\n",
       "      <td>0</td>\n",
       "      <td>0</td>\n",
       "      <td>0</td>\n",
       "      <td>0</td>\n",
       "      <td>0</td>\n",
       "      <td>0</td>\n",
       "      <td>0</td>\n",
       "      <td>7</td>\n",
       "    </tr>\n",
       "    <tr>\n",
       "      <th>4</th>\n",
       "      <td>BA</td>\n",
       "      <td>20.0</td>\n",
       "      <td>1.0</td>\n",
       "      <td>0</td>\n",
       "      <td>2</td>\n",
       "      <td>0</td>\n",
       "      <td>1.0</td>\n",
       "      <td>0</td>\n",
       "      <td>NaN</td>\n",
       "      <td>419.9</td>\n",
       "      <td>...</td>\n",
       "      <td>B</td>\n",
       "      <td>A</td>\n",
       "      <td>0</td>\n",
       "      <td>0</td>\n",
       "      <td>0</td>\n",
       "      <td>0</td>\n",
       "      <td>0</td>\n",
       "      <td>0</td>\n",
       "      <td>0</td>\n",
       "      <td>5</td>\n",
       "    </tr>\n",
       "    <tr>\n",
       "      <th>...</th>\n",
       "      <td>...</td>\n",
       "      <td>...</td>\n",
       "      <td>...</td>\n",
       "      <td>...</td>\n",
       "      <td>...</td>\n",
       "      <td>...</td>\n",
       "      <td>...</td>\n",
       "      <td>...</td>\n",
       "      <td>...</td>\n",
       "      <td>...</td>\n",
       "      <td>...</td>\n",
       "      <td>...</td>\n",
       "      <td>...</td>\n",
       "      <td>...</td>\n",
       "      <td>...</td>\n",
       "      <td>...</td>\n",
       "      <td>...</td>\n",
       "      <td>...</td>\n",
       "      <td>...</td>\n",
       "      <td>...</td>\n",
       "      <td>...</td>\n",
       "    </tr>\n",
       "    <tr>\n",
       "      <th>5513742</th>\n",
       "      <td>RJ</td>\n",
       "      <td>56.0</td>\n",
       "      <td>0.0</td>\n",
       "      <td>1</td>\n",
       "      <td>1</td>\n",
       "      <td>6</td>\n",
       "      <td>NaN</td>\n",
       "      <td>0</td>\n",
       "      <td>NaN</td>\n",
       "      <td>NaN</td>\n",
       "      <td>...</td>\n",
       "      <td>A</td>\n",
       "      <td>C</td>\n",
       "      <td>0</td>\n",
       "      <td>0</td>\n",
       "      <td>0</td>\n",
       "      <td>0</td>\n",
       "      <td>0</td>\n",
       "      <td>0</td>\n",
       "      <td>0</td>\n",
       "      <td>7</td>\n",
       "    </tr>\n",
       "    <tr>\n",
       "      <th>5513743</th>\n",
       "      <td>AM</td>\n",
       "      <td>20.0</td>\n",
       "      <td>1.0</td>\n",
       "      <td>3</td>\n",
       "      <td>2</td>\n",
       "      <td>0</td>\n",
       "      <td>1.0</td>\n",
       "      <td>0</td>\n",
       "      <td>435.6</td>\n",
       "      <td>556.8</td>\n",
       "      <td>...</td>\n",
       "      <td>B</td>\n",
       "      <td>A</td>\n",
       "      <td>0</td>\n",
       "      <td>0</td>\n",
       "      <td>0</td>\n",
       "      <td>0</td>\n",
       "      <td>0</td>\n",
       "      <td>0</td>\n",
       "      <td>0</td>\n",
       "      <td>5</td>\n",
       "    </tr>\n",
       "    <tr>\n",
       "      <th>5513744</th>\n",
       "      <td>SP</td>\n",
       "      <td>17.0</td>\n",
       "      <td>1.0</td>\n",
       "      <td>3</td>\n",
       "      <td>2</td>\n",
       "      <td>0</td>\n",
       "      <td>1.0</td>\n",
       "      <td>0</td>\n",
       "      <td>NaN</td>\n",
       "      <td>NaN</td>\n",
       "      <td>...</td>\n",
       "      <td>B</td>\n",
       "      <td>A</td>\n",
       "      <td>0</td>\n",
       "      <td>0</td>\n",
       "      <td>0</td>\n",
       "      <td>0</td>\n",
       "      <td>0</td>\n",
       "      <td>0</td>\n",
       "      <td>0</td>\n",
       "      <td>2</td>\n",
       "    </tr>\n",
       "    <tr>\n",
       "      <th>5513745</th>\n",
       "      <td>SP</td>\n",
       "      <td>17.0</td>\n",
       "      <td>1.0</td>\n",
       "      <td>1</td>\n",
       "      <td>2</td>\n",
       "      <td>0</td>\n",
       "      <td>1.0</td>\n",
       "      <td>0</td>\n",
       "      <td>524.9</td>\n",
       "      <td>496.5</td>\n",
       "      <td>...</td>\n",
       "      <td>B</td>\n",
       "      <td>C</td>\n",
       "      <td>0</td>\n",
       "      <td>0</td>\n",
       "      <td>0</td>\n",
       "      <td>0</td>\n",
       "      <td>0</td>\n",
       "      <td>0</td>\n",
       "      <td>0</td>\n",
       "      <td>2</td>\n",
       "    </tr>\n",
       "    <tr>\n",
       "      <th>5513746</th>\n",
       "      <td>MG</td>\n",
       "      <td>21.0</td>\n",
       "      <td>1.0</td>\n",
       "      <td>3</td>\n",
       "      <td>1</td>\n",
       "      <td>3</td>\n",
       "      <td>NaN</td>\n",
       "      <td>0</td>\n",
       "      <td>442.7</td>\n",
       "      <td>549.4</td>\n",
       "      <td>...</td>\n",
       "      <td>A</td>\n",
       "      <td>A</td>\n",
       "      <td>0</td>\n",
       "      <td>0</td>\n",
       "      <td>0</td>\n",
       "      <td>0</td>\n",
       "      <td>0</td>\n",
       "      <td>0</td>\n",
       "      <td>0</td>\n",
       "      <td>6</td>\n",
       "    </tr>\n",
       "  </tbody>\n",
       "</table>\n",
       "<p>5388208 rows × 29 columns</p>\n",
       "</div>"
      ],
      "text/plain": [
       "        SG_UF_RESIDENCIA  NU_IDADE  TP_ESTADO_CIVIL  TP_COR_RACA  \\\n",
       "0                     DF      44.0              0.0            1   \n",
       "1                     MA      23.0              1.0            3   \n",
       "2                     SP      23.0              1.0            1   \n",
       "3                     BA      26.0              1.0            3   \n",
       "4                     BA      20.0              1.0            0   \n",
       "...                  ...       ...              ...          ...   \n",
       "5513742               RJ      56.0              0.0            1   \n",
       "5513743               AM      20.0              1.0            3   \n",
       "5513744               SP      17.0              1.0            3   \n",
       "5513745               SP      17.0              1.0            1   \n",
       "5513746               MG      21.0              1.0            3   \n",
       "\n",
       "         TP_ST_CONCLUSAO  TP_ANO_CONCLUIU  TP_ENSINO  IN_TREINEIRO  \\\n",
       "0                      2                0        1.0             0   \n",
       "1                      1                5        1.0             0   \n",
       "2                      1                3        3.0             0   \n",
       "3                      1                8        1.0             0   \n",
       "4                      2                0        1.0             0   \n",
       "...                  ...              ...        ...           ...   \n",
       "5513742                1                6        NaN             0   \n",
       "5513743                2                0        1.0             0   \n",
       "5513744                2                0        1.0             0   \n",
       "5513745                2                0        1.0             0   \n",
       "5513746                1                3        NaN             0   \n",
       "\n",
       "         NU_NOTA_CN  NU_NOTA_CH  ...  Q026  Q027  RENDIMENTO_CN  \\\n",
       "0               NaN         NaN  ...     B     A              0   \n",
       "1             521.0       568.7  ...     A     A              0   \n",
       "2               NaN         NaN  ...     A     A              0   \n",
       "3               NaN         NaN  ...     A     A              0   \n",
       "4               NaN       419.9  ...     B     A              0   \n",
       "...             ...         ...  ...   ...   ...            ...   \n",
       "5513742         NaN         NaN  ...     A     C              0   \n",
       "5513743       435.6       556.8  ...     B     A              0   \n",
       "5513744         NaN         NaN  ...     B     A              0   \n",
       "5513745       524.9       496.5  ...     B     C              0   \n",
       "5513746       442.7       549.4  ...     A     A              0   \n",
       "\n",
       "         RENDIMENTO_CH RENDIMENTO_LC RENDIMENTO_MT  RENDIMENTO_REDACAO  \\\n",
       "0                    0             0             0                   0   \n",
       "1                    0             0             0                   0   \n",
       "2                    0             0             0                   0   \n",
       "3                    0             0             0                   0   \n",
       "4                    0             0             0                   0   \n",
       "...                ...           ...           ...                 ...   \n",
       "5513742              0             0             0                   0   \n",
       "5513743              0             0             0                   0   \n",
       "5513744              0             0             0                   0   \n",
       "5513745              0             0             0                   0   \n",
       "5513746              0             0             0                   0   \n",
       "\n",
       "        MEDIA_GERAL RENDIMENTO_GERAL NU_IDADE_2  \n",
       "0                 0                0          7  \n",
       "1                 0                0          7  \n",
       "2                 0                0          7  \n",
       "3                 0                0          7  \n",
       "4                 0                0          5  \n",
       "...             ...              ...        ...  \n",
       "5513742           0                0          7  \n",
       "5513743           0                0          5  \n",
       "5513744           0                0          2  \n",
       "5513745           0                0          2  \n",
       "5513746           0                0          6  \n",
       "\n",
       "[5388208 rows x 29 columns]"
      ]
     },
     "execution_count": 25,
     "metadata": {},
     "output_type": "execute_result"
    }
   ],
   "source": [
    "dataset_enem"
   ]
  },
  {
   "cell_type": "code",
   "execution_count": 26,
   "metadata": {
    "colab": {},
    "colab_type": "code",
    "id": "M-VdRX0uE9HM"
   },
   "outputs": [],
   "source": [
    "#TP_COR_RACA  "
   ]
  },
  {
   "cell_type": "code",
   "execution_count": 27,
   "metadata": {
    "colab": {
     "base_uri": "https://localhost:8080/",
     "height": 136
    },
    "colab_type": "code",
    "executionInfo": {
     "elapsed": 1520,
     "status": "ok",
     "timestamp": 1589935529505,
     "user": {
      "displayName": "Marcos Oliveira",
      "photoUrl": "https://lh3.googleusercontent.com/a-/AOh14GjtJc6boEovFWZizRLvOrpllW_GprehG4IpHp41=s64",
      "userId": "12258186870812423715"
     },
     "user_tz": 180
    },
    "id": "joxp3agVE_2J",
    "outputId": "2c755e0f-d707-41de-84d5-525ca0cc8fa8"
   },
   "outputs": [
    {
     "data": {
      "text/plain": [
       "3    2500790\n",
       "1    1943770\n",
       "2     680331\n",
       "4     121083\n",
       "0     109105\n",
       "5      33129\n",
       "Name: TP_COR_RACA, dtype: int64"
      ]
     },
     "execution_count": 27,
     "metadata": {},
     "output_type": "execute_result"
    }
   ],
   "source": [
    "dataset_enem.TP_COR_RACA.value_counts()"
   ]
  },
  {
   "cell_type": "code",
   "execution_count": 28,
   "metadata": {
    "colab": {
     "base_uri": "https://localhost:8080/",
     "height": 51
    },
    "colab_type": "code",
    "executionInfo": {
     "elapsed": 3625,
     "status": "ok",
     "timestamp": 1589935539215,
     "user": {
      "displayName": "Marcos Oliveira",
      "photoUrl": "https://lh3.googleusercontent.com/a-/AOh14GjtJc6boEovFWZizRLvOrpllW_GprehG4IpHp41=s64",
      "userId": "12258186870812423715"
     },
     "user_tz": 180
    },
    "id": "OqU56I1fFIZg",
    "outputId": "0d510683-4824-4ccd-81a2-058233d1c1d1"
   },
   "outputs": [
    {
     "data": {
      "text/plain": [
       "True    5388208\n",
       "Name: TP_COR_RACA, dtype: int64"
      ]
     },
     "execution_count": 28,
     "metadata": {},
     "output_type": "execute_result"
    }
   ],
   "source": [
    "pd.notna(dataset_enem.TP_COR_RACA).value_counts()"
   ]
  },
  {
   "cell_type": "code",
   "execution_count": 29,
   "metadata": {
    "colab": {},
    "colab_type": "code",
    "id": "kunMadCcFOSb"
   },
   "outputs": [],
   "source": [
    "dataset_enem.dropna(subset=['TP_COR_RACA'], inplace=True)"
   ]
  },
  {
   "cell_type": "code",
   "execution_count": 30,
   "metadata": {
    "colab": {
     "base_uri": "https://localhost:8080/",
     "height": 136
    },
    "colab_type": "code",
    "executionInfo": {
     "elapsed": 959,
     "status": "ok",
     "timestamp": 1589935548193,
     "user": {
      "displayName": "Marcos Oliveira",
      "photoUrl": "https://lh3.googleusercontent.com/a-/AOh14GjtJc6boEovFWZizRLvOrpllW_GprehG4IpHp41=s64",
      "userId": "12258186870812423715"
     },
     "user_tz": 180
    },
    "id": "Kx_siBBOGowu",
    "outputId": "a8ad3d72-d3ea-4eb6-a53e-74fd45dd10df"
   },
   "outputs": [
    {
     "data": {
      "text/plain": [
       "3    2500790\n",
       "1    1943770\n",
       "2     680331\n",
       "4     121083\n",
       "0     109105\n",
       "5      33129\n",
       "Name: TP_COR_RACA, dtype: int64"
      ]
     },
     "execution_count": 30,
     "metadata": {},
     "output_type": "execute_result"
    }
   ],
   "source": [
    "dataset_enem.TP_COR_RACA.value_counts()"
   ]
  },
  {
   "cell_type": "code",
   "execution_count": 31,
   "metadata": {
    "colab": {
     "base_uri": "https://localhost:8080/",
     "height": 102
    },
    "colab_type": "code",
    "executionInfo": {
     "elapsed": 1121,
     "status": "ok",
     "timestamp": 1589935560947,
     "user": {
      "displayName": "Marcos Oliveira",
      "photoUrl": "https://lh3.googleusercontent.com/a-/AOh14GjtJc6boEovFWZizRLvOrpllW_GprehG4IpHp41=s64",
      "userId": "12258186870812423715"
     },
     "user_tz": 180
    },
    "id": "KWBqFLneGvat",
    "outputId": "71ec7615-121c-47d2-d477-5a754b36da97"
   },
   "outputs": [
    {
     "name": "stderr",
     "output_type": "stream",
     "text": [
      "C:\\Users\\Vinicius\\anaconda3\\lib\\site-packages\\ipykernel_launcher.py:1: SettingWithCopyWarning: \n",
      "A value is trying to be set on a copy of a slice from a DataFrame\n",
      "\n",
      "See the caveats in the documentation: https://pandas.pydata.org/pandas-docs/stable/user_guide/indexing.html#returning-a-view-versus-a-copy\n",
      "  \"\"\"Entry point for launching an IPython kernel.\n"
     ]
    }
   ],
   "source": [
    "dataset_enem.TP_COR_RACA[(dataset_enem.TP_COR_RACA ==1) | (dataset_enem.TP_COR_RACA ==4)] = 0"
   ]
  },
  {
   "cell_type": "code",
   "execution_count": 32,
   "metadata": {
    "colab": {
     "base_uri": "https://localhost:8080/",
     "height": 102
    },
    "colab_type": "code",
    "executionInfo": {
     "elapsed": 1084,
     "status": "ok",
     "timestamp": 1589935563095,
     "user": {
      "displayName": "Marcos Oliveira",
      "photoUrl": "https://lh3.googleusercontent.com/a-/AOh14GjtJc6boEovFWZizRLvOrpllW_GprehG4IpHp41=s64",
      "userId": "12258186870812423715"
     },
     "user_tz": 180
    },
    "id": "CBqHa9nPHklB",
    "outputId": "f2456b25-d827-4513-b974-b14c3ad8f09c"
   },
   "outputs": [
    {
     "name": "stderr",
     "output_type": "stream",
     "text": [
      "C:\\Users\\Vinicius\\anaconda3\\lib\\site-packages\\ipykernel_launcher.py:1: SettingWithCopyWarning: \n",
      "A value is trying to be set on a copy of a slice from a DataFrame\n",
      "\n",
      "See the caveats in the documentation: https://pandas.pydata.org/pandas-docs/stable/user_guide/indexing.html#returning-a-view-versus-a-copy\n",
      "  \"\"\"Entry point for launching an IPython kernel.\n"
     ]
    }
   ],
   "source": [
    "dataset_enem.TP_COR_RACA[(dataset_enem.TP_COR_RACA ==2) | (dataset_enem.TP_COR_RACA ==3)] = 1"
   ]
  },
  {
   "cell_type": "code",
   "execution_count": 33,
   "metadata": {
    "colab": {
     "base_uri": "https://localhost:8080/",
     "height": 102
    },
    "colab_type": "code",
    "executionInfo": {
     "elapsed": 1460,
     "status": "ok",
     "timestamp": 1589935571719,
     "user": {
      "displayName": "Marcos Oliveira",
      "photoUrl": "https://lh3.googleusercontent.com/a-/AOh14GjtJc6boEovFWZizRLvOrpllW_GprehG4IpHp41=s64",
      "userId": "12258186870812423715"
     },
     "user_tz": 180
    },
    "id": "gAxJTsgFHyXZ",
    "outputId": "68da1743-aff6-4cab-d6ad-17667a40e419"
   },
   "outputs": [
    {
     "name": "stderr",
     "output_type": "stream",
     "text": [
      "C:\\Users\\Vinicius\\anaconda3\\lib\\site-packages\\ipykernel_launcher.py:1: SettingWithCopyWarning: \n",
      "A value is trying to be set on a copy of a slice from a DataFrame\n",
      "\n",
      "See the caveats in the documentation: https://pandas.pydata.org/pandas-docs/stable/user_guide/indexing.html#returning-a-view-versus-a-copy\n",
      "  \"\"\"Entry point for launching an IPython kernel.\n"
     ]
    }
   ],
   "source": [
    "dataset_enem.TP_COR_RACA[(dataset_enem.TP_COR_RACA == 5)] = 2"
   ]
  },
  {
   "cell_type": "code",
   "execution_count": 34,
   "metadata": {
    "colab": {
     "base_uri": "https://localhost:8080/",
     "height": 439
    },
    "colab_type": "code",
    "executionInfo": {
     "elapsed": 1015,
     "status": "ok",
     "timestamp": 1589935575561,
     "user": {
      "displayName": "Marcos Oliveira",
      "photoUrl": "https://lh3.googleusercontent.com/a-/AOh14GjtJc6boEovFWZizRLvOrpllW_GprehG4IpHp41=s64",
      "userId": "12258186870812423715"
     },
     "user_tz": 180
    },
    "id": "_OGCiz_0H6VS",
    "outputId": "d9945901-ca69-4286-a4cd-8b8c3d30ce9a"
   },
   "outputs": [
    {
     "data": {
      "text/html": [
       "<div>\n",
       "<style scoped>\n",
       "    .dataframe tbody tr th:only-of-type {\n",
       "        vertical-align: middle;\n",
       "    }\n",
       "\n",
       "    .dataframe tbody tr th {\n",
       "        vertical-align: top;\n",
       "    }\n",
       "\n",
       "    .dataframe thead th {\n",
       "        text-align: right;\n",
       "    }\n",
       "</style>\n",
       "<table border=\"1\" class=\"dataframe\">\n",
       "  <thead>\n",
       "    <tr style=\"text-align: right;\">\n",
       "      <th></th>\n",
       "      <th>SG_UF_RESIDENCIA</th>\n",
       "      <th>NU_IDADE</th>\n",
       "      <th>TP_ESTADO_CIVIL</th>\n",
       "      <th>TP_COR_RACA</th>\n",
       "      <th>TP_ST_CONCLUSAO</th>\n",
       "      <th>TP_ANO_CONCLUIU</th>\n",
       "      <th>TP_ENSINO</th>\n",
       "      <th>IN_TREINEIRO</th>\n",
       "      <th>NU_NOTA_CN</th>\n",
       "      <th>NU_NOTA_CH</th>\n",
       "      <th>...</th>\n",
       "      <th>Q026</th>\n",
       "      <th>Q027</th>\n",
       "      <th>RENDIMENTO_CN</th>\n",
       "      <th>RENDIMENTO_CH</th>\n",
       "      <th>RENDIMENTO_LC</th>\n",
       "      <th>RENDIMENTO_MT</th>\n",
       "      <th>RENDIMENTO_REDACAO</th>\n",
       "      <th>MEDIA_GERAL</th>\n",
       "      <th>RENDIMENTO_GERAL</th>\n",
       "      <th>NU_IDADE_2</th>\n",
       "    </tr>\n",
       "  </thead>\n",
       "  <tbody>\n",
       "    <tr>\n",
       "      <th>0</th>\n",
       "      <td>DF</td>\n",
       "      <td>44.0</td>\n",
       "      <td>0.0</td>\n",
       "      <td>0</td>\n",
       "      <td>2</td>\n",
       "      <td>0</td>\n",
       "      <td>1.0</td>\n",
       "      <td>0</td>\n",
       "      <td>NaN</td>\n",
       "      <td>NaN</td>\n",
       "      <td>...</td>\n",
       "      <td>B</td>\n",
       "      <td>A</td>\n",
       "      <td>0</td>\n",
       "      <td>0</td>\n",
       "      <td>0</td>\n",
       "      <td>0</td>\n",
       "      <td>0</td>\n",
       "      <td>0</td>\n",
       "      <td>0</td>\n",
       "      <td>7</td>\n",
       "    </tr>\n",
       "    <tr>\n",
       "      <th>1</th>\n",
       "      <td>MA</td>\n",
       "      <td>23.0</td>\n",
       "      <td>1.0</td>\n",
       "      <td>1</td>\n",
       "      <td>1</td>\n",
       "      <td>5</td>\n",
       "      <td>1.0</td>\n",
       "      <td>0</td>\n",
       "      <td>521.0</td>\n",
       "      <td>568.7</td>\n",
       "      <td>...</td>\n",
       "      <td>A</td>\n",
       "      <td>A</td>\n",
       "      <td>0</td>\n",
       "      <td>0</td>\n",
       "      <td>0</td>\n",
       "      <td>0</td>\n",
       "      <td>0</td>\n",
       "      <td>0</td>\n",
       "      <td>0</td>\n",
       "      <td>7</td>\n",
       "    </tr>\n",
       "    <tr>\n",
       "      <th>2</th>\n",
       "      <td>SP</td>\n",
       "      <td>23.0</td>\n",
       "      <td>1.0</td>\n",
       "      <td>0</td>\n",
       "      <td>1</td>\n",
       "      <td>3</td>\n",
       "      <td>3.0</td>\n",
       "      <td>0</td>\n",
       "      <td>NaN</td>\n",
       "      <td>NaN</td>\n",
       "      <td>...</td>\n",
       "      <td>A</td>\n",
       "      <td>A</td>\n",
       "      <td>0</td>\n",
       "      <td>0</td>\n",
       "      <td>0</td>\n",
       "      <td>0</td>\n",
       "      <td>0</td>\n",
       "      <td>0</td>\n",
       "      <td>0</td>\n",
       "      <td>7</td>\n",
       "    </tr>\n",
       "    <tr>\n",
       "      <th>3</th>\n",
       "      <td>BA</td>\n",
       "      <td>26.0</td>\n",
       "      <td>1.0</td>\n",
       "      <td>1</td>\n",
       "      <td>1</td>\n",
       "      <td>8</td>\n",
       "      <td>1.0</td>\n",
       "      <td>0</td>\n",
       "      <td>NaN</td>\n",
       "      <td>NaN</td>\n",
       "      <td>...</td>\n",
       "      <td>A</td>\n",
       "      <td>A</td>\n",
       "      <td>0</td>\n",
       "      <td>0</td>\n",
       "      <td>0</td>\n",
       "      <td>0</td>\n",
       "      <td>0</td>\n",
       "      <td>0</td>\n",
       "      <td>0</td>\n",
       "      <td>7</td>\n",
       "    </tr>\n",
       "    <tr>\n",
       "      <th>4</th>\n",
       "      <td>BA</td>\n",
       "      <td>20.0</td>\n",
       "      <td>1.0</td>\n",
       "      <td>0</td>\n",
       "      <td>2</td>\n",
       "      <td>0</td>\n",
       "      <td>1.0</td>\n",
       "      <td>0</td>\n",
       "      <td>NaN</td>\n",
       "      <td>419.9</td>\n",
       "      <td>...</td>\n",
       "      <td>B</td>\n",
       "      <td>A</td>\n",
       "      <td>0</td>\n",
       "      <td>0</td>\n",
       "      <td>0</td>\n",
       "      <td>0</td>\n",
       "      <td>0</td>\n",
       "      <td>0</td>\n",
       "      <td>0</td>\n",
       "      <td>5</td>\n",
       "    </tr>\n",
       "    <tr>\n",
       "      <th>...</th>\n",
       "      <td>...</td>\n",
       "      <td>...</td>\n",
       "      <td>...</td>\n",
       "      <td>...</td>\n",
       "      <td>...</td>\n",
       "      <td>...</td>\n",
       "      <td>...</td>\n",
       "      <td>...</td>\n",
       "      <td>...</td>\n",
       "      <td>...</td>\n",
       "      <td>...</td>\n",
       "      <td>...</td>\n",
       "      <td>...</td>\n",
       "      <td>...</td>\n",
       "      <td>...</td>\n",
       "      <td>...</td>\n",
       "      <td>...</td>\n",
       "      <td>...</td>\n",
       "      <td>...</td>\n",
       "      <td>...</td>\n",
       "      <td>...</td>\n",
       "    </tr>\n",
       "    <tr>\n",
       "      <th>5513742</th>\n",
       "      <td>RJ</td>\n",
       "      <td>56.0</td>\n",
       "      <td>0.0</td>\n",
       "      <td>0</td>\n",
       "      <td>1</td>\n",
       "      <td>6</td>\n",
       "      <td>NaN</td>\n",
       "      <td>0</td>\n",
       "      <td>NaN</td>\n",
       "      <td>NaN</td>\n",
       "      <td>...</td>\n",
       "      <td>A</td>\n",
       "      <td>C</td>\n",
       "      <td>0</td>\n",
       "      <td>0</td>\n",
       "      <td>0</td>\n",
       "      <td>0</td>\n",
       "      <td>0</td>\n",
       "      <td>0</td>\n",
       "      <td>0</td>\n",
       "      <td>7</td>\n",
       "    </tr>\n",
       "    <tr>\n",
       "      <th>5513743</th>\n",
       "      <td>AM</td>\n",
       "      <td>20.0</td>\n",
       "      <td>1.0</td>\n",
       "      <td>1</td>\n",
       "      <td>2</td>\n",
       "      <td>0</td>\n",
       "      <td>1.0</td>\n",
       "      <td>0</td>\n",
       "      <td>435.6</td>\n",
       "      <td>556.8</td>\n",
       "      <td>...</td>\n",
       "      <td>B</td>\n",
       "      <td>A</td>\n",
       "      <td>0</td>\n",
       "      <td>0</td>\n",
       "      <td>0</td>\n",
       "      <td>0</td>\n",
       "      <td>0</td>\n",
       "      <td>0</td>\n",
       "      <td>0</td>\n",
       "      <td>5</td>\n",
       "    </tr>\n",
       "    <tr>\n",
       "      <th>5513744</th>\n",
       "      <td>SP</td>\n",
       "      <td>17.0</td>\n",
       "      <td>1.0</td>\n",
       "      <td>1</td>\n",
       "      <td>2</td>\n",
       "      <td>0</td>\n",
       "      <td>1.0</td>\n",
       "      <td>0</td>\n",
       "      <td>NaN</td>\n",
       "      <td>NaN</td>\n",
       "      <td>...</td>\n",
       "      <td>B</td>\n",
       "      <td>A</td>\n",
       "      <td>0</td>\n",
       "      <td>0</td>\n",
       "      <td>0</td>\n",
       "      <td>0</td>\n",
       "      <td>0</td>\n",
       "      <td>0</td>\n",
       "      <td>0</td>\n",
       "      <td>2</td>\n",
       "    </tr>\n",
       "    <tr>\n",
       "      <th>5513745</th>\n",
       "      <td>SP</td>\n",
       "      <td>17.0</td>\n",
       "      <td>1.0</td>\n",
       "      <td>0</td>\n",
       "      <td>2</td>\n",
       "      <td>0</td>\n",
       "      <td>1.0</td>\n",
       "      <td>0</td>\n",
       "      <td>524.9</td>\n",
       "      <td>496.5</td>\n",
       "      <td>...</td>\n",
       "      <td>B</td>\n",
       "      <td>C</td>\n",
       "      <td>0</td>\n",
       "      <td>0</td>\n",
       "      <td>0</td>\n",
       "      <td>0</td>\n",
       "      <td>0</td>\n",
       "      <td>0</td>\n",
       "      <td>0</td>\n",
       "      <td>2</td>\n",
       "    </tr>\n",
       "    <tr>\n",
       "      <th>5513746</th>\n",
       "      <td>MG</td>\n",
       "      <td>21.0</td>\n",
       "      <td>1.0</td>\n",
       "      <td>1</td>\n",
       "      <td>1</td>\n",
       "      <td>3</td>\n",
       "      <td>NaN</td>\n",
       "      <td>0</td>\n",
       "      <td>442.7</td>\n",
       "      <td>549.4</td>\n",
       "      <td>...</td>\n",
       "      <td>A</td>\n",
       "      <td>A</td>\n",
       "      <td>0</td>\n",
       "      <td>0</td>\n",
       "      <td>0</td>\n",
       "      <td>0</td>\n",
       "      <td>0</td>\n",
       "      <td>0</td>\n",
       "      <td>0</td>\n",
       "      <td>6</td>\n",
       "    </tr>\n",
       "  </tbody>\n",
       "</table>\n",
       "<p>5388208 rows × 29 columns</p>\n",
       "</div>"
      ],
      "text/plain": [
       "        SG_UF_RESIDENCIA  NU_IDADE  TP_ESTADO_CIVIL  TP_COR_RACA  \\\n",
       "0                     DF      44.0              0.0            0   \n",
       "1                     MA      23.0              1.0            1   \n",
       "2                     SP      23.0              1.0            0   \n",
       "3                     BA      26.0              1.0            1   \n",
       "4                     BA      20.0              1.0            0   \n",
       "...                  ...       ...              ...          ...   \n",
       "5513742               RJ      56.0              0.0            0   \n",
       "5513743               AM      20.0              1.0            1   \n",
       "5513744               SP      17.0              1.0            1   \n",
       "5513745               SP      17.0              1.0            0   \n",
       "5513746               MG      21.0              1.0            1   \n",
       "\n",
       "         TP_ST_CONCLUSAO  TP_ANO_CONCLUIU  TP_ENSINO  IN_TREINEIRO  \\\n",
       "0                      2                0        1.0             0   \n",
       "1                      1                5        1.0             0   \n",
       "2                      1                3        3.0             0   \n",
       "3                      1                8        1.0             0   \n",
       "4                      2                0        1.0             0   \n",
       "...                  ...              ...        ...           ...   \n",
       "5513742                1                6        NaN             0   \n",
       "5513743                2                0        1.0             0   \n",
       "5513744                2                0        1.0             0   \n",
       "5513745                2                0        1.0             0   \n",
       "5513746                1                3        NaN             0   \n",
       "\n",
       "         NU_NOTA_CN  NU_NOTA_CH  ...  Q026  Q027  RENDIMENTO_CN  \\\n",
       "0               NaN         NaN  ...     B     A              0   \n",
       "1             521.0       568.7  ...     A     A              0   \n",
       "2               NaN         NaN  ...     A     A              0   \n",
       "3               NaN         NaN  ...     A     A              0   \n",
       "4               NaN       419.9  ...     B     A              0   \n",
       "...             ...         ...  ...   ...   ...            ...   \n",
       "5513742         NaN         NaN  ...     A     C              0   \n",
       "5513743       435.6       556.8  ...     B     A              0   \n",
       "5513744         NaN         NaN  ...     B     A              0   \n",
       "5513745       524.9       496.5  ...     B     C              0   \n",
       "5513746       442.7       549.4  ...     A     A              0   \n",
       "\n",
       "         RENDIMENTO_CH RENDIMENTO_LC RENDIMENTO_MT  RENDIMENTO_REDACAO  \\\n",
       "0                    0             0             0                   0   \n",
       "1                    0             0             0                   0   \n",
       "2                    0             0             0                   0   \n",
       "3                    0             0             0                   0   \n",
       "4                    0             0             0                   0   \n",
       "...                ...           ...           ...                 ...   \n",
       "5513742              0             0             0                   0   \n",
       "5513743              0             0             0                   0   \n",
       "5513744              0             0             0                   0   \n",
       "5513745              0             0             0                   0   \n",
       "5513746              0             0             0                   0   \n",
       "\n",
       "        MEDIA_GERAL RENDIMENTO_GERAL NU_IDADE_2  \n",
       "0                 0                0          7  \n",
       "1                 0                0          7  \n",
       "2                 0                0          7  \n",
       "3                 0                0          7  \n",
       "4                 0                0          5  \n",
       "...             ...              ...        ...  \n",
       "5513742           0                0          7  \n",
       "5513743           0                0          5  \n",
       "5513744           0                0          2  \n",
       "5513745           0                0          2  \n",
       "5513746           0                0          6  \n",
       "\n",
       "[5388208 rows x 29 columns]"
      ]
     },
     "execution_count": 34,
     "metadata": {},
     "output_type": "execute_result"
    }
   ],
   "source": [
    "dataset_enem"
   ]
  },
  {
   "cell_type": "code",
   "execution_count": 35,
   "metadata": {
    "colab": {},
    "colab_type": "code",
    "id": "nA8N8C-zIDbE"
   },
   "outputs": [],
   "source": [
    "#TP_ST_CONCLUSAO"
   ]
  },
  {
   "cell_type": "code",
   "execution_count": 37,
   "metadata": {},
   "outputs": [],
   "source": [
    "dataset_enem['RECEM_FORMADO'] = 100"
   ]
  },
  {
   "cell_type": "code",
   "execution_count": 38,
   "metadata": {
    "colab": {
     "base_uri": "https://localhost:8080/",
     "height": 102
    },
    "colab_type": "code",
    "executionInfo": {
     "elapsed": 9173,
     "status": "ok",
     "timestamp": 1589937323738,
     "user": {
      "displayName": "Marcos Oliveira",
      "photoUrl": "https://lh3.googleusercontent.com/a-/AOh14GjtJc6boEovFWZizRLvOrpllW_GprehG4IpHp41=s64",
      "userId": "12258186870812423715"
     },
     "user_tz": 180
    },
    "id": "3t8c957IntJF",
    "outputId": "a6789ec2-b747-4eda-8ce4-783fd1b351f1"
   },
   "outputs": [
    {
     "name": "stderr",
     "output_type": "stream",
     "text": [
      "C:\\Users\\Vinicius\\anaconda3\\lib\\site-packages\\ipykernel_launcher.py:1: SettingWithCopyWarning: \n",
      "A value is trying to be set on a copy of a slice from a DataFrame\n",
      "\n",
      "See the caveats in the documentation: https://pandas.pydata.org/pandas-docs/stable/user_guide/indexing.html#returning-a-view-versus-a-copy\n",
      "  \"\"\"Entry point for launching an IPython kernel.\n"
     ]
    }
   ],
   "source": [
    "dataset_enem.RECEM_FORMADO[(dataset_enem.Q026 == 'B') & ((dataset_enem.TP_ANO_CONCLUIU == 0) | (dataset_enem.TP_ANO_CONCLUIU == 1 ))] = 1"
   ]
  },
  {
   "cell_type": "code",
   "execution_count": 39,
   "metadata": {
    "colab": {
     "base_uri": "https://localhost:8080/",
     "height": 68
    },
    "colab_type": "code",
    "executionInfo": {
     "elapsed": 1524,
     "status": "ok",
     "timestamp": 1589937385084,
     "user": {
      "displayName": "Marcos Oliveira",
      "photoUrl": "https://lh3.googleusercontent.com/a-/AOh14GjtJc6boEovFWZizRLvOrpllW_GprehG4IpHp41=s64",
      "userId": "12258186870812423715"
     },
     "user_tz": 180
    },
    "id": "51UXfgjHpvl6",
    "outputId": "ca42af77-cd84-4b12-f1b2-051533571823"
   },
   "outputs": [
    {
     "data": {
      "text/plain": [
       "100    3756505\n",
       "1      1631703\n",
       "Name: RECEM_FORMADO, dtype: int64"
      ]
     },
     "execution_count": 39,
     "metadata": {},
     "output_type": "execute_result"
    }
   ],
   "source": [
    "dataset_enem['RECEM_FORMADO'].value_counts()"
   ]
  },
  {
   "cell_type": "code",
   "execution_count": 40,
   "metadata": {
    "colab": {
     "base_uri": "https://localhost:8080/",
     "height": 102
    },
    "colab_type": "code",
    "executionInfo": {
     "elapsed": 1439,
     "status": "ok",
     "timestamp": 1589937403393,
     "user": {
      "displayName": "Marcos Oliveira",
      "photoUrl": "https://lh3.googleusercontent.com/a-/AOh14GjtJc6boEovFWZizRLvOrpllW_GprehG4IpHp41=s64",
      "userId": "12258186870812423715"
     },
     "user_tz": 180
    },
    "id": "8HaTjUHrpiG8",
    "outputId": "893f4717-08b7-4b72-8e22-944fdfe87c68"
   },
   "outputs": [
    {
     "name": "stderr",
     "output_type": "stream",
     "text": [
      "C:\\Users\\Vinicius\\anaconda3\\lib\\site-packages\\ipykernel_launcher.py:1: SettingWithCopyWarning: \n",
      "A value is trying to be set on a copy of a slice from a DataFrame\n",
      "\n",
      "See the caveats in the documentation: https://pandas.pydata.org/pandas-docs/stable/user_guide/indexing.html#returning-a-view-versus-a-copy\n",
      "  \"\"\"Entry point for launching an IPython kernel.\n"
     ]
    }
   ],
   "source": [
    "dataset_enem.RECEM_FORMADO[(dataset_enem.RECEM_FORMADO != 1)] = 0"
   ]
  },
  {
   "cell_type": "code",
   "execution_count": 41,
   "metadata": {
    "colab": {
     "base_uri": "https://localhost:8080/",
     "height": 68
    },
    "colab_type": "code",
    "executionInfo": {
     "elapsed": 2320,
     "status": "ok",
     "timestamp": 1589937413773,
     "user": {
      "displayName": "Marcos Oliveira",
      "photoUrl": "https://lh3.googleusercontent.com/a-/AOh14GjtJc6boEovFWZizRLvOrpllW_GprehG4IpHp41=s64",
      "userId": "12258186870812423715"
     },
     "user_tz": 180
    },
    "id": "02mD2NIIp4j8",
    "outputId": "e1decd18-0522-4824-eeaf-43bfcf3f8336"
   },
   "outputs": [
    {
     "data": {
      "text/plain": [
       "0    3756505\n",
       "1    1631703\n",
       "Name: RECEM_FORMADO, dtype: int64"
      ]
     },
     "execution_count": 41,
     "metadata": {},
     "output_type": "execute_result"
    }
   ],
   "source": [
    "dataset_enem['RECEM_FORMADO'].value_counts()"
   ]
  },
  {
   "cell_type": "code",
   "execution_count": 42,
   "metadata": {
    "colab": {},
    "colab_type": "code",
    "id": "cGDqwOVYIM_J"
   },
   "outputs": [],
   "source": [
    "#TP_ENSINO           "
   ]
  },
  {
   "cell_type": "code",
   "execution_count": 43,
   "metadata": {
    "colab": {
     "base_uri": "https://localhost:8080/",
     "height": 85
    },
    "colab_type": "code",
    "executionInfo": {
     "elapsed": 1255,
     "status": "ok",
     "timestamp": 1589935594320,
     "user": {
      "displayName": "Marcos Oliveira",
      "photoUrl": "https://lh3.googleusercontent.com/a-/AOh14GjtJc6boEovFWZizRLvOrpllW_GprehG4IpHp41=s64",
      "userId": "12258186870812423715"
     },
     "user_tz": 180
    },
    "id": "6usOnvEDI4Ob",
    "outputId": "0ba6d325-360d-4e18-bf7f-16254864e880"
   },
   "outputs": [
    {
     "data": {
      "text/plain": [
       "1.0    3071222\n",
       "3.0     318334\n",
       "2.0      16569\n",
       "Name: TP_ENSINO, dtype: int64"
      ]
     },
     "execution_count": 43,
     "metadata": {},
     "output_type": "execute_result"
    }
   ],
   "source": [
    "dataset_enem.TP_ENSINO.value_counts()"
   ]
  },
  {
   "cell_type": "code",
   "execution_count": 44,
   "metadata": {
    "colab": {
     "base_uri": "https://localhost:8080/",
     "height": 68
    },
    "colab_type": "code",
    "executionInfo": {
     "elapsed": 1482,
     "status": "ok",
     "timestamp": 1589935685953,
     "user": {
      "displayName": "Marcos Oliveira",
      "photoUrl": "https://lh3.googleusercontent.com/a-/AOh14GjtJc6boEovFWZizRLvOrpllW_GprehG4IpHp41=s64",
      "userId": "12258186870812423715"
     },
     "user_tz": 180
    },
    "id": "L6aadzx7KC5O",
    "outputId": "c13466c3-bc05-4741-819a-b546b668d4ac"
   },
   "outputs": [
    {
     "data": {
      "text/plain": [
       "True     3406125\n",
       "False    1982083\n",
       "Name: TP_ENSINO, dtype: int64"
      ]
     },
     "execution_count": 44,
     "metadata": {},
     "output_type": "execute_result"
    }
   ],
   "source": [
    "pd.notna(dataset_enem.TP_ENSINO).value_counts()"
   ]
  },
  {
   "cell_type": "code",
   "execution_count": 45,
   "metadata": {
    "colab": {
     "base_uri": "https://localhost:8080/",
     "height": 102
    },
    "colab_type": "code",
    "executionInfo": {
     "elapsed": 964,
     "status": "ok",
     "timestamp": 1589935689224,
     "user": {
      "displayName": "Marcos Oliveira",
      "photoUrl": "https://lh3.googleusercontent.com/a-/AOh14GjtJc6boEovFWZizRLvOrpllW_GprehG4IpHp41=s64",
      "userId": "12258186870812423715"
     },
     "user_tz": 180
    },
    "id": "8YzNwxECKb6s",
    "outputId": "6ea016a5-020b-49fe-cb86-c7fe29310f77"
   },
   "outputs": [
    {
     "name": "stderr",
     "output_type": "stream",
     "text": [
      "C:\\Users\\Vinicius\\anaconda3\\lib\\site-packages\\ipykernel_launcher.py:1: SettingWithCopyWarning: \n",
      "A value is trying to be set on a copy of a slice from a DataFrame\n",
      "\n",
      "See the caveats in the documentation: https://pandas.pydata.org/pandas-docs/stable/user_guide/indexing.html#returning-a-view-versus-a-copy\n",
      "  \"\"\"Entry point for launching an IPython kernel.\n"
     ]
    }
   ],
   "source": [
    "dataset_enem.TP_ENSINO[(pd.notna(dataset_enem.TP_ENSINO)==False) & (dataset_enem.Q026=='A') & (dataset_enem.NU_IDADE <= 20)] = 1"
   ]
  },
  {
   "cell_type": "code",
   "execution_count": 46,
   "metadata": {
    "colab": {
     "base_uri": "https://localhost:8080/",
     "height": 102
    },
    "colab_type": "code",
    "executionInfo": {
     "elapsed": 1731,
     "status": "ok",
     "timestamp": 1589935708231,
     "user": {
      "displayName": "Marcos Oliveira",
      "photoUrl": "https://lh3.googleusercontent.com/a-/AOh14GjtJc6boEovFWZizRLvOrpllW_GprehG4IpHp41=s64",
      "userId": "12258186870812423715"
     },
     "user_tz": 180
    },
    "id": "bY5HM6kkKrvR",
    "outputId": "ed0bda53-929f-4167-a931-cc044c7f84ca"
   },
   "outputs": [
    {
     "name": "stderr",
     "output_type": "stream",
     "text": [
      "C:\\Users\\Vinicius\\anaconda3\\lib\\site-packages\\ipykernel_launcher.py:1: SettingWithCopyWarning: \n",
      "A value is trying to be set on a copy of a slice from a DataFrame\n",
      "\n",
      "See the caveats in the documentation: https://pandas.pydata.org/pandas-docs/stable/user_guide/indexing.html#returning-a-view-versus-a-copy\n",
      "  \"\"\"Entry point for launching an IPython kernel.\n"
     ]
    }
   ],
   "source": [
    "dataset_enem.TP_ENSINO[(pd.notna(dataset_enem.TP_ENSINO)==False) & (dataset_enem.TP_ANO_CONCLUIU == 1) & (dataset_enem.NU_IDADE <= 19)] =1"
   ]
  },
  {
   "cell_type": "code",
   "execution_count": 47,
   "metadata": {
    "colab": {
     "base_uri": "https://localhost:8080/",
     "height": 102
    },
    "colab_type": "code",
    "executionInfo": {
     "elapsed": 904,
     "status": "ok",
     "timestamp": 1589935714336,
     "user": {
      "displayName": "Marcos Oliveira",
      "photoUrl": "https://lh3.googleusercontent.com/a-/AOh14GjtJc6boEovFWZizRLvOrpllW_GprehG4IpHp41=s64",
      "userId": "12258186870812423715"
     },
     "user_tz": 180
    },
    "id": "jLM4QYaELB-x",
    "outputId": "78ec590e-fd95-447e-b6e9-36361d6da0f9"
   },
   "outputs": [
    {
     "name": "stderr",
     "output_type": "stream",
     "text": [
      "C:\\Users\\Vinicius\\anaconda3\\lib\\site-packages\\ipykernel_launcher.py:1: SettingWithCopyWarning: \n",
      "A value is trying to be set on a copy of a slice from a DataFrame\n",
      "\n",
      "See the caveats in the documentation: https://pandas.pydata.org/pandas-docs/stable/user_guide/indexing.html#returning-a-view-versus-a-copy\n",
      "  \"\"\"Entry point for launching an IPython kernel.\n"
     ]
    }
   ],
   "source": [
    "dataset_enem.TP_ENSINO[(pd.notna(dataset_enem.TP_ENSINO)==False) & (dataset_enem.TP_ANO_CONCLUIU == 2) & (dataset_enem.NU_IDADE <= 21)] =1"
   ]
  },
  {
   "cell_type": "code",
   "execution_count": 48,
   "metadata": {
    "colab": {
     "base_uri": "https://localhost:8080/",
     "height": 102
    },
    "colab_type": "code",
    "executionInfo": {
     "elapsed": 1258,
     "status": "ok",
     "timestamp": 1589935718077,
     "user": {
      "displayName": "Marcos Oliveira",
      "photoUrl": "https://lh3.googleusercontent.com/a-/AOh14GjtJc6boEovFWZizRLvOrpllW_GprehG4IpHp41=s64",
      "userId": "12258186870812423715"
     },
     "user_tz": 180
    },
    "id": "R2x8JpFILJLs",
    "outputId": "0a7d7f2b-6169-4b3f-c2ce-33f132ee13f8"
   },
   "outputs": [
    {
     "name": "stderr",
     "output_type": "stream",
     "text": [
      "C:\\Users\\Vinicius\\anaconda3\\lib\\site-packages\\ipykernel_launcher.py:1: SettingWithCopyWarning: \n",
      "A value is trying to be set on a copy of a slice from a DataFrame\n",
      "\n",
      "See the caveats in the documentation: https://pandas.pydata.org/pandas-docs/stable/user_guide/indexing.html#returning-a-view-versus-a-copy\n",
      "  \"\"\"Entry point for launching an IPython kernel.\n"
     ]
    }
   ],
   "source": [
    "dataset_enem.TP_ENSINO[(pd.notna(dataset_enem.TP_ENSINO)==False) & (dataset_enem.TP_ANO_CONCLUIU == 3) & (dataset_enem.NU_IDADE <= 23)] =1"
   ]
  },
  {
   "cell_type": "code",
   "execution_count": 49,
   "metadata": {
    "colab": {
     "base_uri": "https://localhost:8080/",
     "height": 102
    },
    "colab_type": "code",
    "executionInfo": {
     "elapsed": 1013,
     "status": "ok",
     "timestamp": 1589935719911,
     "user": {
      "displayName": "Marcos Oliveira",
      "photoUrl": "https://lh3.googleusercontent.com/a-/AOh14GjtJc6boEovFWZizRLvOrpllW_GprehG4IpHp41=s64",
      "userId": "12258186870812423715"
     },
     "user_tz": 180
    },
    "id": "b4jq7sfYLSAa",
    "outputId": "008a6a3a-da3c-450e-eec0-0ea805547ace"
   },
   "outputs": [
    {
     "name": "stderr",
     "output_type": "stream",
     "text": [
      "C:\\Users\\Vinicius\\anaconda3\\lib\\site-packages\\ipykernel_launcher.py:1: SettingWithCopyWarning: \n",
      "A value is trying to be set on a copy of a slice from a DataFrame\n",
      "\n",
      "See the caveats in the documentation: https://pandas.pydata.org/pandas-docs/stable/user_guide/indexing.html#returning-a-view-versus-a-copy\n",
      "  \"\"\"Entry point for launching an IPython kernel.\n"
     ]
    }
   ],
   "source": [
    "dataset_enem.TP_ENSINO[(pd.notna(dataset_enem.TP_ENSINO)==False) & (dataset_enem.TP_ANO_CONCLUIU == 4) & (dataset_enem.NU_IDADE <= 23)] =1"
   ]
  },
  {
   "cell_type": "code",
   "execution_count": 50,
   "metadata": {
    "colab": {
     "base_uri": "https://localhost:8080/",
     "height": 102
    },
    "colab_type": "code",
    "executionInfo": {
     "elapsed": 1109,
     "status": "ok",
     "timestamp": 1589935721472,
     "user": {
      "displayName": "Marcos Oliveira",
      "photoUrl": "https://lh3.googleusercontent.com/a-/AOh14GjtJc6boEovFWZizRLvOrpllW_GprehG4IpHp41=s64",
      "userId": "12258186870812423715"
     },
     "user_tz": 180
    },
    "id": "P1wyGJYrLyA5",
    "outputId": "e56c9e8e-cb30-4987-ed44-930aacaec881"
   },
   "outputs": [
    {
     "name": "stderr",
     "output_type": "stream",
     "text": [
      "C:\\Users\\Vinicius\\anaconda3\\lib\\site-packages\\ipykernel_launcher.py:1: SettingWithCopyWarning: \n",
      "A value is trying to be set on a copy of a slice from a DataFrame\n",
      "\n",
      "See the caveats in the documentation: https://pandas.pydata.org/pandas-docs/stable/user_guide/indexing.html#returning-a-view-versus-a-copy\n",
      "  \"\"\"Entry point for launching an IPython kernel.\n"
     ]
    }
   ],
   "source": [
    "dataset_enem.TP_ENSINO[(pd.notna(dataset_enem.TP_ENSINO)==False) & (dataset_enem.TP_ANO_CONCLUIU == 5) & (dataset_enem.NU_IDADE <= 24)] =1"
   ]
  },
  {
   "cell_type": "code",
   "execution_count": 51,
   "metadata": {
    "colab": {
     "base_uri": "https://localhost:8080/",
     "height": 102
    },
    "colab_type": "code",
    "executionInfo": {
     "elapsed": 793,
     "status": "ok",
     "timestamp": 1589935722870,
     "user": {
      "displayName": "Marcos Oliveira",
      "photoUrl": "https://lh3.googleusercontent.com/a-/AOh14GjtJc6boEovFWZizRLvOrpllW_GprehG4IpHp41=s64",
      "userId": "12258186870812423715"
     },
     "user_tz": 180
    },
    "id": "62fBiiCUMA44",
    "outputId": "db2aa732-7365-409b-bf61-8c2680228875"
   },
   "outputs": [
    {
     "name": "stderr",
     "output_type": "stream",
     "text": [
      "C:\\Users\\Vinicius\\anaconda3\\lib\\site-packages\\ipykernel_launcher.py:1: SettingWithCopyWarning: \n",
      "A value is trying to be set on a copy of a slice from a DataFrame\n",
      "\n",
      "See the caveats in the documentation: https://pandas.pydata.org/pandas-docs/stable/user_guide/indexing.html#returning-a-view-versus-a-copy\n",
      "  \"\"\"Entry point for launching an IPython kernel.\n"
     ]
    }
   ],
   "source": [
    "dataset_enem.TP_ENSINO[(pd.notna(dataset_enem.TP_ENSINO)==False) & (dataset_enem.TP_ANO_CONCLUIU == 6) & (dataset_enem.NU_IDADE <= 25)] = 1"
   ]
  },
  {
   "cell_type": "code",
   "execution_count": 52,
   "metadata": {
    "colab": {
     "base_uri": "https://localhost:8080/",
     "height": 102
    },
    "colab_type": "code",
    "executionInfo": {
     "elapsed": 1255,
     "status": "ok",
     "timestamp": 1589935725525,
     "user": {
      "displayName": "Marcos Oliveira",
      "photoUrl": "https://lh3.googleusercontent.com/a-/AOh14GjtJc6boEovFWZizRLvOrpllW_GprehG4IpHp41=s64",
      "userId": "12258186870812423715"
     },
     "user_tz": 180
    },
    "id": "lsbvrGr3MNey",
    "outputId": "96751049-be68-45b1-8eca-510d9a8e445f"
   },
   "outputs": [
    {
     "name": "stderr",
     "output_type": "stream",
     "text": [
      "C:\\Users\\Vinicius\\anaconda3\\lib\\site-packages\\ipykernel_launcher.py:1: SettingWithCopyWarning: \n",
      "A value is trying to be set on a copy of a slice from a DataFrame\n",
      "\n",
      "See the caveats in the documentation: https://pandas.pydata.org/pandas-docs/stable/user_guide/indexing.html#returning-a-view-versus-a-copy\n",
      "  \"\"\"Entry point for launching an IPython kernel.\n"
     ]
    }
   ],
   "source": [
    "dataset_enem.TP_ENSINO[(pd.notna(dataset_enem.TP_ENSINO)==False) & (dataset_enem.TP_ANO_CONCLUIU == 7) & (dataset_enem.NU_IDADE <= 26)] =1"
   ]
  },
  {
   "cell_type": "code",
   "execution_count": 53,
   "metadata": {
    "colab": {
     "base_uri": "https://localhost:8080/",
     "height": 102
    },
    "colab_type": "code",
    "executionInfo": {
     "elapsed": 679,
     "status": "ok",
     "timestamp": 1589935725935,
     "user": {
      "displayName": "Marcos Oliveira",
      "photoUrl": "https://lh3.googleusercontent.com/a-/AOh14GjtJc6boEovFWZizRLvOrpllW_GprehG4IpHp41=s64",
      "userId": "12258186870812423715"
     },
     "user_tz": 180
    },
    "id": "NYhskx8bMYAC",
    "outputId": "aa2e9b16-c2d8-436a-ef0d-c272ef00ce39"
   },
   "outputs": [
    {
     "name": "stderr",
     "output_type": "stream",
     "text": [
      "C:\\Users\\Vinicius\\anaconda3\\lib\\site-packages\\ipykernel_launcher.py:1: SettingWithCopyWarning: \n",
      "A value is trying to be set on a copy of a slice from a DataFrame\n",
      "\n",
      "See the caveats in the documentation: https://pandas.pydata.org/pandas-docs/stable/user_guide/indexing.html#returning-a-view-versus-a-copy\n",
      "  \"\"\"Entry point for launching an IPython kernel.\n"
     ]
    }
   ],
   "source": [
    "dataset_enem.TP_ENSINO[(pd.notna(dataset_enem.TP_ENSINO)==False) & (dataset_enem.TP_ANO_CONCLUIU == 8) & (dataset_enem.NU_IDADE <= 27)] = 1"
   ]
  },
  {
   "cell_type": "code",
   "execution_count": 54,
   "metadata": {
    "colab": {
     "base_uri": "https://localhost:8080/",
     "height": 102
    },
    "colab_type": "code",
    "executionInfo": {
     "elapsed": 922,
     "status": "ok",
     "timestamp": 1589935729965,
     "user": {
      "displayName": "Marcos Oliveira",
      "photoUrl": "https://lh3.googleusercontent.com/a-/AOh14GjtJc6boEovFWZizRLvOrpllW_GprehG4IpHp41=s64",
      "userId": "12258186870812423715"
     },
     "user_tz": 180
    },
    "id": "WsVK91gfMgGY",
    "outputId": "029b2789-3dc4-4687-c035-05e7c0f3a454"
   },
   "outputs": [
    {
     "name": "stderr",
     "output_type": "stream",
     "text": [
      "C:\\Users\\Vinicius\\anaconda3\\lib\\site-packages\\ipykernel_launcher.py:1: SettingWithCopyWarning: \n",
      "A value is trying to be set on a copy of a slice from a DataFrame\n",
      "\n",
      "See the caveats in the documentation: https://pandas.pydata.org/pandas-docs/stable/user_guide/indexing.html#returning-a-view-versus-a-copy\n",
      "  \"\"\"Entry point for launching an IPython kernel.\n"
     ]
    }
   ],
   "source": [
    "dataset_enem.TP_ENSINO[(pd.notna(dataset_enem.TP_ENSINO)==False) & (dataset_enem.TP_ANO_CONCLUIU == 9) & (dataset_enem.NU_IDADE <= 28)] =1"
   ]
  },
  {
   "cell_type": "code",
   "execution_count": 55,
   "metadata": {
    "colab": {
     "base_uri": "https://localhost:8080/",
     "height": 34
    },
    "colab_type": "code",
    "executionInfo": {
     "elapsed": 921,
     "status": "ok",
     "timestamp": 1589935749407,
     "user": {
      "displayName": "Marcos Oliveira",
      "photoUrl": "https://lh3.googleusercontent.com/a-/AOh14GjtJc6boEovFWZizRLvOrpllW_GprehG4IpHp41=s64",
      "userId": "12258186870812423715"
     },
     "user_tz": 180
    },
    "id": "udNOHqvGMjyB",
    "outputId": "f9e84e18-5b05-40e0-adf4-b767831cbc7f"
   },
   "outputs": [
    {
     "data": {
      "text/plain": [
       "1549      NaN\n",
       "2173      NaN\n",
       "2331      NaN\n",
       "2372      NaN\n",
       "2842      NaN\n",
       "           ..\n",
       "5513393   NaN\n",
       "5513440   NaN\n",
       "5513512   NaN\n",
       "5513638   NaN\n",
       "5513658   NaN\n",
       "Name: TP_ENSINO, Length: 21975, dtype: float64"
      ]
     },
     "execution_count": 55,
     "metadata": {},
     "output_type": "execute_result"
    }
   ],
   "source": [
    "dataset_enem.TP_ENSINO[(pd.notna(dataset_enem.TP_ENSINO)==False) & (dataset_enem.TP_ANO_CONCLUIU == 10) & (dataset_enem.NU_IDADE <= 29)]"
   ]
  },
  {
   "cell_type": "code",
   "execution_count": 56,
   "metadata": {
    "colab": {
     "base_uri": "https://localhost:8080/",
     "height": 102
    },
    "colab_type": "code",
    "executionInfo": {
     "elapsed": 900,
     "status": "ok",
     "timestamp": 1589935735707,
     "user": {
      "displayName": "Marcos Oliveira",
      "photoUrl": "https://lh3.googleusercontent.com/a-/AOh14GjtJc6boEovFWZizRLvOrpllW_GprehG4IpHp41=s64",
      "userId": "12258186870812423715"
     },
     "user_tz": 180
    },
    "id": "1sCturcEMppB",
    "outputId": "b191f26d-3a0c-49c1-bd74-e7c24143829f"
   },
   "outputs": [
    {
     "name": "stderr",
     "output_type": "stream",
     "text": [
      "C:\\Users\\Vinicius\\anaconda3\\lib\\site-packages\\ipykernel_launcher.py:1: SettingWithCopyWarning: \n",
      "A value is trying to be set on a copy of a slice from a DataFrame\n",
      "\n",
      "See the caveats in the documentation: https://pandas.pydata.org/pandas-docs/stable/user_guide/indexing.html#returning-a-view-versus-a-copy\n",
      "  \"\"\"Entry point for launching an IPython kernel.\n"
     ]
    }
   ],
   "source": [
    "dataset_enem.TP_ENSINO[(pd.notna(dataset_enem.TP_ENSINO)==False) & (dataset_enem.TP_ANO_CONCLUIU == 10) & (dataset_enem.NU_IDADE <= 29)] = 1"
   ]
  },
  {
   "cell_type": "code",
   "execution_count": 57,
   "metadata": {
    "colab": {
     "base_uri": "https://localhost:8080/",
     "height": 34
    },
    "colab_type": "code",
    "executionInfo": {
     "elapsed": 1849,
     "status": "ok",
     "timestamp": 1589935740303,
     "user": {
      "displayName": "Marcos Oliveira",
      "photoUrl": "https://lh3.googleusercontent.com/a-/AOh14GjtJc6boEovFWZizRLvOrpllW_GprehG4IpHp41=s64",
      "userId": "12258186870812423715"
     },
     "user_tz": 180
    },
    "id": "JMNQwBerMtQu",
    "outputId": "1cba4939-e85a-4d4b-c402-8f38ba409f7b"
   },
   "outputs": [
    {
     "data": {
      "text/plain": [
       "(19271,)"
      ]
     },
     "execution_count": 57,
     "metadata": {},
     "output_type": "execute_result"
    }
   ],
   "source": [
    "dataset_enem.TP_ENSINO[(pd.notna(dataset_enem.TP_ENSINO)==False) & (dataset_enem.TP_ANO_CONCLUIU == 11) & (dataset_enem.NU_IDADE <= 30)].shape"
   ]
  },
  {
   "cell_type": "code",
   "execution_count": 58,
   "metadata": {
    "colab": {
     "base_uri": "https://localhost:8080/",
     "height": 102
    },
    "colab_type": "code",
    "executionInfo": {
     "elapsed": 915,
     "status": "ok",
     "timestamp": 1589935765065,
     "user": {
      "displayName": "Marcos Oliveira",
      "photoUrl": "https://lh3.googleusercontent.com/a-/AOh14GjtJc6boEovFWZizRLvOrpllW_GprehG4IpHp41=s64",
      "userId": "12258186870812423715"
     },
     "user_tz": 180
    },
    "id": "nCHvHhfhMyX9",
    "outputId": "de0959e3-be12-4b68-d597-7c58352db53c"
   },
   "outputs": [
    {
     "name": "stderr",
     "output_type": "stream",
     "text": [
      "C:\\Users\\Vinicius\\anaconda3\\lib\\site-packages\\ipykernel_launcher.py:1: SettingWithCopyWarning: \n",
      "A value is trying to be set on a copy of a slice from a DataFrame\n",
      "\n",
      "See the caveats in the documentation: https://pandas.pydata.org/pandas-docs/stable/user_guide/indexing.html#returning-a-view-versus-a-copy\n",
      "  \"\"\"Entry point for launching an IPython kernel.\n"
     ]
    }
   ],
   "source": [
    "dataset_enem.TP_ENSINO[(pd.notna(dataset_enem.TP_ENSINO)==False) & (dataset_enem.TP_ANO_CONCLUIU == 11) & (dataset_enem.NU_IDADE <= 30)] = 1"
   ]
  },
  {
   "cell_type": "code",
   "execution_count": 59,
   "metadata": {
    "colab": {
     "base_uri": "https://localhost:8080/",
     "height": 68
    },
    "colab_type": "code",
    "executionInfo": {
     "elapsed": 912,
     "status": "ok",
     "timestamp": 1589935768211,
     "user": {
      "displayName": "Marcos Oliveira",
      "photoUrl": "https://lh3.googleusercontent.com/a-/AOh14GjtJc6boEovFWZizRLvOrpllW_GprehG4IpHp41=s64",
      "userId": "12258186870812423715"
     },
     "user_tz": 180
    },
    "id": "h6T2shl2NBr-",
    "outputId": "59765fda-c1bc-440f-b299-fa18be4db28c"
   },
   "outputs": [
    {
     "data": {
      "text/plain": [
       "True     4379900\n",
       "False    1008308\n",
       "Name: TP_ENSINO, dtype: int64"
      ]
     },
     "execution_count": 59,
     "metadata": {},
     "output_type": "execute_result"
    }
   ],
   "source": [
    "pd.notna(dataset_enem.TP_ENSINO).value_counts()"
   ]
  },
  {
   "cell_type": "code",
   "execution_count": 60,
   "metadata": {
    "colab": {
     "base_uri": "https://localhost:8080/",
     "height": 85
    },
    "colab_type": "code",
    "executionInfo": {
     "elapsed": 993,
     "status": "ok",
     "timestamp": 1589935779756,
     "user": {
      "displayName": "Marcos Oliveira",
      "photoUrl": "https://lh3.googleusercontent.com/a-/AOh14GjtJc6boEovFWZizRLvOrpllW_GprehG4IpHp41=s64",
      "userId": "12258186870812423715"
     },
     "user_tz": 180
    },
    "id": "q0IJPunGM21U",
    "outputId": "396a5407-0d62-4727-aa3d-425dbc47261a"
   },
   "outputs": [
    {
     "data": {
      "text/plain": [
       "1.0    4044997\n",
       "3.0     318334\n",
       "2.0      16569\n",
       "Name: TP_ENSINO, dtype: int64"
      ]
     },
     "execution_count": 60,
     "metadata": {},
     "output_type": "execute_result"
    }
   ],
   "source": [
    "dataset_enem.TP_ENSINO.value_counts()"
   ]
  },
  {
   "cell_type": "code",
   "execution_count": 61,
   "metadata": {
    "colab": {
     "base_uri": "https://localhost:8080/",
     "height": 102
    },
    "colab_type": "code",
    "executionInfo": {
     "elapsed": 1167,
     "status": "ok",
     "timestamp": 1589935788674,
     "user": {
      "displayName": "Marcos Oliveira",
      "photoUrl": "https://lh3.googleusercontent.com/a-/AOh14GjtJc6boEovFWZizRLvOrpllW_GprehG4IpHp41=s64",
      "userId": "12258186870812423715"
     },
     "user_tz": 180
    },
    "id": "br394fC0Ng6o",
    "outputId": "49fc8c6f-aa71-4248-8a0b-7427f7265654"
   },
   "outputs": [
    {
     "name": "stderr",
     "output_type": "stream",
     "text": [
      "C:\\Users\\Vinicius\\anaconda3\\lib\\site-packages\\ipykernel_launcher.py:1: SettingWithCopyWarning: \n",
      "A value is trying to be set on a copy of a slice from a DataFrame\n",
      "\n",
      "See the caveats in the documentation: https://pandas.pydata.org/pandas-docs/stable/user_guide/indexing.html#returning-a-view-versus-a-copy\n",
      "  \"\"\"Entry point for launching an IPython kernel.\n"
     ]
    }
   ],
   "source": [
    "dataset_enem.TP_ENSINO[(dataset_enem.TP_ENSINO)>=2] = 0"
   ]
  },
  {
   "cell_type": "code",
   "execution_count": 62,
   "metadata": {
    "colab": {
     "base_uri": "https://localhost:8080/",
     "height": 68
    },
    "colab_type": "code",
    "executionInfo": {
     "elapsed": 1057,
     "status": "ok",
     "timestamp": 1589935790829,
     "user": {
      "displayName": "Marcos Oliveira",
      "photoUrl": "https://lh3.googleusercontent.com/a-/AOh14GjtJc6boEovFWZizRLvOrpllW_GprehG4IpHp41=s64",
      "userId": "12258186870812423715"
     },
     "user_tz": 180
    },
    "id": "beOjfcCUOCYM",
    "outputId": "68927128-3d9a-43f9-b5a5-9ccb4eb3b672"
   },
   "outputs": [
    {
     "data": {
      "text/plain": [
       "1.0    4044997\n",
       "0.0     334903\n",
       "Name: TP_ENSINO, dtype: int64"
      ]
     },
     "execution_count": 62,
     "metadata": {},
     "output_type": "execute_result"
    }
   ],
   "source": [
    "dataset_enem.TP_ENSINO.value_counts()"
   ]
  },
  {
   "cell_type": "code",
   "execution_count": 63,
   "metadata": {
    "colab": {},
    "colab_type": "code",
    "id": "nCIt1NQfNA2z"
   },
   "outputs": [],
   "source": [
    "dataset_enem.dropna(subset=['TP_ENSINO'], inplace =True)"
   ]
  },
  {
   "cell_type": "code",
   "execution_count": 64,
   "metadata": {
    "colab": {
     "base_uri": "https://localhost:8080/",
     "height": 51
    },
    "colab_type": "code",
    "executionInfo": {
     "elapsed": 851,
     "status": "ok",
     "timestamp": 1589935801989,
     "user": {
      "displayName": "Marcos Oliveira",
      "photoUrl": "https://lh3.googleusercontent.com/a-/AOh14GjtJc6boEovFWZizRLvOrpllW_GprehG4IpHp41=s64",
      "userId": "12258186870812423715"
     },
     "user_tz": 180
    },
    "id": "uCAZDdWNOYOO",
    "outputId": "6cb63306-f1c2-4884-e4a5-147f3539cd59"
   },
   "outputs": [
    {
     "data": {
      "text/plain": [
       "True    4379900\n",
       "Name: TP_ENSINO, dtype: int64"
      ]
     },
     "execution_count": 64,
     "metadata": {},
     "output_type": "execute_result"
    }
   ],
   "source": [
    "pd.notna(dataset_enem.TP_ENSINO).value_counts()"
   ]
  },
  {
   "cell_type": "code",
   "execution_count": 65,
   "metadata": {
    "colab": {},
    "colab_type": "code",
    "id": "-M1IbVf5Ob6r"
   },
   "outputs": [],
   "source": [
    "#IN_TREINEIRO"
   ]
  },
  {
   "cell_type": "code",
   "execution_count": 66,
   "metadata": {
    "colab": {
     "base_uri": "https://localhost:8080/",
     "height": 51
    },
    "colab_type": "code",
    "executionInfo": {
     "elapsed": 1118,
     "status": "ok",
     "timestamp": 1589935809152,
     "user": {
      "displayName": "Marcos Oliveira",
      "photoUrl": "https://lh3.googleusercontent.com/a-/AOh14GjtJc6boEovFWZizRLvOrpllW_GprehG4IpHp41=s64",
      "userId": "12258186870812423715"
     },
     "user_tz": 180
    },
    "id": "I4LYsj6tOd-k",
    "outputId": "e59e9e70-0792-451f-c6c5-1d69795a8579"
   },
   "outputs": [
    {
     "data": {
      "text/plain": [
       "0    4379900\n",
       "Name: IN_TREINEIRO, dtype: int64"
      ]
     },
     "execution_count": 66,
     "metadata": {},
     "output_type": "execute_result"
    }
   ],
   "source": [
    "dataset_enem.IN_TREINEIRO.value_counts()"
   ]
  },
  {
   "cell_type": "code",
   "execution_count": 67,
   "metadata": {
    "colab": {
     "base_uri": "https://localhost:8080/",
     "height": 51
    },
    "colab_type": "code",
    "executionInfo": {
     "elapsed": 955,
     "status": "ok",
     "timestamp": 1589935815252,
     "user": {
      "displayName": "Marcos Oliveira",
      "photoUrl": "https://lh3.googleusercontent.com/a-/AOh14GjtJc6boEovFWZizRLvOrpllW_GprehG4IpHp41=s64",
      "userId": "12258186870812423715"
     },
     "user_tz": 180
    },
    "id": "DsBJMEx-OmYf",
    "outputId": "5cbb394a-be59-4e23-ec76-f107a5eeeffe"
   },
   "outputs": [
    {
     "data": {
      "text/plain": [
       "True    4379900\n",
       "Name: IN_TREINEIRO, dtype: int64"
      ]
     },
     "execution_count": 67,
     "metadata": {},
     "output_type": "execute_result"
    }
   ],
   "source": [
    "pd.notna(dataset_enem.IN_TREINEIRO).value_counts()"
   ]
  },
  {
   "cell_type": "code",
   "execution_count": 68,
   "metadata": {
    "colab": {},
    "colab_type": "code",
    "id": "BAYTSp-7OsBs"
   },
   "outputs": [],
   "source": [
    "#NU_NOTA_CN"
   ]
  },
  {
   "cell_type": "code",
   "execution_count": 69,
   "metadata": {
    "colab": {
     "base_uri": "https://localhost:8080/",
     "height": 34
    },
    "colab_type": "code",
    "executionInfo": {
     "elapsed": 1017,
     "status": "ok",
     "timestamp": 1589935819769,
     "user": {
      "displayName": "Marcos Oliveira",
      "photoUrl": "https://lh3.googleusercontent.com/a-/AOh14GjtJc6boEovFWZizRLvOrpllW_GprehG4IpHp41=s64",
      "userId": "12258186870812423715"
     },
     "user_tz": 180
    },
    "id": "gcOFYKEvPm7L",
    "outputId": "f2e0085e-bd08-4450-c019-43ec8ea012ee"
   },
   "outputs": [
    {
     "data": {
      "text/plain": [
       "(1288291,)"
      ]
     },
     "execution_count": 69,
     "metadata": {},
     "output_type": "execute_result"
    }
   ],
   "source": [
    "dataset_enem.NU_NOTA_CN[(pd.notna(dataset_enem.NU_NOTA_CN)==0)].shape"
   ]
  },
  {
   "cell_type": "code",
   "execution_count": 70,
   "metadata": {
    "colab": {
     "base_uri": "https://localhost:8080/",
     "height": 68
    },
    "colab_type": "code",
    "executionInfo": {
     "elapsed": 934,
     "status": "ok",
     "timestamp": 1589935826087,
     "user": {
      "displayName": "Marcos Oliveira",
      "photoUrl": "https://lh3.googleusercontent.com/a-/AOh14GjtJc6boEovFWZizRLvOrpllW_GprehG4IpHp41=s64",
      "userId": "12258186870812423715"
     },
     "user_tz": 180
    },
    "id": "Y9foqpDJPXcI",
    "outputId": "dd957ee5-1eac-4784-c4d7-39b7266d8851"
   },
   "outputs": [
    {
     "data": {
      "text/plain": [
       "True     3091609\n",
       "False    1288291\n",
       "Name: NU_NOTA_CN, dtype: int64"
      ]
     },
     "execution_count": 70,
     "metadata": {},
     "output_type": "execute_result"
    }
   ],
   "source": [
    "pd.notna(dataset_enem.NU_NOTA_CN).value_counts()"
   ]
  },
  {
   "cell_type": "code",
   "execution_count": 71,
   "metadata": {
    "colab": {},
    "colab_type": "code",
    "id": "ntd2-jH5PSlD"
   },
   "outputs": [],
   "source": [
    "dataset_enem.dropna(subset=['NU_NOTA_CN'], inplace =True)"
   ]
  },
  {
   "cell_type": "code",
   "execution_count": 72,
   "metadata": {
    "colab": {
     "base_uri": "https://localhost:8080/",
     "height": 51
    },
    "colab_type": "code",
    "executionInfo": {
     "elapsed": 851,
     "status": "ok",
     "timestamp": 1589935831657,
     "user": {
      "displayName": "Marcos Oliveira",
      "photoUrl": "https://lh3.googleusercontent.com/a-/AOh14GjtJc6boEovFWZizRLvOrpllW_GprehG4IpHp41=s64",
      "userId": "12258186870812423715"
     },
     "user_tz": 180
    },
    "id": "fFV3rWDMP8xd",
    "outputId": "5d47e10a-0ab7-4c03-f72c-a2255ba96028"
   },
   "outputs": [
    {
     "data": {
      "text/plain": [
       "True    3091609\n",
       "Name: NU_NOTA_CN, dtype: int64"
      ]
     },
     "execution_count": 72,
     "metadata": {},
     "output_type": "execute_result"
    }
   ],
   "source": [
    "pd.notna(dataset_enem.NU_NOTA_CN).value_counts()"
   ]
  },
  {
   "cell_type": "code",
   "execution_count": 73,
   "metadata": {
    "colab": {
     "base_uri": "https://localhost:8080/",
     "height": 34
    },
    "colab_type": "code",
    "executionInfo": {
     "elapsed": 1901,
     "status": "ok",
     "timestamp": 1589935840529,
     "user": {
      "displayName": "Marcos Oliveira",
      "photoUrl": "https://lh3.googleusercontent.com/a-/AOh14GjtJc6boEovFWZizRLvOrpllW_GprehG4IpHp41=s64",
      "userId": "12258186870812423715"
     },
     "user_tz": 180
    },
    "id": "vlFhcbuoQAbB",
    "outputId": "fedcc10c-cfe6-494b-ad9c-de10cc6426fd"
   },
   "outputs": [
    {
     "data": {
      "text/plain": [
       "(0,)"
      ]
     },
     "execution_count": 73,
     "metadata": {},
     "output_type": "execute_result"
    }
   ],
   "source": [
    "dataset_enem.NU_NOTA_CN[(pd.notna(dataset_enem.NU_NOTA_CN)==0)].shape"
   ]
  },
  {
   "cell_type": "code",
   "execution_count": 74,
   "metadata": {
    "colab": {},
    "colab_type": "code",
    "id": "PvX8BtRTPP4o"
   },
   "outputs": [],
   "source": [
    "#NU_NOTA_CH "
   ]
  },
  {
   "cell_type": "code",
   "execution_count": 75,
   "metadata": {
    "colab": {
     "base_uri": "https://localhost:8080/",
     "height": 51
    },
    "colab_type": "code",
    "executionInfo": {
     "elapsed": 937,
     "status": "ok",
     "timestamp": 1589935920920,
     "user": {
      "displayName": "Marcos Oliveira",
      "photoUrl": "https://lh3.googleusercontent.com/a-/AOh14GjtJc6boEovFWZizRLvOrpllW_GprehG4IpHp41=s64",
      "userId": "12258186870812423715"
     },
     "user_tz": 180
    },
    "id": "LNtskhCsQL7h",
    "outputId": "4ccb4735-a6eb-4a01-d3c6-8d42fbf51797"
   },
   "outputs": [
    {
     "data": {
      "text/plain": [
       "True     3084562\n",
       "False       7047\n",
       "Name: NU_NOTA_CH, dtype: int64"
      ]
     },
     "execution_count": 75,
     "metadata": {},
     "output_type": "execute_result"
    }
   ],
   "source": [
    "pd.notna(dataset_enem.NU_NOTA_CH).value_counts()"
   ]
  },
  {
   "cell_type": "code",
   "execution_count": 76,
   "metadata": {
    "colab": {
     "base_uri": "https://localhost:8080/",
     "height": 34
    },
    "colab_type": "code",
    "executionInfo": {
     "elapsed": 997,
     "status": "ok",
     "timestamp": 1589913929114,
     "user": {
      "displayName": "Marcos Oliveira",
      "photoUrl": "https://lh3.googleusercontent.com/a-/AOh14GjtJc6boEovFWZizRLvOrpllW_GprehG4IpHp41=s64",
      "userId": "12258186870812423715"
     },
     "user_tz": 180
    },
    "id": "N02_jdblQH_7",
    "outputId": "3af2fae3-b06c-485f-a422-f20a95c56af0"
   },
   "outputs": [
    {
     "data": {
      "text/plain": [
       "(0,)"
      ]
     },
     "execution_count": 76,
     "metadata": {},
     "output_type": "execute_result"
    }
   ],
   "source": [
    "dataset_enem.NU_NOTA_CN[(pd.notna(dataset_enem.NU_NOTA_CN)==0)].shape"
   ]
  },
  {
   "cell_type": "code",
   "execution_count": 77,
   "metadata": {
    "colab": {},
    "colab_type": "code",
    "id": "OjYxWAqzQXDh"
   },
   "outputs": [],
   "source": [
    "dataset_enem.dropna(subset=['NU_NOTA_CH'], inplace =True)"
   ]
  },
  {
   "cell_type": "code",
   "execution_count": 78,
   "metadata": {
    "colab": {
     "base_uri": "https://localhost:8080/",
     "height": 51
    },
    "colab_type": "code",
    "executionInfo": {
     "elapsed": 914,
     "status": "ok",
     "timestamp": 1589935879339,
     "user": {
      "displayName": "Marcos Oliveira",
      "photoUrl": "https://lh3.googleusercontent.com/a-/AOh14GjtJc6boEovFWZizRLvOrpllW_GprehG4IpHp41=s64",
      "userId": "12258186870812423715"
     },
     "user_tz": 180
    },
    "id": "FJvjH3PmQbN4",
    "outputId": "0a449dd3-3530-4c9f-c951-45ef720154cc"
   },
   "outputs": [
    {
     "data": {
      "text/plain": [
       "True    3084562\n",
       "Name: NU_NOTA_CH, dtype: int64"
      ]
     },
     "execution_count": 78,
     "metadata": {},
     "output_type": "execute_result"
    }
   ],
   "source": [
    "pd.notna(dataset_enem.NU_NOTA_CH).value_counts()"
   ]
  },
  {
   "cell_type": "code",
   "execution_count": 79,
   "metadata": {
    "colab": {},
    "colab_type": "code",
    "id": "IkMEO23CQCnQ"
   },
   "outputs": [],
   "source": [
    "#NU_NOTA_LC         "
   ]
  },
  {
   "cell_type": "code",
   "execution_count": 80,
   "metadata": {
    "colab": {
     "base_uri": "https://localhost:8080/",
     "height": 51
    },
    "colab_type": "code",
    "executionInfo": {
     "elapsed": 924,
     "status": "ok",
     "timestamp": 1589935885567,
     "user": {
      "displayName": "Marcos Oliveira",
      "photoUrl": "https://lh3.googleusercontent.com/a-/AOh14GjtJc6boEovFWZizRLvOrpllW_GprehG4IpHp41=s64",
      "userId": "12258186870812423715"
     },
     "user_tz": 180
    },
    "id": "udcIT9FSQisX",
    "outputId": "f1ee6b31-5330-4a61-ec36-e69fd45164be"
   },
   "outputs": [
    {
     "data": {
      "text/plain": [
       "True    3084562\n",
       "Name: NU_NOTA_LC, dtype: int64"
      ]
     },
     "execution_count": 80,
     "metadata": {},
     "output_type": "execute_result"
    }
   ],
   "source": [
    "pd.notna(dataset_enem.NU_NOTA_LC).value_counts()"
   ]
  },
  {
   "cell_type": "code",
   "execution_count": 81,
   "metadata": {
    "colab": {
     "base_uri": "https://localhost:8080/",
     "height": 34
    },
    "colab_type": "code",
    "executionInfo": {
     "elapsed": 1066,
     "status": "ok",
     "timestamp": 1589935888292,
     "user": {
      "displayName": "Marcos Oliveira",
      "photoUrl": "https://lh3.googleusercontent.com/a-/AOh14GjtJc6boEovFWZizRLvOrpllW_GprehG4IpHp41=s64",
      "userId": "12258186870812423715"
     },
     "user_tz": 180
    },
    "id": "FyGsa6gFQoTx",
    "outputId": "15aac6c2-afc0-4e8c-f8f0-fdfbded3b200"
   },
   "outputs": [
    {
     "data": {
      "text/plain": [
       "(0,)"
      ]
     },
     "execution_count": 81,
     "metadata": {},
     "output_type": "execute_result"
    }
   ],
   "source": [
    "dataset_enem.NU_NOTA_LC[(pd.notna(dataset_enem.NU_NOTA_LC)==0)].shape"
   ]
  },
  {
   "cell_type": "code",
   "execution_count": 82,
   "metadata": {
    "colab": {},
    "colab_type": "code",
    "id": "ocQ_UPrQQdVY"
   },
   "outputs": [],
   "source": [
    "#NU_NOTA_MT"
   ]
  },
  {
   "cell_type": "code",
   "execution_count": 83,
   "metadata": {
    "colab": {
     "base_uri": "https://localhost:8080/",
     "height": 51
    },
    "colab_type": "code",
    "executionInfo": {
     "elapsed": 1547,
     "status": "ok",
     "timestamp": 1589935892024,
     "user": {
      "displayName": "Marcos Oliveira",
      "photoUrl": "https://lh3.googleusercontent.com/a-/AOh14GjtJc6boEovFWZizRLvOrpllW_GprehG4IpHp41=s64",
      "userId": "12258186870812423715"
     },
     "user_tz": 180
    },
    "id": "yXuYzic7QvtL",
    "outputId": "2989dbf0-96d2-4258-89b3-50a36e165a31"
   },
   "outputs": [
    {
     "data": {
      "text/plain": [
       "True    3084562\n",
       "Name: NU_NOTA_MT, dtype: int64"
      ]
     },
     "execution_count": 83,
     "metadata": {},
     "output_type": "execute_result"
    }
   ],
   "source": [
    "pd.notna(dataset_enem.NU_NOTA_MT).value_counts()"
   ]
  },
  {
   "cell_type": "code",
   "execution_count": 84,
   "metadata": {
    "colab": {
     "base_uri": "https://localhost:8080/",
     "height": 34
    },
    "colab_type": "code",
    "executionInfo": {
     "elapsed": 989,
     "status": "ok",
     "timestamp": 1589935893979,
     "user": {
      "displayName": "Marcos Oliveira",
      "photoUrl": "https://lh3.googleusercontent.com/a-/AOh14GjtJc6boEovFWZizRLvOrpllW_GprehG4IpHp41=s64",
      "userId": "12258186870812423715"
     },
     "user_tz": 180
    },
    "id": "SrLUajlWQ0iQ",
    "outputId": "3577613a-67b0-4206-c36b-7ac4c9bf6c02"
   },
   "outputs": [
    {
     "data": {
      "text/plain": [
       "(0,)"
      ]
     },
     "execution_count": 84,
     "metadata": {},
     "output_type": "execute_result"
    }
   ],
   "source": [
    "dataset_enem.NU_NOTA_MT[(pd.notna(dataset_enem.NU_NOTA_MT)==0)].shape"
   ]
  },
  {
   "cell_type": "code",
   "execution_count": 85,
   "metadata": {
    "colab": {},
    "colab_type": "code",
    "id": "kY2VmjfUQs5U"
   },
   "outputs": [],
   "source": [
    "#TP_LINGUA"
   ]
  },
  {
   "cell_type": "code",
   "execution_count": 86,
   "metadata": {
    "colab": {
     "base_uri": "https://localhost:8080/",
     "height": 51
    },
    "colab_type": "code",
    "executionInfo": {
     "elapsed": 1149,
     "status": "ok",
     "timestamp": 1589935897439,
     "user": {
      "displayName": "Marcos Oliveira",
      "photoUrl": "https://lh3.googleusercontent.com/a-/AOh14GjtJc6boEovFWZizRLvOrpllW_GprehG4IpHp41=s64",
      "userId": "12258186870812423715"
     },
     "user_tz": 180
    },
    "id": "Vd4lZjs4Q7j4",
    "outputId": "5d4a78cf-c346-42e5-8d72-7193ce393941"
   },
   "outputs": [
    {
     "data": {
      "text/plain": [
       "True    3084562\n",
       "Name: TP_LINGUA, dtype: int64"
      ]
     },
     "execution_count": 86,
     "metadata": {},
     "output_type": "execute_result"
    }
   ],
   "source": [
    "pd.notna(dataset_enem.TP_LINGUA).value_counts()"
   ]
  },
  {
   "cell_type": "code",
   "execution_count": 87,
   "metadata": {
    "colab": {
     "base_uri": "https://localhost:8080/",
     "height": 34
    },
    "colab_type": "code",
    "executionInfo": {
     "elapsed": 938,
     "status": "ok",
     "timestamp": 1589935899958,
     "user": {
      "displayName": "Marcos Oliveira",
      "photoUrl": "https://lh3.googleusercontent.com/a-/AOh14GjtJc6boEovFWZizRLvOrpllW_GprehG4IpHp41=s64",
      "userId": "12258186870812423715"
     },
     "user_tz": 180
    },
    "id": "ku8jIPUXQ_Lg",
    "outputId": "46c3bb23-da5f-407c-ccdc-0aaf3a924618"
   },
   "outputs": [
    {
     "data": {
      "text/plain": [
       "(0,)"
      ]
     },
     "execution_count": 87,
     "metadata": {},
     "output_type": "execute_result"
    }
   ],
   "source": [
    "dataset_enem.TP_LINGUA[(pd.notna(dataset_enem.TP_LINGUA)==0)].shape"
   ]
  },
  {
   "cell_type": "code",
   "execution_count": 88,
   "metadata": {
    "colab": {},
    "colab_type": "code",
    "id": "ZCWYmG10Q4NP"
   },
   "outputs": [],
   "source": [
    "#NU_NOTA_REDACAO"
   ]
  },
  {
   "cell_type": "code",
   "execution_count": 89,
   "metadata": {
    "colab": {
     "base_uri": "https://localhost:8080/",
     "height": 51
    },
    "colab_type": "code",
    "executionInfo": {
     "elapsed": 1286,
     "status": "ok",
     "timestamp": 1589935904343,
     "user": {
      "displayName": "Marcos Oliveira",
      "photoUrl": "https://lh3.googleusercontent.com/a-/AOh14GjtJc6boEovFWZizRLvOrpllW_GprehG4IpHp41=s64",
      "userId": "12258186870812423715"
     },
     "user_tz": 180
    },
    "id": "912tGVg-RIL-",
    "outputId": "d2f8990d-9a46-4e9b-ccef-1ea5564b215f"
   },
   "outputs": [
    {
     "data": {
      "text/plain": [
       "True    3084562\n",
       "Name: NU_NOTA_REDACAO, dtype: int64"
      ]
     },
     "execution_count": 89,
     "metadata": {},
     "output_type": "execute_result"
    }
   ],
   "source": [
    "pd.notna(dataset_enem.NU_NOTA_REDACAO).value_counts()"
   ]
  },
  {
   "cell_type": "code",
   "execution_count": 90,
   "metadata": {
    "colab": {
     "base_uri": "https://localhost:8080/",
     "height": 34
    },
    "colab_type": "code",
    "executionInfo": {
     "elapsed": 1162,
     "status": "ok",
     "timestamp": 1589935906201,
     "user": {
      "displayName": "Marcos Oliveira",
      "photoUrl": "https://lh3.googleusercontent.com/a-/AOh14GjtJc6boEovFWZizRLvOrpllW_GprehG4IpHp41=s64",
      "userId": "12258186870812423715"
     },
     "user_tz": 180
    },
    "id": "srApoVMyRMns",
    "outputId": "81061843-9078-447e-bd05-1a79daf54b5c"
   },
   "outputs": [
    {
     "data": {
      "text/plain": [
       "(0,)"
      ]
     },
     "execution_count": 90,
     "metadata": {},
     "output_type": "execute_result"
    }
   ],
   "source": [
    "dataset_enem.NU_NOTA_REDACAO[(pd.notna(dataset_enem.NU_NOTA_REDACAO)==0)].shape"
   ]
  },
  {
   "cell_type": "code",
   "execution_count": 91,
   "metadata": {
    "colab": {},
    "colab_type": "code",
    "id": "p8VjpKALYirf"
   },
   "outputs": [],
   "source": [
    "Backup = dataset_enem.copy()"
   ]
  },
  {
   "cell_type": "code",
   "execution_count": 92,
   "metadata": {
    "colab": {},
    "colab_type": "code",
    "id": "VsQINNMEW5za"
   },
   "outputs": [],
   "source": [
    "#Q001 e Q002"
   ]
  },
  {
   "cell_type": "code",
   "execution_count": 93,
   "metadata": {
    "colab": {
     "base_uri": "https://localhost:8080/",
     "height": 170
    },
    "colab_type": "code",
    "executionInfo": {
     "elapsed": 1578,
     "status": "ok",
     "timestamp": 1589935913948,
     "user": {
      "displayName": "Marcos Oliveira",
      "photoUrl": "https://lh3.googleusercontent.com/a-/AOh14GjtJc6boEovFWZizRLvOrpllW_GprehG4IpHp41=s64",
      "userId": "12258186870812423715"
     },
     "user_tz": 180
    },
    "id": "RTBgjdgeW-e1",
    "outputId": "db179c00-315f-43aa-d49c-9df37f5b5786"
   },
   "outputs": [
    {
     "data": {
      "text/plain": [
       "E    826641\n",
       "B    665383\n",
       "C    444934\n",
       "D    375013\n",
       "H    267632\n",
       "F    223745\n",
       "A    158731\n",
       "G    122483\n",
       "Name: Q001, dtype: int64"
      ]
     },
     "execution_count": 93,
     "metadata": {},
     "output_type": "execute_result"
    }
   ],
   "source": [
    "dataset_enem.Q001.value_counts()"
   ]
  },
  {
   "cell_type": "code",
   "execution_count": 94,
   "metadata": {
    "colab": {
     "base_uri": "https://localhost:8080/",
     "height": 102
    },
    "colab_type": "code",
    "executionInfo": {
     "elapsed": 2131,
     "status": "ok",
     "timestamp": 1589935936864,
     "user": {
      "displayName": "Marcos Oliveira",
      "photoUrl": "https://lh3.googleusercontent.com/a-/AOh14GjtJc6boEovFWZizRLvOrpllW_GprehG4IpHp41=s64",
      "userId": "12258186870812423715"
     },
     "user_tz": 180
    },
    "id": "YmqSvo8WYdZP",
    "outputId": "229d319b-19bf-402b-f0fd-8481cad4c67a"
   },
   "outputs": [
    {
     "name": "stderr",
     "output_type": "stream",
     "text": [
      "C:\\Users\\Vinicius\\anaconda3\\lib\\site-packages\\ipykernel_launcher.py:1: SettingWithCopyWarning: \n",
      "A value is trying to be set on a copy of a slice from a DataFrame\n",
      "\n",
      "See the caveats in the documentation: https://pandas.pydata.org/pandas-docs/stable/user_guide/indexing.html#returning-a-view-versus-a-copy\n",
      "  \"\"\"Entry point for launching an IPython kernel.\n"
     ]
    }
   ],
   "source": [
    "dataset_enem.Q001[(dataset_enem.Q001=='F') | (dataset_enem.Q001 == 'G')] = 0"
   ]
  },
  {
   "cell_type": "code",
   "execution_count": 95,
   "metadata": {
    "colab": {
     "base_uri": "https://localhost:8080/",
     "height": 102
    },
    "colab_type": "code",
    "executionInfo": {
     "elapsed": 1861,
     "status": "ok",
     "timestamp": 1589935939497,
     "user": {
      "displayName": "Marcos Oliveira",
      "photoUrl": "https://lh3.googleusercontent.com/a-/AOh14GjtJc6boEovFWZizRLvOrpllW_GprehG4IpHp41=s64",
      "userId": "12258186870812423715"
     },
     "user_tz": 180
    },
    "id": "AJUGvINhaUEZ",
    "outputId": "aff6a2a5-6350-4555-d8b9-f602a4a2c991"
   },
   "outputs": [
    {
     "name": "stderr",
     "output_type": "stream",
     "text": [
      "C:\\Users\\Vinicius\\anaconda3\\lib\\site-packages\\ipykernel_launcher.py:1: SettingWithCopyWarning: \n",
      "A value is trying to be set on a copy of a slice from a DataFrame\n",
      "\n",
      "See the caveats in the documentation: https://pandas.pydata.org/pandas-docs/stable/user_guide/indexing.html#returning-a-view-versus-a-copy\n",
      "  \"\"\"Entry point for launching an IPython kernel.\n"
     ]
    }
   ],
   "source": [
    "dataset_enem.Q001[(dataset_enem.Q001 !=0 )] =1"
   ]
  },
  {
   "cell_type": "code",
   "execution_count": 96,
   "metadata": {
    "colab": {
     "base_uri": "https://localhost:8080/",
     "height": 68
    },
    "colab_type": "code",
    "executionInfo": {
     "elapsed": 1098,
     "status": "ok",
     "timestamp": 1589935942070,
     "user": {
      "displayName": "Marcos Oliveira",
      "photoUrl": "https://lh3.googleusercontent.com/a-/AOh14GjtJc6boEovFWZizRLvOrpllW_GprehG4IpHp41=s64",
      "userId": "12258186870812423715"
     },
     "user_tz": 180
    },
    "id": "tlmwtgR1aZsa",
    "outputId": "5c301ce1-d28d-4fb7-88f7-b996ef2c1cd0"
   },
   "outputs": [
    {
     "data": {
      "text/plain": [
       "1    2738334\n",
       "0     346228\n",
       "Name: Q001, dtype: int64"
      ]
     },
     "execution_count": 96,
     "metadata": {},
     "output_type": "execute_result"
    }
   ],
   "source": [
    "dataset_enem.Q001.value_counts()"
   ]
  },
  {
   "cell_type": "code",
   "execution_count": 97,
   "metadata": {
    "colab": {
     "base_uri": "https://localhost:8080/",
     "height": 170
    },
    "colab_type": "code",
    "executionInfo": {
     "elapsed": 931,
     "status": "ok",
     "timestamp": 1589935945280,
     "user": {
      "displayName": "Marcos Oliveira",
      "photoUrl": "https://lh3.googleusercontent.com/a-/AOh14GjtJc6boEovFWZizRLvOrpllW_GprehG4IpHp41=s64",
      "userId": "12258186870812423715"
     },
     "user_tz": 180
    },
    "id": "-FM14K2rXMjD",
    "outputId": "3bc96f92-e567-4c6e-dc5c-8683ab15b82a"
   },
   "outputs": [
    {
     "data": {
      "text/plain": [
       "E    1028248\n",
       "B     490886\n",
       "D     421368\n",
       "C     421292\n",
       "F     307611\n",
       "G     222851\n",
       "A     103643\n",
       "H      88663\n",
       "Name: Q002, dtype: int64"
      ]
     },
     "execution_count": 97,
     "metadata": {},
     "output_type": "execute_result"
    }
   ],
   "source": [
    "dataset_enem.Q002.value_counts()"
   ]
  },
  {
   "cell_type": "code",
   "execution_count": 98,
   "metadata": {
    "colab": {
     "base_uri": "https://localhost:8080/",
     "height": 102
    },
    "colab_type": "code",
    "executionInfo": {
     "elapsed": 1327,
     "status": "ok",
     "timestamp": 1589935949479,
     "user": {
      "displayName": "Marcos Oliveira",
      "photoUrl": "https://lh3.googleusercontent.com/a-/AOh14GjtJc6boEovFWZizRLvOrpllW_GprehG4IpHp41=s64",
      "userId": "12258186870812423715"
     },
     "user_tz": 180
    },
    "id": "qN6ce0wMaxxV",
    "outputId": "740589f8-6e03-4dd7-d787-3ddcd450b058"
   },
   "outputs": [
    {
     "name": "stderr",
     "output_type": "stream",
     "text": [
      "C:\\Users\\Vinicius\\anaconda3\\lib\\site-packages\\ipykernel_launcher.py:1: SettingWithCopyWarning: \n",
      "A value is trying to be set on a copy of a slice from a DataFrame\n",
      "\n",
      "See the caveats in the documentation: https://pandas.pydata.org/pandas-docs/stable/user_guide/indexing.html#returning-a-view-versus-a-copy\n",
      "  \"\"\"Entry point for launching an IPython kernel.\n"
     ]
    }
   ],
   "source": [
    "dataset_enem.Q002[(dataset_enem.Q002=='F') | (dataset_enem.Q002 == 'G')] = 0"
   ]
  },
  {
   "cell_type": "code",
   "execution_count": 99,
   "metadata": {
    "colab": {
     "base_uri": "https://localhost:8080/",
     "height": 102
    },
    "colab_type": "code",
    "executionInfo": {
     "elapsed": 1203,
     "status": "ok",
     "timestamp": 1589935951634,
     "user": {
      "displayName": "Marcos Oliveira",
      "photoUrl": "https://lh3.googleusercontent.com/a-/AOh14GjtJc6boEovFWZizRLvOrpllW_GprehG4IpHp41=s64",
      "userId": "12258186870812423715"
     },
     "user_tz": 180
    },
    "id": "L839jjrZbGvv",
    "outputId": "12349af8-5403-4cdb-d9b2-28a3d102653c"
   },
   "outputs": [
    {
     "name": "stderr",
     "output_type": "stream",
     "text": [
      "C:\\Users\\Vinicius\\anaconda3\\lib\\site-packages\\ipykernel_launcher.py:1: SettingWithCopyWarning: \n",
      "A value is trying to be set on a copy of a slice from a DataFrame\n",
      "\n",
      "See the caveats in the documentation: https://pandas.pydata.org/pandas-docs/stable/user_guide/indexing.html#returning-a-view-versus-a-copy\n",
      "  \"\"\"Entry point for launching an IPython kernel.\n"
     ]
    }
   ],
   "source": [
    "dataset_enem.Q002[(dataset_enem.Q002 !=0 )] =1"
   ]
  },
  {
   "cell_type": "code",
   "execution_count": 100,
   "metadata": {
    "colab": {
     "base_uri": "https://localhost:8080/",
     "height": 68
    },
    "colab_type": "code",
    "executionInfo": {
     "elapsed": 1028,
     "status": "ok",
     "timestamp": 1589935953779,
     "user": {
      "displayName": "Marcos Oliveira",
      "photoUrl": "https://lh3.googleusercontent.com/a-/AOh14GjtJc6boEovFWZizRLvOrpllW_GprehG4IpHp41=s64",
      "userId": "12258186870812423715"
     },
     "user_tz": 180
    },
    "id": "e7srzx1aa_yI",
    "outputId": "c78c9b6f-9592-4b09-f421-51f145703be2"
   },
   "outputs": [
    {
     "data": {
      "text/plain": [
       "1    2554100\n",
       "0     530462\n",
       "Name: Q002, dtype: int64"
      ]
     },
     "execution_count": 100,
     "metadata": {},
     "output_type": "execute_result"
    }
   ],
   "source": [
    "dataset_enem.Q002.value_counts()"
   ]
  },
  {
   "cell_type": "code",
   "execution_count": 101,
   "metadata": {
    "colab": {},
    "colab_type": "code",
    "id": "xL02kbn3Xn9F"
   },
   "outputs": [],
   "source": [
    "dataset_enem['Q001_Q002'] = 100"
   ]
  },
  {
   "cell_type": "code",
   "execution_count": 102,
   "metadata": {
    "colab": {
     "base_uri": "https://localhost:8080/",
     "height": 102
    },
    "colab_type": "code",
    "executionInfo": {
     "elapsed": 1609,
     "status": "ok",
     "timestamp": 1589935962563,
     "user": {
      "displayName": "Marcos Oliveira",
      "photoUrl": "https://lh3.googleusercontent.com/a-/AOh14GjtJc6boEovFWZizRLvOrpllW_GprehG4IpHp41=s64",
      "userId": "12258186870812423715"
     },
     "user_tz": 180
    },
    "id": "ws_v-M8HbVBw",
    "outputId": "056ec8df-407e-4f40-e9bd-56cae9825ddf"
   },
   "outputs": [
    {
     "name": "stderr",
     "output_type": "stream",
     "text": [
      "C:\\Users\\Vinicius\\anaconda3\\lib\\site-packages\\ipykernel_launcher.py:1: SettingWithCopyWarning: \n",
      "A value is trying to be set on a copy of a slice from a DataFrame\n",
      "\n",
      "See the caveats in the documentation: https://pandas.pydata.org/pandas-docs/stable/user_guide/indexing.html#returning-a-view-versus-a-copy\n",
      "  \"\"\"Entry point for launching an IPython kernel.\n"
     ]
    }
   ],
   "source": [
    "dataset_enem.Q001_Q002[(dataset_enem.Q001== 1) | (dataset_enem.Q002 == 1)] = 1"
   ]
  },
  {
   "cell_type": "code",
   "execution_count": 103,
   "metadata": {
    "colab": {
     "base_uri": "https://localhost:8080/",
     "height": 102
    },
    "colab_type": "code",
    "executionInfo": {
     "elapsed": 1183,
     "status": "ok",
     "timestamp": 1589935963537,
     "user": {
      "displayName": "Marcos Oliveira",
      "photoUrl": "https://lh3.googleusercontent.com/a-/AOh14GjtJc6boEovFWZizRLvOrpllW_GprehG4IpHp41=s64",
      "userId": "12258186870812423715"
     },
     "user_tz": 180
    },
    "id": "steKGffSb3A1",
    "outputId": "ff2323a1-e1d7-4e79-e0c7-18ecae2f33e1"
   },
   "outputs": [
    {
     "name": "stderr",
     "output_type": "stream",
     "text": [
      "C:\\Users\\Vinicius\\anaconda3\\lib\\site-packages\\ipykernel_launcher.py:1: SettingWithCopyWarning: \n",
      "A value is trying to be set on a copy of a slice from a DataFrame\n",
      "\n",
      "See the caveats in the documentation: https://pandas.pydata.org/pandas-docs/stable/user_guide/indexing.html#returning-a-view-versus-a-copy\n",
      "  \"\"\"Entry point for launching an IPython kernel.\n"
     ]
    }
   ],
   "source": [
    "dataset_enem.Q001_Q002[(dataset_enem.Q001== 0) | (dataset_enem.Q002 == 0)] = 0"
   ]
  },
  {
   "cell_type": "code",
   "execution_count": 104,
   "metadata": {
    "colab": {
     "base_uri": "https://localhost:8080/",
     "height": 68
    },
    "colab_type": "code",
    "executionInfo": {
     "elapsed": 957,
     "status": "ok",
     "timestamp": 1589935965803,
     "user": {
      "displayName": "Marcos Oliveira",
      "photoUrl": "https://lh3.googleusercontent.com/a-/AOh14GjtJc6boEovFWZizRLvOrpllW_GprehG4IpHp41=s64",
      "userId": "12258186870812423715"
     },
     "user_tz": 180
    },
    "id": "U-jKbIVib7ZV",
    "outputId": "fd63127c-2c4e-4cfd-c3b8-66f7b26c4dd4"
   },
   "outputs": [
    {
     "data": {
      "text/plain": [
       "1    2411928\n",
       "0     672634\n",
       "Name: Q001_Q002, dtype: int64"
      ]
     },
     "execution_count": 104,
     "metadata": {},
     "output_type": "execute_result"
    }
   ],
   "source": [
    "dataset_enem['Q001_Q002'].value_counts()"
   ]
  },
  {
   "cell_type": "code",
   "execution_count": 105,
   "metadata": {
    "colab": {},
    "colab_type": "code",
    "id": "Hg2FCMOKcjb_"
   },
   "outputs": [],
   "source": [
    "Backup = dataset_enem.copy()"
   ]
  },
  {
   "cell_type": "code",
   "execution_count": 106,
   "metadata": {
    "colab": {
     "base_uri": "https://localhost:8080/",
     "height": 439
    },
    "colab_type": "code",
    "executionInfo": {
     "elapsed": 1127,
     "status": "ok",
     "timestamp": 1589935970655,
     "user": {
      "displayName": "Marcos Oliveira",
      "photoUrl": "https://lh3.googleusercontent.com/a-/AOh14GjtJc6boEovFWZizRLvOrpllW_GprehG4IpHp41=s64",
      "userId": "12258186870812423715"
     },
     "user_tz": 180
    },
    "id": "-RyrdtbEc7Rf",
    "outputId": "c0933f55-db25-4288-9b43-e2b2e5ed0d7d"
   },
   "outputs": [
    {
     "data": {
      "text/html": [
       "<div>\n",
       "<style scoped>\n",
       "    .dataframe tbody tr th:only-of-type {\n",
       "        vertical-align: middle;\n",
       "    }\n",
       "\n",
       "    .dataframe tbody tr th {\n",
       "        vertical-align: top;\n",
       "    }\n",
       "\n",
       "    .dataframe thead th {\n",
       "        text-align: right;\n",
       "    }\n",
       "</style>\n",
       "<table border=\"1\" class=\"dataframe\">\n",
       "  <thead>\n",
       "    <tr style=\"text-align: right;\">\n",
       "      <th></th>\n",
       "      <th>SG_UF_RESIDENCIA</th>\n",
       "      <th>NU_IDADE</th>\n",
       "      <th>TP_ESTADO_CIVIL</th>\n",
       "      <th>TP_COR_RACA</th>\n",
       "      <th>TP_ST_CONCLUSAO</th>\n",
       "      <th>TP_ANO_CONCLUIU</th>\n",
       "      <th>TP_ENSINO</th>\n",
       "      <th>IN_TREINEIRO</th>\n",
       "      <th>NU_NOTA_CN</th>\n",
       "      <th>NU_NOTA_CH</th>\n",
       "      <th>...</th>\n",
       "      <th>RENDIMENTO_CN</th>\n",
       "      <th>RENDIMENTO_CH</th>\n",
       "      <th>RENDIMENTO_LC</th>\n",
       "      <th>RENDIMENTO_MT</th>\n",
       "      <th>RENDIMENTO_REDACAO</th>\n",
       "      <th>MEDIA_GERAL</th>\n",
       "      <th>RENDIMENTO_GERAL</th>\n",
       "      <th>NU_IDADE_2</th>\n",
       "      <th>RECEM_FORMADO</th>\n",
       "      <th>Q001_Q002</th>\n",
       "    </tr>\n",
       "  </thead>\n",
       "  <tbody>\n",
       "    <tr>\n",
       "      <th>1</th>\n",
       "      <td>MA</td>\n",
       "      <td>23.0</td>\n",
       "      <td>1.0</td>\n",
       "      <td>1</td>\n",
       "      <td>1</td>\n",
       "      <td>5</td>\n",
       "      <td>1.0</td>\n",
       "      <td>0</td>\n",
       "      <td>521.0</td>\n",
       "      <td>568.7</td>\n",
       "      <td>...</td>\n",
       "      <td>0</td>\n",
       "      <td>0</td>\n",
       "      <td>0</td>\n",
       "      <td>0</td>\n",
       "      <td>0</td>\n",
       "      <td>0</td>\n",
       "      <td>0</td>\n",
       "      <td>7</td>\n",
       "      <td>0</td>\n",
       "      <td>1</td>\n",
       "    </tr>\n",
       "    <tr>\n",
       "      <th>5</th>\n",
       "      <td>PB</td>\n",
       "      <td>23.0</td>\n",
       "      <td>1.0</td>\n",
       "      <td>0</td>\n",
       "      <td>1</td>\n",
       "      <td>5</td>\n",
       "      <td>1.0</td>\n",
       "      <td>0</td>\n",
       "      <td>461.8</td>\n",
       "      <td>564.0</td>\n",
       "      <td>...</td>\n",
       "      <td>0</td>\n",
       "      <td>0</td>\n",
       "      <td>0</td>\n",
       "      <td>0</td>\n",
       "      <td>0</td>\n",
       "      <td>0</td>\n",
       "      <td>0</td>\n",
       "      <td>7</td>\n",
       "      <td>0</td>\n",
       "      <td>1</td>\n",
       "    </tr>\n",
       "    <tr>\n",
       "      <th>7</th>\n",
       "      <td>PI</td>\n",
       "      <td>39.0</td>\n",
       "      <td>0.0</td>\n",
       "      <td>1</td>\n",
       "      <td>1</td>\n",
       "      <td>12</td>\n",
       "      <td>1.0</td>\n",
       "      <td>0</td>\n",
       "      <td>499.3</td>\n",
       "      <td>663.2</td>\n",
       "      <td>...</td>\n",
       "      <td>0</td>\n",
       "      <td>0</td>\n",
       "      <td>0</td>\n",
       "      <td>0</td>\n",
       "      <td>0</td>\n",
       "      <td>0</td>\n",
       "      <td>0</td>\n",
       "      <td>7</td>\n",
       "      <td>0</td>\n",
       "      <td>1</td>\n",
       "    </tr>\n",
       "    <tr>\n",
       "      <th>8</th>\n",
       "      <td>CE</td>\n",
       "      <td>19.0</td>\n",
       "      <td>1.0</td>\n",
       "      <td>1</td>\n",
       "      <td>2</td>\n",
       "      <td>0</td>\n",
       "      <td>1.0</td>\n",
       "      <td>0</td>\n",
       "      <td>411.8</td>\n",
       "      <td>429.8</td>\n",
       "      <td>...</td>\n",
       "      <td>0</td>\n",
       "      <td>0</td>\n",
       "      <td>0</td>\n",
       "      <td>0</td>\n",
       "      <td>0</td>\n",
       "      <td>0</td>\n",
       "      <td>0</td>\n",
       "      <td>4</td>\n",
       "      <td>1</td>\n",
       "      <td>1</td>\n",
       "    </tr>\n",
       "    <tr>\n",
       "      <th>9</th>\n",
       "      <td>MT</td>\n",
       "      <td>25.0</td>\n",
       "      <td>1.0</td>\n",
       "      <td>1</td>\n",
       "      <td>1</td>\n",
       "      <td>9</td>\n",
       "      <td>1.0</td>\n",
       "      <td>0</td>\n",
       "      <td>469.4</td>\n",
       "      <td>650.2</td>\n",
       "      <td>...</td>\n",
       "      <td>0</td>\n",
       "      <td>0</td>\n",
       "      <td>0</td>\n",
       "      <td>0</td>\n",
       "      <td>0</td>\n",
       "      <td>0</td>\n",
       "      <td>0</td>\n",
       "      <td>7</td>\n",
       "      <td>0</td>\n",
       "      <td>1</td>\n",
       "    </tr>\n",
       "    <tr>\n",
       "      <th>...</th>\n",
       "      <td>...</td>\n",
       "      <td>...</td>\n",
       "      <td>...</td>\n",
       "      <td>...</td>\n",
       "      <td>...</td>\n",
       "      <td>...</td>\n",
       "      <td>...</td>\n",
       "      <td>...</td>\n",
       "      <td>...</td>\n",
       "      <td>...</td>\n",
       "      <td>...</td>\n",
       "      <td>...</td>\n",
       "      <td>...</td>\n",
       "      <td>...</td>\n",
       "      <td>...</td>\n",
       "      <td>...</td>\n",
       "      <td>...</td>\n",
       "      <td>...</td>\n",
       "      <td>...</td>\n",
       "      <td>...</td>\n",
       "      <td>...</td>\n",
       "    </tr>\n",
       "    <tr>\n",
       "      <th>5513735</th>\n",
       "      <td>MA</td>\n",
       "      <td>17.0</td>\n",
       "      <td>1.0</td>\n",
       "      <td>0</td>\n",
       "      <td>2</td>\n",
       "      <td>0</td>\n",
       "      <td>1.0</td>\n",
       "      <td>0</td>\n",
       "      <td>431.3</td>\n",
       "      <td>476.6</td>\n",
       "      <td>...</td>\n",
       "      <td>0</td>\n",
       "      <td>0</td>\n",
       "      <td>0</td>\n",
       "      <td>0</td>\n",
       "      <td>0</td>\n",
       "      <td>0</td>\n",
       "      <td>0</td>\n",
       "      <td>2</td>\n",
       "      <td>1</td>\n",
       "      <td>0</td>\n",
       "    </tr>\n",
       "    <tr>\n",
       "      <th>5513736</th>\n",
       "      <td>AM</td>\n",
       "      <td>18.0</td>\n",
       "      <td>1.0</td>\n",
       "      <td>1</td>\n",
       "      <td>2</td>\n",
       "      <td>0</td>\n",
       "      <td>1.0</td>\n",
       "      <td>0</td>\n",
       "      <td>497.5</td>\n",
       "      <td>604.4</td>\n",
       "      <td>...</td>\n",
       "      <td>0</td>\n",
       "      <td>0</td>\n",
       "      <td>0</td>\n",
       "      <td>0</td>\n",
       "      <td>0</td>\n",
       "      <td>0</td>\n",
       "      <td>0</td>\n",
       "      <td>3</td>\n",
       "      <td>1</td>\n",
       "      <td>1</td>\n",
       "    </tr>\n",
       "    <tr>\n",
       "      <th>5513743</th>\n",
       "      <td>AM</td>\n",
       "      <td>20.0</td>\n",
       "      <td>1.0</td>\n",
       "      <td>1</td>\n",
       "      <td>2</td>\n",
       "      <td>0</td>\n",
       "      <td>1.0</td>\n",
       "      <td>0</td>\n",
       "      <td>435.6</td>\n",
       "      <td>556.8</td>\n",
       "      <td>...</td>\n",
       "      <td>0</td>\n",
       "      <td>0</td>\n",
       "      <td>0</td>\n",
       "      <td>0</td>\n",
       "      <td>0</td>\n",
       "      <td>0</td>\n",
       "      <td>0</td>\n",
       "      <td>5</td>\n",
       "      <td>1</td>\n",
       "      <td>1</td>\n",
       "    </tr>\n",
       "    <tr>\n",
       "      <th>5513745</th>\n",
       "      <td>SP</td>\n",
       "      <td>17.0</td>\n",
       "      <td>1.0</td>\n",
       "      <td>0</td>\n",
       "      <td>2</td>\n",
       "      <td>0</td>\n",
       "      <td>1.0</td>\n",
       "      <td>0</td>\n",
       "      <td>524.9</td>\n",
       "      <td>496.5</td>\n",
       "      <td>...</td>\n",
       "      <td>0</td>\n",
       "      <td>0</td>\n",
       "      <td>0</td>\n",
       "      <td>0</td>\n",
       "      <td>0</td>\n",
       "      <td>0</td>\n",
       "      <td>0</td>\n",
       "      <td>2</td>\n",
       "      <td>1</td>\n",
       "      <td>1</td>\n",
       "    </tr>\n",
       "    <tr>\n",
       "      <th>5513746</th>\n",
       "      <td>MG</td>\n",
       "      <td>21.0</td>\n",
       "      <td>1.0</td>\n",
       "      <td>1</td>\n",
       "      <td>1</td>\n",
       "      <td>3</td>\n",
       "      <td>1.0</td>\n",
       "      <td>0</td>\n",
       "      <td>442.7</td>\n",
       "      <td>549.4</td>\n",
       "      <td>...</td>\n",
       "      <td>0</td>\n",
       "      <td>0</td>\n",
       "      <td>0</td>\n",
       "      <td>0</td>\n",
       "      <td>0</td>\n",
       "      <td>0</td>\n",
       "      <td>0</td>\n",
       "      <td>6</td>\n",
       "      <td>0</td>\n",
       "      <td>1</td>\n",
       "    </tr>\n",
       "  </tbody>\n",
       "</table>\n",
       "<p>3084562 rows × 31 columns</p>\n",
       "</div>"
      ],
      "text/plain": [
       "        SG_UF_RESIDENCIA  NU_IDADE  TP_ESTADO_CIVIL  TP_COR_RACA  \\\n",
       "1                     MA      23.0              1.0            1   \n",
       "5                     PB      23.0              1.0            0   \n",
       "7                     PI      39.0              0.0            1   \n",
       "8                     CE      19.0              1.0            1   \n",
       "9                     MT      25.0              1.0            1   \n",
       "...                  ...       ...              ...          ...   \n",
       "5513735               MA      17.0              1.0            0   \n",
       "5513736               AM      18.0              1.0            1   \n",
       "5513743               AM      20.0              1.0            1   \n",
       "5513745               SP      17.0              1.0            0   \n",
       "5513746               MG      21.0              1.0            1   \n",
       "\n",
       "         TP_ST_CONCLUSAO  TP_ANO_CONCLUIU  TP_ENSINO  IN_TREINEIRO  \\\n",
       "1                      1                5        1.0             0   \n",
       "5                      1                5        1.0             0   \n",
       "7                      1               12        1.0             0   \n",
       "8                      2                0        1.0             0   \n",
       "9                      1                9        1.0             0   \n",
       "...                  ...              ...        ...           ...   \n",
       "5513735                2                0        1.0             0   \n",
       "5513736                2                0        1.0             0   \n",
       "5513743                2                0        1.0             0   \n",
       "5513745                2                0        1.0             0   \n",
       "5513746                1                3        1.0             0   \n",
       "\n",
       "         NU_NOTA_CN  NU_NOTA_CH  ...  RENDIMENTO_CN  RENDIMENTO_CH  \\\n",
       "1             521.0       568.7  ...              0              0   \n",
       "5             461.8       564.0  ...              0              0   \n",
       "7             499.3       663.2  ...              0              0   \n",
       "8             411.8       429.8  ...              0              0   \n",
       "9             469.4       650.2  ...              0              0   \n",
       "...             ...         ...  ...            ...            ...   \n",
       "5513735       431.3       476.6  ...              0              0   \n",
       "5513736       497.5       604.4  ...              0              0   \n",
       "5513743       435.6       556.8  ...              0              0   \n",
       "5513745       524.9       496.5  ...              0              0   \n",
       "5513746       442.7       549.4  ...              0              0   \n",
       "\n",
       "         RENDIMENTO_LC  RENDIMENTO_MT RENDIMENTO_REDACAO MEDIA_GERAL  \\\n",
       "1                    0              0                  0           0   \n",
       "5                    0              0                  0           0   \n",
       "7                    0              0                  0           0   \n",
       "8                    0              0                  0           0   \n",
       "9                    0              0                  0           0   \n",
       "...                ...            ...                ...         ...   \n",
       "5513735              0              0                  0           0   \n",
       "5513736              0              0                  0           0   \n",
       "5513743              0              0                  0           0   \n",
       "5513745              0              0                  0           0   \n",
       "5513746              0              0                  0           0   \n",
       "\n",
       "         RENDIMENTO_GERAL NU_IDADE_2 RECEM_FORMADO Q001_Q002  \n",
       "1                       0          7             0         1  \n",
       "5                       0          7             0         1  \n",
       "7                       0          7             0         1  \n",
       "8                       0          4             1         1  \n",
       "9                       0          7             0         1  \n",
       "...                   ...        ...           ...       ...  \n",
       "5513735                 0          2             1         0  \n",
       "5513736                 0          3             1         1  \n",
       "5513743                 0          5             1         1  \n",
       "5513745                 0          2             1         1  \n",
       "5513746                 0          6             0         1  \n",
       "\n",
       "[3084562 rows x 31 columns]"
      ]
     },
     "execution_count": 106,
     "metadata": {},
     "output_type": "execute_result"
    }
   ],
   "source": [
    "dataset_enem"
   ]
  },
  {
   "cell_type": "code",
   "execution_count": 107,
   "metadata": {
    "colab": {},
    "colab_type": "code",
    "id": "nLwujIdrcYQP"
   },
   "outputs": [],
   "source": [
    "#Q005 e Q005"
   ]
  },
  {
   "cell_type": "code",
   "execution_count": 108,
   "metadata": {
    "colab": {},
    "colab_type": "code",
    "id": "-6HstsZhc2Fl"
   },
   "outputs": [],
   "source": [
    "dataset_enem['RENDA_PERCAPITA_FAMILIAR'] = 0"
   ]
  },
  {
   "cell_type": "code",
   "execution_count": 109,
   "metadata": {
    "colab": {},
    "colab_type": "code",
    "id": "pGFg9HLac5xY"
   },
   "outputs": [],
   "source": [
    "condicao = [ dataset_enem['Q006'] =='A', dataset_enem['Q006']=='B', dataset_enem['Q006']=='C', dataset_enem['Q006']=='D', dataset_enem['Q006']=='E', dataset_enem['Q006']=='F', dataset_enem['Q006']=='G', dataset_enem['Q006']=='H',dataset_enem['Q006']=='I', dataset_enem['Q006']=='J', dataset_enem['Q006']=='K', dataset_enem['Q006']=='L', dataset_enem['Q006']=='M', dataset_enem['Q006']=='N', dataset_enem['Q006']=='O', dataset_enem['Q006']=='P']\n",
    "resultado = [(1*954)/dataset_enem['Q005'], (1*954)/dataset_enem['Q005'], (1.5*954)/dataset_enem['Q005'], (2*954)/dataset_enem['Q005'], 2.5*954/dataset_enem['Q005'], 3*954/dataset_enem['Q005'], 4*954/dataset_enem['Q005'], 5*954/dataset_enem['Q005'], 6*954/dataset_enem['Q005'], 7*954/dataset_enem['Q005'], 8*954/dataset_enem['Q005'], 9*954/dataset_enem['Q005'], 10*954/dataset_enem['Q005'], 12*954/dataset_enem['Q005'], 15*954/dataset_enem['Q005'], 20*954/dataset_enem['Q005']]\n",
    "\n",
    "dataset_enem['RENDA_PERCAPITA_FAMILIAR'] = np.select(condicao, resultado, 50*954/dataset_enem['Q005'])"
   ]
  },
  {
   "cell_type": "code",
   "execution_count": 110,
   "metadata": {
    "colab": {
     "base_uri": "https://localhost:8080/",
     "height": 351
    },
    "colab_type": "code",
    "executionInfo": {
     "elapsed": 2024,
     "status": "ok",
     "timestamp": 1589919790957,
     "user": {
      "displayName": "Marcos Oliveira",
      "photoUrl": "https://lh3.googleusercontent.com/a-/AOh14GjtJc6boEovFWZizRLvOrpllW_GprehG4IpHp41=s64",
      "userId": "12258186870812423715"
     },
     "user_tz": 180
    },
    "id": "H1lQQMuVdJen",
    "outputId": "7179d099-00f4-4f1e-e00f-1fbc6b705b21"
   },
   "outputs": [
    {
     "data": {
      "text/plain": [
       "<matplotlib.axes._subplots.AxesSubplot at 0x2684d883c08>"
      ]
     },
     "execution_count": 110,
     "metadata": {},
     "output_type": "execute_result"
    },
    {
     "data": {
      "image/png": "[encoded data removed]",
      "text/plain": [
       "<Figure size 720x360 with 1 Axes>"
      ]
     },
     "metadata": {
      "needs_background": "light"
     },
     "output_type": "display_data"
    }
   ],
   "source": [
    "plt.figure(figsize=(10, 5))\n",
    "sns.countplot(x='Q006', data=dataset_enem)"
   ]
  },
  {
   "cell_type": "code",
   "execution_count": 111,
   "metadata": {
    "colab": {
     "base_uri": "https://localhost:8080/",
     "height": 289
    },
    "colab_type": "code",
    "executionInfo": {
     "elapsed": 905,
     "status": "ok",
     "timestamp": 1589935986077,
     "user": {
      "displayName": "Marcos Oliveira",
      "photoUrl": "https://lh3.googleusercontent.com/a-/AOh14GjtJc6boEovFWZizRLvOrpllW_GprehG4IpHp41=s64",
      "userId": "12258186870812423715"
     },
     "user_tz": 180
    },
    "id": "tXt5E8D0rTnO",
    "outputId": "08a7fc94-0c9c-48c5-8fe7-40d5109806ec"
   },
   "outputs": [
    {
     "data": {
      "text/plain": [
       "477.00     475792\n",
       "238.50     299715\n",
       "357.75     254865\n",
       "318.00     228381\n",
       "954.00     211992\n",
       "715.50     154266\n",
       "190.80     150688\n",
       "286.20     141561\n",
       "596.25     107631\n",
       "636.00      90053\n",
       "795.00      79241\n",
       "1431.00     77714\n",
       "1192.50     75905\n",
       "159.00      68419\n",
       "1908.00     61846\n",
       "Name: RENDA_PERCAPITA_FAMILIAR, dtype: int64"
      ]
     },
     "execution_count": 111,
     "metadata": {},
     "output_type": "execute_result"
    }
   ],
   "source": [
    "dataset_enem['RENDA_PERCAPITA_FAMILIAR'].value_counts().head(15)"
   ]
  },
  {
   "cell_type": "code",
   "execution_count": 112,
   "metadata": {
    "colab": {},
    "colab_type": "code",
    "id": "xba7FcAaeBhE"
   },
   "outputs": [],
   "source": [
    "dataset_enem['CLASSE_RENDA_PERCAPITA_FAMILIAR'] = 0"
   ]
  },
  {
   "cell_type": "code",
   "execution_count": 113,
   "metadata": {
    "colab": {},
    "colab_type": "code",
    "id": "szc0KNfOrAvN"
   },
   "outputs": [],
   "source": [
    "condicao = [dataset_enem['RENDA_PERCAPITA_FAMILIAR'] <= 400, dataset_enem['RENDA_PERCAPITA_FAMILIAR'] <= 800,  dataset_enem['RENDA_PERCAPITA_FAMILIAR'] <= 1200, dataset_enem['RENDA_PERCAPITA_FAMILIAR'] <= 1600 ]\n",
    "resultado = [0, 1, 2, 3]\n",
    "\n",
    "dataset_enem['CLASSE_RENDA_PERCAPITA_FAMILIAR'] = np.select(condicao, resultado, 4)"
   ]
  },
  {
   "cell_type": "code",
   "execution_count": 114,
   "metadata": {
    "colab": {
     "base_uri": "https://localhost:8080/",
     "height": 119
    },
    "colab_type": "code",
    "executionInfo": {
     "elapsed": 952,
     "status": "ok",
     "timestamp": 1589935996756,
     "user": {
      "displayName": "Marcos Oliveira",
      "photoUrl": "https://lh3.googleusercontent.com/a-/AOh14GjtJc6boEovFWZizRLvOrpllW_GprehG4IpHp41=s64",
      "userId": "12258186870812423715"
     },
     "user_tz": 180
    },
    "id": "JCKO28MsxKgP",
    "outputId": "a2be4aea-d4f5-4177-b92d-1ca8bd7a7b7a"
   },
   "outputs": [
    {
     "data": {
      "text/plain": [
       "0    1329888\n",
       "1     979267\n",
       "2     312447\n",
       "4     281377\n",
       "3     181583\n",
       "Name: CLASSE_RENDA_PERCAPITA_FAMILIAR, dtype: int64"
      ]
     },
     "execution_count": 114,
     "metadata": {},
     "output_type": "execute_result"
    }
   ],
   "source": [
    "dataset_enem.CLASSE_RENDA_PERCAPITA_FAMILIAR.value_counts()"
   ]
  },
  {
   "cell_type": "code",
   "execution_count": 115,
   "metadata": {
    "colab": {
     "base_uri": "https://localhost:8080/",
     "height": 363
    },
    "colab_type": "code",
    "executionInfo": {
     "elapsed": 993,
     "status": "ok",
     "timestamp": 1589922925193,
     "user": {
      "displayName": "Marcos Oliveira",
      "photoUrl": "https://lh3.googleusercontent.com/a-/AOh14GjtJc6boEovFWZizRLvOrpllW_GprehG4IpHp41=s64",
      "userId": "12258186870812423715"
     },
     "user_tz": 180
    },
    "id": "OnMJjfEtuxxZ",
    "outputId": "3684141e-3111-40bf-e474-dc55e62072af"
   },
   "outputs": [
    {
     "data": {
      "text/plain": [
       "<matplotlib.axes._subplots.AxesSubplot at 0x2684d9cb448>"
      ]
     },
     "execution_count": 115,
     "metadata": {},
     "output_type": "execute_result"
    },
    {
     "data": {
      "image/png": "[encoded data removed]",
      "text/plain": [
       "<Figure size 720x360 with 1 Axes>"
      ]
     },
     "metadata": {
      "needs_background": "light"
     },
     "output_type": "display_data"
    }
   ],
   "source": [
    "plt.figure(figsize=(10, 5))\n",
    "sns.countplot(x='CLASSE_RENDA_PERCAPITA_FAMILIAR', data=dataset_enem)"
   ]
  },
  {
   "cell_type": "code",
   "execution_count": 116,
   "metadata": {
    "colab": {},
    "colab_type": "code",
    "id": "n9jc4MmqyzfF"
   },
   "outputs": [],
   "source": [
    "#Q025"
   ]
  },
  {
   "cell_type": "code",
   "execution_count": 117,
   "metadata": {
    "colab": {
     "base_uri": "https://localhost:8080/",
     "height": 68
    },
    "colab_type": "code",
    "executionInfo": {
     "elapsed": 1308,
     "status": "ok",
     "timestamp": 1589936005454,
     "user": {
      "displayName": "Marcos Oliveira",
      "photoUrl": "https://lh3.googleusercontent.com/a-/AOh14GjtJc6boEovFWZizRLvOrpllW_GprehG4IpHp41=s64",
      "userId": "12258186870812423715"
     },
     "user_tz": 180
    },
    "id": "7tJxzHufy7YG",
    "outputId": "429c6c8b-9adc-47a8-eaf7-dcede7a720a2"
   },
   "outputs": [
    {
     "data": {
      "text/plain": [
       "B    2300265\n",
       "A     784297\n",
       "Name: Q025, dtype: int64"
      ]
     },
     "execution_count": 117,
     "metadata": {},
     "output_type": "execute_result"
    }
   ],
   "source": [
    "dataset_enem.Q025.value_counts()"
   ]
  },
  {
   "cell_type": "code",
   "execution_count": 118,
   "metadata": {
    "colab": {
     "base_uri": "https://localhost:8080/",
     "height": 102
    },
    "colab_type": "code",
    "executionInfo": {
     "elapsed": 1686,
     "status": "ok",
     "timestamp": 1589936008926,
     "user": {
      "displayName": "Marcos Oliveira",
      "photoUrl": "https://lh3.googleusercontent.com/a-/AOh14GjtJc6boEovFWZizRLvOrpllW_GprehG4IpHp41=s64",
      "userId": "12258186870812423715"
     },
     "user_tz": 180
    },
    "id": "9fieaeMHy-4n",
    "outputId": "5a86bc2e-2052-4c5d-a7b6-e345e937456e"
   },
   "outputs": [
    {
     "name": "stderr",
     "output_type": "stream",
     "text": [
      "C:\\Users\\Vinicius\\anaconda3\\lib\\site-packages\\ipykernel_launcher.py:1: SettingWithCopyWarning: \n",
      "A value is trying to be set on a copy of a slice from a DataFrame\n",
      "\n",
      "See the caveats in the documentation: https://pandas.pydata.org/pandas-docs/stable/user_guide/indexing.html#returning-a-view-versus-a-copy\n",
      "  \"\"\"Entry point for launching an IPython kernel.\n"
     ]
    }
   ],
   "source": [
    "dataset_enem.Q025[(dataset_enem.Q025=='A')] = 0"
   ]
  },
  {
   "cell_type": "code",
   "execution_count": 119,
   "metadata": {
    "colab": {
     "base_uri": "https://localhost:8080/",
     "height": 102
    },
    "colab_type": "code",
    "executionInfo": {
     "elapsed": 932,
     "status": "ok",
     "timestamp": 1589936009284,
     "user": {
      "displayName": "Marcos Oliveira",
      "photoUrl": "https://lh3.googleusercontent.com/a-/AOh14GjtJc6boEovFWZizRLvOrpllW_GprehG4IpHp41=s64",
      "userId": "12258186870812423715"
     },
     "user_tz": 180
    },
    "id": "cAT74-32zx1r",
    "outputId": "838ed8be-29a0-43c0-f821-bb9ba7373128"
   },
   "outputs": [
    {
     "name": "stderr",
     "output_type": "stream",
     "text": [
      "C:\\Users\\Vinicius\\anaconda3\\lib\\site-packages\\ipykernel_launcher.py:1: SettingWithCopyWarning: \n",
      "A value is trying to be set on a copy of a slice from a DataFrame\n",
      "\n",
      "See the caveats in the documentation: https://pandas.pydata.org/pandas-docs/stable/user_guide/indexing.html#returning-a-view-versus-a-copy\n",
      "  \"\"\"Entry point for launching an IPython kernel.\n"
     ]
    }
   ],
   "source": [
    "dataset_enem.Q025[(dataset_enem.Q025=='B')] = 1"
   ]
  },
  {
   "cell_type": "code",
   "execution_count": 120,
   "metadata": {
    "colab": {
     "base_uri": "https://localhost:8080/",
     "height": 68
    },
    "colab_type": "code",
    "executionInfo": {
     "elapsed": 1281,
     "status": "ok",
     "timestamp": 1589936011776,
     "user": {
      "displayName": "Marcos Oliveira",
      "photoUrl": "https://lh3.googleusercontent.com/a-/AOh14GjtJc6boEovFWZizRLvOrpllW_GprehG4IpHp41=s64",
      "userId": "12258186870812423715"
     },
     "user_tz": 180
    },
    "id": "cCiHfjEEz19k",
    "outputId": "8157df08-de88-4036-a2a6-023162eb2dd1"
   },
   "outputs": [
    {
     "data": {
      "text/plain": [
       "1    2300265\n",
       "0     784297\n",
       "Name: Q025, dtype: int64"
      ]
     },
     "execution_count": 120,
     "metadata": {},
     "output_type": "execute_result"
    }
   ],
   "source": [
    "dataset_enem.Q025.value_counts()"
   ]
  },
  {
   "cell_type": "code",
   "execution_count": 121,
   "metadata": {
    "colab": {},
    "colab_type": "code",
    "id": "ujbhBPh7z4lA"
   },
   "outputs": [],
   "source": [
    "#Q026"
   ]
  },
  {
   "cell_type": "code",
   "execution_count": 122,
   "metadata": {
    "colab": {
     "base_uri": "https://localhost:8080/",
     "height": 102
    },
    "colab_type": "code",
    "executionInfo": {
     "elapsed": 1192,
     "status": "ok",
     "timestamp": 1589936018822,
     "user": {
      "displayName": "Marcos Oliveira",
      "photoUrl": "https://lh3.googleusercontent.com/a-/AOh14GjtJc6boEovFWZizRLvOrpllW_GprehG4IpHp41=s64",
      "userId": "12258186870812423715"
     },
     "user_tz": 180
    },
    "id": "kEAMzEbb30il",
    "outputId": "06521b6a-d7a2-4985-b7c2-950524fceeed"
   },
   "outputs": [
    {
     "data": {
      "text/plain": [
       "A    1819259\n",
       "B    1265299\n",
       "D          3\n",
       "C          1\n",
       "Name: Q026, dtype: int64"
      ]
     },
     "execution_count": 122,
     "metadata": {},
     "output_type": "execute_result"
    }
   ],
   "source": [
    "dataset_enem.Q026.value_counts()"
   ]
  },
  {
   "cell_type": "code",
   "execution_count": 123,
   "metadata": {
    "colab": {
     "base_uri": "https://localhost:8080/",
     "height": 102
    },
    "colab_type": "code",
    "executionInfo": {
     "elapsed": 1020,
     "status": "ok",
     "timestamp": 1589936023453,
     "user": {
      "displayName": "Marcos Oliveira",
      "photoUrl": "https://lh3.googleusercontent.com/a-/AOh14GjtJc6boEovFWZizRLvOrpllW_GprehG4IpHp41=s64",
      "userId": "12258186870812423715"
     },
     "user_tz": 180
    },
    "id": "F73ANyxi5Wjh",
    "outputId": "08e2ecec-e31b-4c12-8bd2-209cc418d6c7"
   },
   "outputs": [
    {
     "name": "stderr",
     "output_type": "stream",
     "text": [
      "C:\\Users\\Vinicius\\anaconda3\\lib\\site-packages\\ipykernel_launcher.py:1: SettingWithCopyWarning: \n",
      "A value is trying to be set on a copy of a slice from a DataFrame\n",
      "\n",
      "See the caveats in the documentation: https://pandas.pydata.org/pandas-docs/stable/user_guide/indexing.html#returning-a-view-versus-a-copy\n",
      "  \"\"\"Entry point for launching an IPython kernel.\n"
     ]
    }
   ],
   "source": [
    "dataset_enem.Q026[(dataset_enem.Q026 =='D')] = np.NaN"
   ]
  },
  {
   "cell_type": "code",
   "execution_count": 124,
   "metadata": {
    "colab": {},
    "colab_type": "code",
    "id": "MhvZ0AaO5fKz"
   },
   "outputs": [],
   "source": [
    "dataset_enem.dropna(subset=['Q026'], inplace=True)"
   ]
  },
  {
   "cell_type": "code",
   "execution_count": 125,
   "metadata": {
    "colab": {
     "base_uri": "https://localhost:8080/",
     "height": 85
    },
    "colab_type": "code",
    "executionInfo": {
     "elapsed": 1870,
     "status": "ok",
     "timestamp": 1589936029614,
     "user": {
      "displayName": "Marcos Oliveira",
      "photoUrl": "https://lh3.googleusercontent.com/a-/AOh14GjtJc6boEovFWZizRLvOrpllW_GprehG4IpHp41=s64",
      "userId": "12258186870812423715"
     },
     "user_tz": 180
    },
    "id": "Zkcae34l5pOo",
    "outputId": "6d008546-e387-49bc-a092-045446d2afb4"
   },
   "outputs": [
    {
     "data": {
      "text/plain": [
       "A    1819259\n",
       "B    1265299\n",
       "C          1\n",
       "Name: Q026, dtype: int64"
      ]
     },
     "execution_count": 125,
     "metadata": {},
     "output_type": "execute_result"
    }
   ],
   "source": [
    "dataset_enem.Q026.value_counts()"
   ]
  },
  {
   "cell_type": "code",
   "execution_count": 126,
   "metadata": {
    "colab": {
     "base_uri": "https://localhost:8080/",
     "height": 102
    },
    "colab_type": "code",
    "executionInfo": {
     "elapsed": 1537,
     "status": "ok",
     "timestamp": 1589936032677,
     "user": {
      "displayName": "Marcos Oliveira",
      "photoUrl": "https://lh3.googleusercontent.com/a-/AOh14GjtJc6boEovFWZizRLvOrpllW_GprehG4IpHp41=s64",
      "userId": "12258186870812423715"
     },
     "user_tz": 180
    },
    "id": "em63_1fy4CgI",
    "outputId": "107e4e39-b57c-4be2-dd6b-261da4660a4c"
   },
   "outputs": [
    {
     "name": "stderr",
     "output_type": "stream",
     "text": [
      "C:\\Users\\Vinicius\\anaconda3\\lib\\site-packages\\ipykernel_launcher.py:1: SettingWithCopyWarning: \n",
      "A value is trying to be set on a copy of a slice from a DataFrame\n",
      "\n",
      "See the caveats in the documentation: https://pandas.pydata.org/pandas-docs/stable/user_guide/indexing.html#returning-a-view-versus-a-copy\n",
      "  \"\"\"Entry point for launching an IPython kernel.\n"
     ]
    }
   ],
   "source": [
    "dataset_enem.Q026[(dataset_enem.Q026 =='A')] = 1"
   ]
  },
  {
   "cell_type": "code",
   "execution_count": 127,
   "metadata": {
    "colab": {
     "base_uri": "https://localhost:8080/",
     "height": 187
    },
    "colab_type": "code",
    "executionInfo": {
     "elapsed": 1112,
     "status": "ok",
     "timestamp": 1589936034562,
     "user": {
      "displayName": "Marcos Oliveira",
      "photoUrl": "https://lh3.googleusercontent.com/a-/AOh14GjtJc6boEovFWZizRLvOrpllW_GprehG4IpHp41=s64",
      "userId": "12258186870812423715"
     },
     "user_tz": 180
    },
    "id": "v-Xl80oO5Jch",
    "outputId": "48e9fdc5-c9db-477e-86d2-d99318587b82"
   },
   "outputs": [
    {
     "name": "stderr",
     "output_type": "stream",
     "text": [
      "C:\\Users\\Vinicius\\anaconda3\\lib\\site-packages\\ipykernel_launcher.py:1: SettingWithCopyWarning: \n",
      "A value is trying to be set on a copy of a slice from a DataFrame\n",
      "\n",
      "See the caveats in the documentation: https://pandas.pydata.org/pandas-docs/stable/user_guide/indexing.html#returning-a-view-versus-a-copy\n",
      "  \"\"\"Entry point for launching an IPython kernel.\n",
      "C:\\Users\\Vinicius\\anaconda3\\lib\\site-packages\\ipykernel_launcher.py:2: SettingWithCopyWarning: \n",
      "A value is trying to be set on a copy of a slice from a DataFrame\n",
      "\n",
      "See the caveats in the documentation: https://pandas.pydata.org/pandas-docs/stable/user_guide/indexing.html#returning-a-view-versus-a-copy\n",
      "  \n"
     ]
    }
   ],
   "source": [
    "dataset_enem.Q026[(dataset_enem.Q026 =='B')] = 0\n",
    "dataset_enem.Q026[(dataset_enem.Q026 =='C')] = 0"
   ]
  },
  {
   "cell_type": "code",
   "execution_count": 128,
   "metadata": {
    "colab": {
     "base_uri": "https://localhost:8080/",
     "height": 68
    },
    "colab_type": "code",
    "executionInfo": {
     "elapsed": 1769,
     "status": "ok",
     "timestamp": 1589936037246,
     "user": {
      "displayName": "Marcos Oliveira",
      "photoUrl": "https://lh3.googleusercontent.com/a-/AOh14GjtJc6boEovFWZizRLvOrpllW_GprehG4IpHp41=s64",
      "userId": "12258186870812423715"
     },
     "user_tz": 180
    },
    "id": "57e8kDd24FK7",
    "outputId": "ff7165ec-5471-4b48-afdd-443ff3f5ca92"
   },
   "outputs": [
    {
     "data": {
      "text/plain": [
       "1    1819259\n",
       "0    1265300\n",
       "Name: Q026, dtype: int64"
      ]
     },
     "execution_count": 128,
     "metadata": {},
     "output_type": "execute_result"
    }
   ],
   "source": [
    "dataset_enem.Q026.value_counts()"
   ]
  },
  {
   "cell_type": "code",
   "execution_count": 129,
   "metadata": {
    "colab": {},
    "colab_type": "code",
    "id": "OQTsQkcc64Aq"
   },
   "outputs": [],
   "source": [
    "#Q027"
   ]
  },
  {
   "cell_type": "code",
   "execution_count": 130,
   "metadata": {
    "colab": {
     "base_uri": "https://localhost:8080/",
     "height": 136
    },
    "colab_type": "code",
    "executionInfo": {
     "elapsed": 950,
     "status": "ok",
     "timestamp": 1589936039704,
     "user": {
      "displayName": "Marcos Oliveira",
      "photoUrl": "https://lh3.googleusercontent.com/a-/AOh14GjtJc6boEovFWZizRLvOrpllW_GprehG4IpHp41=s64",
      "userId": "12258186870812423715"
     },
     "user_tz": 180
    },
    "id": "dzMpcpKE67nY",
    "outputId": "d14c40c5-3db4-4c26-c698-24aec2dd2293"
   },
   "outputs": [
    {
     "data": {
      "text/plain": [
       "A    2363689\n",
       "D     352615\n",
       "B     222276\n",
       "C      75521\n",
       "E      69575\n",
       "F        883\n",
       "Name: Q027, dtype: int64"
      ]
     },
     "execution_count": 130,
     "metadata": {},
     "output_type": "execute_result"
    }
   ],
   "source": [
    "dataset_enem.Q027.value_counts()"
   ]
  },
  {
   "cell_type": "code",
   "execution_count": 131,
   "metadata": {
    "colab": {
     "base_uri": "https://localhost:8080/",
     "height": 102
    },
    "colab_type": "code",
    "executionInfo": {
     "elapsed": 1213,
     "status": "ok",
     "timestamp": 1589936041986,
     "user": {
      "displayName": "Marcos Oliveira",
      "photoUrl": "https://lh3.googleusercontent.com/a-/AOh14GjtJc6boEovFWZizRLvOrpllW_GprehG4IpHp41=s64",
      "userId": "12258186870812423715"
     },
     "user_tz": 180
    },
    "id": "NeB4YOlT0V_l",
    "outputId": "fe0df7dc-7881-4215-d40e-bf731b7e692e"
   },
   "outputs": [
    {
     "name": "stderr",
     "output_type": "stream",
     "text": [
      "C:\\Users\\Vinicius\\anaconda3\\lib\\site-packages\\ipykernel_launcher.py:1: SettingWithCopyWarning: \n",
      "A value is trying to be set on a copy of a slice from a DataFrame\n",
      "\n",
      "See the caveats in the documentation: https://pandas.pydata.org/pandas-docs/stable/user_guide/indexing.html#returning-a-view-versus-a-copy\n",
      "  \"\"\"Entry point for launching an IPython kernel.\n"
     ]
    }
   ],
   "source": [
    "dataset_enem.Q027[(dataset_enem.Q027=='F')] = np.NaN"
   ]
  },
  {
   "cell_type": "code",
   "execution_count": 132,
   "metadata": {
    "colab": {},
    "colab_type": "code",
    "id": "NEnKO3lR7X9n"
   },
   "outputs": [],
   "source": [
    "dataset_enem.dropna(subset=['Q027'], inplace=True)"
   ]
  },
  {
   "cell_type": "code",
   "execution_count": 133,
   "metadata": {
    "colab": {
     "base_uri": "https://localhost:8080/",
     "height": 102
    },
    "colab_type": "code",
    "executionInfo": {
     "elapsed": 1245,
     "status": "ok",
     "timestamp": 1589936045600,
     "user": {
      "displayName": "Marcos Oliveira",
      "photoUrl": "https://lh3.googleusercontent.com/a-/AOh14GjtJc6boEovFWZizRLvOrpllW_GprehG4IpHp41=s64",
      "userId": "12258186870812423715"
     },
     "user_tz": 180
    },
    "id": "FZvY3z5G7hxk",
    "outputId": "e46ced8c-0b06-44ac-beed-ffcdee54d1fb"
   },
   "outputs": [
    {
     "name": "stderr",
     "output_type": "stream",
     "text": [
      "C:\\Users\\Vinicius\\anaconda3\\lib\\site-packages\\ipykernel_launcher.py:1: SettingWithCopyWarning: \n",
      "A value is trying to be set on a copy of a slice from a DataFrame\n",
      "\n",
      "See the caveats in the documentation: https://pandas.pydata.org/pandas-docs/stable/user_guide/indexing.html#returning-a-view-versus-a-copy\n",
      "  \"\"\"Entry point for launching an IPython kernel.\n"
     ]
    }
   ],
   "source": [
    "dataset_enem.Q027[(dataset_enem.Q027 =='A') | (dataset_enem.Q027 =='B') | (dataset_enem.Q027 =='C')] = 1\n"
   ]
  },
  {
   "cell_type": "code",
   "execution_count": 134,
   "metadata": {
    "colab": {
     "base_uri": "https://localhost:8080/",
     "height": 102
    },
    "colab_type": "code",
    "executionInfo": {
     "elapsed": 1997,
     "status": "ok",
     "timestamp": 1589936048120,
     "user": {
      "displayName": "Marcos Oliveira",
      "photoUrl": "https://lh3.googleusercontent.com/a-/AOh14GjtJc6boEovFWZizRLvOrpllW_GprehG4IpHp41=s64",
      "userId": "12258186870812423715"
     },
     "user_tz": 180
    },
    "id": "xE5-maIS8LfF",
    "outputId": "bcbd32af-0123-4369-b8a2-ee230e6282ca"
   },
   "outputs": [
    {
     "name": "stderr",
     "output_type": "stream",
     "text": [
      "C:\\Users\\Vinicius\\anaconda3\\lib\\site-packages\\ipykernel_launcher.py:1: SettingWithCopyWarning: \n",
      "A value is trying to be set on a copy of a slice from a DataFrame\n",
      "\n",
      "See the caveats in the documentation: https://pandas.pydata.org/pandas-docs/stable/user_guide/indexing.html#returning-a-view-versus-a-copy\n",
      "  \"\"\"Entry point for launching an IPython kernel.\n"
     ]
    }
   ],
   "source": [
    "dataset_enem.Q027[(dataset_enem.Q027 =='D') | (dataset_enem.Q027 =='E')] = 0"
   ]
  },
  {
   "cell_type": "code",
   "execution_count": 135,
   "metadata": {
    "colab": {
     "base_uri": "https://localhost:8080/",
     "height": 68
    },
    "colab_type": "code",
    "executionInfo": {
     "elapsed": 2020,
     "status": "ok",
     "timestamp": 1589936049273,
     "user": {
      "displayName": "Marcos Oliveira",
      "photoUrl": "https://lh3.googleusercontent.com/a-/AOh14GjtJc6boEovFWZizRLvOrpllW_GprehG4IpHp41=s64",
      "userId": "12258186870812423715"
     },
     "user_tz": 180
    },
    "id": "5ats_smB8Tqq",
    "outputId": "e89c6773-4438-400f-ed20-5ea65b31d677"
   },
   "outputs": [
    {
     "data": {
      "text/plain": [
       "1    2661486\n",
       "0     422190\n",
       "Name: Q027, dtype: int64"
      ]
     },
     "execution_count": 135,
     "metadata": {},
     "output_type": "execute_result"
    }
   ],
   "source": [
    "dataset_enem.Q027.value_counts()"
   ]
  },
  {
   "cell_type": "code",
   "execution_count": 136,
   "metadata": {
    "colab": {
     "base_uri": "https://localhost:8080/",
     "height": 439
    },
    "colab_type": "code",
    "executionInfo": {
     "elapsed": 1317,
     "status": "ok",
     "timestamp": 1589936050418,
     "user": {
      "displayName": "Marcos Oliveira",
      "photoUrl": "https://lh3.googleusercontent.com/a-/AOh14GjtJc6boEovFWZizRLvOrpllW_GprehG4IpHp41=s64",
      "userId": "12258186870812423715"
     },
     "user_tz": 180
    },
    "id": "zq5AqcjC8XCZ",
    "outputId": "0636ec05-ab21-45f3-f7b5-e39ab6d807fe"
   },
   "outputs": [
    {
     "data": {
      "text/html": [
       "<div>\n",
       "<style scoped>\n",
       "    .dataframe tbody tr th:only-of-type {\n",
       "        vertical-align: middle;\n",
       "    }\n",
       "\n",
       "    .dataframe tbody tr th {\n",
       "        vertical-align: top;\n",
       "    }\n",
       "\n",
       "    .dataframe thead th {\n",
       "        text-align: right;\n",
       "    }\n",
       "</style>\n",
       "<table border=\"1\" class=\"dataframe\">\n",
       "  <thead>\n",
       "    <tr style=\"text-align: right;\">\n",
       "      <th></th>\n",
       "      <th>SG_UF_RESIDENCIA</th>\n",
       "      <th>NU_IDADE</th>\n",
       "      <th>TP_ESTADO_CIVIL</th>\n",
       "      <th>TP_COR_RACA</th>\n",
       "      <th>TP_ST_CONCLUSAO</th>\n",
       "      <th>TP_ANO_CONCLUIU</th>\n",
       "      <th>TP_ENSINO</th>\n",
       "      <th>IN_TREINEIRO</th>\n",
       "      <th>NU_NOTA_CN</th>\n",
       "      <th>NU_NOTA_CH</th>\n",
       "      <th>...</th>\n",
       "      <th>RENDIMENTO_LC</th>\n",
       "      <th>RENDIMENTO_MT</th>\n",
       "      <th>RENDIMENTO_REDACAO</th>\n",
       "      <th>MEDIA_GERAL</th>\n",
       "      <th>RENDIMENTO_GERAL</th>\n",
       "      <th>NU_IDADE_2</th>\n",
       "      <th>RECEM_FORMADO</th>\n",
       "      <th>Q001_Q002</th>\n",
       "      <th>RENDA_PERCAPITA_FAMILIAR</th>\n",
       "      <th>CLASSE_RENDA_PERCAPITA_FAMILIAR</th>\n",
       "    </tr>\n",
       "  </thead>\n",
       "  <tbody>\n",
       "    <tr>\n",
       "      <th>1</th>\n",
       "      <td>MA</td>\n",
       "      <td>23.0</td>\n",
       "      <td>1.0</td>\n",
       "      <td>1</td>\n",
       "      <td>1</td>\n",
       "      <td>5</td>\n",
       "      <td>1.0</td>\n",
       "      <td>0</td>\n",
       "      <td>521.0</td>\n",
       "      <td>568.7</td>\n",
       "      <td>...</td>\n",
       "      <td>0</td>\n",
       "      <td>0</td>\n",
       "      <td>0</td>\n",
       "      <td>0</td>\n",
       "      <td>0</td>\n",
       "      <td>7</td>\n",
       "      <td>0</td>\n",
       "      <td>1</td>\n",
       "      <td>238.500000</td>\n",
       "      <td>0</td>\n",
       "    </tr>\n",
       "    <tr>\n",
       "      <th>5</th>\n",
       "      <td>PB</td>\n",
       "      <td>23.0</td>\n",
       "      <td>1.0</td>\n",
       "      <td>0</td>\n",
       "      <td>1</td>\n",
       "      <td>5</td>\n",
       "      <td>1.0</td>\n",
       "      <td>0</td>\n",
       "      <td>461.8</td>\n",
       "      <td>564.0</td>\n",
       "      <td>...</td>\n",
       "      <td>0</td>\n",
       "      <td>0</td>\n",
       "      <td>0</td>\n",
       "      <td>0</td>\n",
       "      <td>0</td>\n",
       "      <td>7</td>\n",
       "      <td>0</td>\n",
       "      <td>1</td>\n",
       "      <td>954.000000</td>\n",
       "      <td>2</td>\n",
       "    </tr>\n",
       "    <tr>\n",
       "      <th>7</th>\n",
       "      <td>PI</td>\n",
       "      <td>39.0</td>\n",
       "      <td>0.0</td>\n",
       "      <td>1</td>\n",
       "      <td>1</td>\n",
       "      <td>12</td>\n",
       "      <td>1.0</td>\n",
       "      <td>0</td>\n",
       "      <td>499.3</td>\n",
       "      <td>663.2</td>\n",
       "      <td>...</td>\n",
       "      <td>0</td>\n",
       "      <td>0</td>\n",
       "      <td>0</td>\n",
       "      <td>0</td>\n",
       "      <td>0</td>\n",
       "      <td>7</td>\n",
       "      <td>0</td>\n",
       "      <td>1</td>\n",
       "      <td>1192.500000</td>\n",
       "      <td>2</td>\n",
       "    </tr>\n",
       "    <tr>\n",
       "      <th>8</th>\n",
       "      <td>CE</td>\n",
       "      <td>19.0</td>\n",
       "      <td>1.0</td>\n",
       "      <td>1</td>\n",
       "      <td>2</td>\n",
       "      <td>0</td>\n",
       "      <td>1.0</td>\n",
       "      <td>0</td>\n",
       "      <td>411.8</td>\n",
       "      <td>429.8</td>\n",
       "      <td>...</td>\n",
       "      <td>0</td>\n",
       "      <td>0</td>\n",
       "      <td>0</td>\n",
       "      <td>0</td>\n",
       "      <td>0</td>\n",
       "      <td>4</td>\n",
       "      <td>1</td>\n",
       "      <td>1</td>\n",
       "      <td>204.428571</td>\n",
       "      <td>0</td>\n",
       "    </tr>\n",
       "    <tr>\n",
       "      <th>9</th>\n",
       "      <td>MT</td>\n",
       "      <td>25.0</td>\n",
       "      <td>1.0</td>\n",
       "      <td>1</td>\n",
       "      <td>1</td>\n",
       "      <td>9</td>\n",
       "      <td>1.0</td>\n",
       "      <td>0</td>\n",
       "      <td>469.4</td>\n",
       "      <td>650.2</td>\n",
       "      <td>...</td>\n",
       "      <td>0</td>\n",
       "      <td>0</td>\n",
       "      <td>0</td>\n",
       "      <td>0</td>\n",
       "      <td>0</td>\n",
       "      <td>7</td>\n",
       "      <td>0</td>\n",
       "      <td>1</td>\n",
       "      <td>1431.000000</td>\n",
       "      <td>3</td>\n",
       "    </tr>\n",
       "    <tr>\n",
       "      <th>...</th>\n",
       "      <td>...</td>\n",
       "      <td>...</td>\n",
       "      <td>...</td>\n",
       "      <td>...</td>\n",
       "      <td>...</td>\n",
       "      <td>...</td>\n",
       "      <td>...</td>\n",
       "      <td>...</td>\n",
       "      <td>...</td>\n",
       "      <td>...</td>\n",
       "      <td>...</td>\n",
       "      <td>...</td>\n",
       "      <td>...</td>\n",
       "      <td>...</td>\n",
       "      <td>...</td>\n",
       "      <td>...</td>\n",
       "      <td>...</td>\n",
       "      <td>...</td>\n",
       "      <td>...</td>\n",
       "      <td>...</td>\n",
       "      <td>...</td>\n",
       "    </tr>\n",
       "    <tr>\n",
       "      <th>5513735</th>\n",
       "      <td>MA</td>\n",
       "      <td>17.0</td>\n",
       "      <td>1.0</td>\n",
       "      <td>0</td>\n",
       "      <td>2</td>\n",
       "      <td>0</td>\n",
       "      <td>1.0</td>\n",
       "      <td>0</td>\n",
       "      <td>431.3</td>\n",
       "      <td>476.6</td>\n",
       "      <td>...</td>\n",
       "      <td>0</td>\n",
       "      <td>0</td>\n",
       "      <td>0</td>\n",
       "      <td>0</td>\n",
       "      <td>0</td>\n",
       "      <td>2</td>\n",
       "      <td>1</td>\n",
       "      <td>0</td>\n",
       "      <td>1669.500000</td>\n",
       "      <td>4</td>\n",
       "    </tr>\n",
       "    <tr>\n",
       "      <th>5513736</th>\n",
       "      <td>AM</td>\n",
       "      <td>18.0</td>\n",
       "      <td>1.0</td>\n",
       "      <td>1</td>\n",
       "      <td>2</td>\n",
       "      <td>0</td>\n",
       "      <td>1.0</td>\n",
       "      <td>0</td>\n",
       "      <td>497.5</td>\n",
       "      <td>604.4</td>\n",
       "      <td>...</td>\n",
       "      <td>0</td>\n",
       "      <td>0</td>\n",
       "      <td>0</td>\n",
       "      <td>0</td>\n",
       "      <td>0</td>\n",
       "      <td>3</td>\n",
       "      <td>1</td>\n",
       "      <td>1</td>\n",
       "      <td>318.000000</td>\n",
       "      <td>0</td>\n",
       "    </tr>\n",
       "    <tr>\n",
       "      <th>5513743</th>\n",
       "      <td>AM</td>\n",
       "      <td>20.0</td>\n",
       "      <td>1.0</td>\n",
       "      <td>1</td>\n",
       "      <td>2</td>\n",
       "      <td>0</td>\n",
       "      <td>1.0</td>\n",
       "      <td>0</td>\n",
       "      <td>435.6</td>\n",
       "      <td>556.8</td>\n",
       "      <td>...</td>\n",
       "      <td>0</td>\n",
       "      <td>0</td>\n",
       "      <td>0</td>\n",
       "      <td>0</td>\n",
       "      <td>0</td>\n",
       "      <td>5</td>\n",
       "      <td>1</td>\n",
       "      <td>1</td>\n",
       "      <td>954.000000</td>\n",
       "      <td>2</td>\n",
       "    </tr>\n",
       "    <tr>\n",
       "      <th>5513745</th>\n",
       "      <td>SP</td>\n",
       "      <td>17.0</td>\n",
       "      <td>1.0</td>\n",
       "      <td>0</td>\n",
       "      <td>2</td>\n",
       "      <td>0</td>\n",
       "      <td>1.0</td>\n",
       "      <td>0</td>\n",
       "      <td>524.9</td>\n",
       "      <td>496.5</td>\n",
       "      <td>...</td>\n",
       "      <td>0</td>\n",
       "      <td>0</td>\n",
       "      <td>0</td>\n",
       "      <td>0</td>\n",
       "      <td>0</td>\n",
       "      <td>2</td>\n",
       "      <td>1</td>\n",
       "      <td>1</td>\n",
       "      <td>477.000000</td>\n",
       "      <td>1</td>\n",
       "    </tr>\n",
       "    <tr>\n",
       "      <th>5513746</th>\n",
       "      <td>MG</td>\n",
       "      <td>21.0</td>\n",
       "      <td>1.0</td>\n",
       "      <td>1</td>\n",
       "      <td>1</td>\n",
       "      <td>3</td>\n",
       "      <td>1.0</td>\n",
       "      <td>0</td>\n",
       "      <td>442.7</td>\n",
       "      <td>549.4</td>\n",
       "      <td>...</td>\n",
       "      <td>0</td>\n",
       "      <td>0</td>\n",
       "      <td>0</td>\n",
       "      <td>0</td>\n",
       "      <td>0</td>\n",
       "      <td>6</td>\n",
       "      <td>0</td>\n",
       "      <td>1</td>\n",
       "      <td>477.000000</td>\n",
       "      <td>1</td>\n",
       "    </tr>\n",
       "  </tbody>\n",
       "</table>\n",
       "<p>3083676 rows × 33 columns</p>\n",
       "</div>"
      ],
      "text/plain": [
       "        SG_UF_RESIDENCIA  NU_IDADE  TP_ESTADO_CIVIL  TP_COR_RACA  \\\n",
       "1                     MA      23.0              1.0            1   \n",
       "5                     PB      23.0              1.0            0   \n",
       "7                     PI      39.0              0.0            1   \n",
       "8                     CE      19.0              1.0            1   \n",
       "9                     MT      25.0              1.0            1   \n",
       "...                  ...       ...              ...          ...   \n",
       "5513735               MA      17.0              1.0            0   \n",
       "5513736               AM      18.0              1.0            1   \n",
       "5513743               AM      20.0              1.0            1   \n",
       "5513745               SP      17.0              1.0            0   \n",
       "5513746               MG      21.0              1.0            1   \n",
       "\n",
       "         TP_ST_CONCLUSAO  TP_ANO_CONCLUIU  TP_ENSINO  IN_TREINEIRO  \\\n",
       "1                      1                5        1.0             0   \n",
       "5                      1                5        1.0             0   \n",
       "7                      1               12        1.0             0   \n",
       "8                      2                0        1.0             0   \n",
       "9                      1                9        1.0             0   \n",
       "...                  ...              ...        ...           ...   \n",
       "5513735                2                0        1.0             0   \n",
       "5513736                2                0        1.0             0   \n",
       "5513743                2                0        1.0             0   \n",
       "5513745                2                0        1.0             0   \n",
       "5513746                1                3        1.0             0   \n",
       "\n",
       "         NU_NOTA_CN  NU_NOTA_CH  ...  RENDIMENTO_LC  RENDIMENTO_MT  \\\n",
       "1             521.0       568.7  ...              0              0   \n",
       "5             461.8       564.0  ...              0              0   \n",
       "7             499.3       663.2  ...              0              0   \n",
       "8             411.8       429.8  ...              0              0   \n",
       "9             469.4       650.2  ...              0              0   \n",
       "...             ...         ...  ...            ...            ...   \n",
       "5513735       431.3       476.6  ...              0              0   \n",
       "5513736       497.5       604.4  ...              0              0   \n",
       "5513743       435.6       556.8  ...              0              0   \n",
       "5513745       524.9       496.5  ...              0              0   \n",
       "5513746       442.7       549.4  ...              0              0   \n",
       "\n",
       "         RENDIMENTO_REDACAO  MEDIA_GERAL RENDIMENTO_GERAL NU_IDADE_2  \\\n",
       "1                         0            0                0          7   \n",
       "5                         0            0                0          7   \n",
       "7                         0            0                0          7   \n",
       "8                         0            0                0          4   \n",
       "9                         0            0                0          7   \n",
       "...                     ...          ...              ...        ...   \n",
       "5513735                   0            0                0          2   \n",
       "5513736                   0            0                0          3   \n",
       "5513743                   0            0                0          5   \n",
       "5513745                   0            0                0          2   \n",
       "5513746                   0            0                0          6   \n",
       "\n",
       "         RECEM_FORMADO Q001_Q002 RENDA_PERCAPITA_FAMILIAR  \\\n",
       "1                    0         1               238.500000   \n",
       "5                    0         1               954.000000   \n",
       "7                    0         1              1192.500000   \n",
       "8                    1         1               204.428571   \n",
       "9                    0         1              1431.000000   \n",
       "...                ...       ...                      ...   \n",
       "5513735              1         0              1669.500000   \n",
       "5513736              1         1               318.000000   \n",
       "5513743              1         1               954.000000   \n",
       "5513745              1         1               477.000000   \n",
       "5513746              0         1               477.000000   \n",
       "\n",
       "        CLASSE_RENDA_PERCAPITA_FAMILIAR  \n",
       "1                                     0  \n",
       "5                                     2  \n",
       "7                                     2  \n",
       "8                                     0  \n",
       "9                                     3  \n",
       "...                                 ...  \n",
       "5513735                               4  \n",
       "5513736                               0  \n",
       "5513743                               2  \n",
       "5513745                               1  \n",
       "5513746                               1  \n",
       "\n",
       "[3083676 rows x 33 columns]"
      ]
     },
     "execution_count": 136,
     "metadata": {},
     "output_type": "execute_result"
    }
   ],
   "source": [
    "dataset_enem"
   ]
  },
  {
   "cell_type": "code",
   "execution_count": 137,
   "metadata": {
    "colab": {},
    "colab_type": "code",
    "id": "Q8T_z3nz9r_C"
   },
   "outputs": [],
   "source": [
    "#MEDIA_GERAL"
   ]
  },
  {
   "cell_type": "code",
   "execution_count": 138,
   "metadata": {
    "colab": {},
    "colab_type": "code",
    "id": "zMzC-Qgd-QtO"
   },
   "outputs": [],
   "source": [
    "dataset_enem['MEDIA_GERAL'] = (dataset_enem['NU_NOTA_CN'] +dataset_enem['NU_NOTA_CH'] + dataset_enem['NU_NOTA_LC'] + dataset_enem['NU_NOTA_MT'] + dataset_enem['NU_NOTA_REDACAO']) /5"
   ]
  },
  {
   "cell_type": "code",
   "execution_count": 139,
   "metadata": {
    "colab": {},
    "colab_type": "code",
    "id": "M9IdDU-M-Rky"
   },
   "outputs": [],
   "source": [
    "#RENDIMENTO_GERAL"
   ]
  },
  {
   "cell_type": "code",
   "execution_count": 18,
   "metadata": {
    "colab": {},
    "colab_type": "code",
    "id": "tnpJjmiVAsOp"
   },
   "outputs": [],
   "source": [
    "condicao = [dataset_enem['MEDIA_GERAL'] < 450, dataset_enem['MEDIA_GERAL'] <= 599.9, dataset_enem['MEDIA_GERAL'] <= 700]\n",
    "resultado = ['INSUFICIENTE', 'REGULAR', 'BOM']\n",
    "\n",
    "dataset_enem['RENDIMENTO_GERAL'] = np.select(condicao, resultado, 'EXCELENTE')\n",
    "\n",
    "#condicao = [dataset_enem['MEDIA_GERAL'] < 450, dataset_enem['MEDIA_GERAL'] <= 599.9, dataset_enem['MEDIA_GERAL'] <= 699.9]\n",
    "#resultado = ['INSUFICIENTE', 'REGULAR', 'BOM']\n",
    "\n",
    "#dataset_enem['RENDIMENTO_GERAL'] = np.select(condicao, resultado, 'EXCELENTE')"
   ]
  },
  {
   "cell_type": "code",
   "execution_count": 141,
   "metadata": {
    "colab": {},
    "colab_type": "code",
    "id": "qsoK0mayBEFM"
   },
   "outputs": [],
   "source": [
    "#RENDIMENTO_CN"
   ]
  },
  {
   "cell_type": "code",
   "execution_count": 142,
   "metadata": {
    "colab": {},
    "colab_type": "code",
    "id": "5PE6hQxtA_7x"
   },
   "outputs": [],
   "source": [
    "condicao = [dataset_enem['NU_NOTA_CN'] < 400, dataset_enem['NU_NOTA_CN'] <= 599.9, dataset_enem['NU_NOTA_CN'] <= 699.9]\n",
    "resultado = ['INSUFICIENTE', 'REGULAR', 'BOM']\n",
    "\n",
    "dataset_enem['RENDIMENTO_CN'] = np.select(condicao, resultado, 'EXCELENTE')\n",
    "\n",
    "#condicao = [dataset_enem['NU_NOTA_CN'] < 450, dataset_enem['NU_NOTA_CN'] <= 599.9, dataset_enem['NU_NOTA_CN'] <= 699.9]\n",
    "#resultado = ['INSUFICIENTE', 'REGULAR', 'BOM']\n",
    "\n",
    "#dataset_enem['RENDIMENTO_CN'] = np.select(condicao, resultado, 'EXCELENTE')\n",
    "\n",
    "\n",
    "#condicao = [dataset_enem['NU_NOTA_CN'] <= 450, dataset_enem['NU_NOTA_CN'] <= 550, dataset_enem['NU_NOTA_CN'] <= 650, dataset_enem['NU_NOTA_CN'] <= 750]\n",
    "#resultado = ['RUIM', 'REGULAR', 'BOM', 'OTIMA']\n",
    "\n",
    "#dataset_enem['RENDIMENTO_CN'] = np.select(condicao, resultado, 'EXCELENTE')\n"
   ]
  },
  {
   "cell_type": "code",
   "execution_count": 143,
   "metadata": {
    "colab": {},
    "colab_type": "code",
    "id": "mrYaEbmTBGn-"
   },
   "outputs": [],
   "source": [
    "#RENDIMENTO_CH"
   ]
  },
  {
   "cell_type": "code",
   "execution_count": 144,
   "metadata": {
    "colab": {},
    "colab_type": "code",
    "id": "5hePOluwBKRW"
   },
   "outputs": [],
   "source": [
    "condicao = [dataset_enem['NU_NOTA_CH'] < 400, dataset_enem['NU_NOTA_CH'] <= 599.9, dataset_enem['NU_NOTA_CH'] <= 699.9]\n",
    "resultado = ['INSUFICIENTE', 'REGULAR', 'BOM']\n",
    "\n",
    "dataset_enem['RENDIMENTO_CH'] = np.select(condicao, resultado, 'EXCELENTE')\n",
    "\n",
    "\n",
    "#condicao = [dataset_enem['NU_NOTA_CH'] < 450, dataset_enem['NU_NOTA_CH'] <= 599.9, dataset_enem['NU_NOTA_CH'] <= 699.9]\n",
    "#resultado = ['INSUFICIENTE', 'REGULAR', 'BOM']\n",
    "\n",
    "#dataset_enem['RENDIMENTO_CH'] = np.select(condicao, resultado, 'EXCELENTE')\n",
    "\n",
    "\n",
    "\n",
    "#condicao = [dataset_enem['NU_NOTA_CH'] <= 450, dataset_enem['NU_NOTA_CH'] <= 550, dataset_enem['NU_NOTA_CH'] <= 650, dataset_enem['NU_NOTA_CH'] <= 750]\n",
    "#resultado = ['RUIM', 'REGULAR', 'BOM', 'OTIMA']\n",
    "\n",
    "#dataset_enem['RENDIMENTO_CH'] = np.select(condicao, resultado, 'EXCELENTE')"
   ]
  },
  {
   "cell_type": "code",
   "execution_count": 145,
   "metadata": {
    "colab": {},
    "colab_type": "code",
    "id": "vgBrhMgME4QW"
   },
   "outputs": [],
   "source": [
    "#RENDIMENTO_LC"
   ]
  },
  {
   "cell_type": "code",
   "execution_count": 146,
   "metadata": {
    "colab": {},
    "colab_type": "code",
    "id": "sGSJpzOVBN9e"
   },
   "outputs": [],
   "source": [
    "condicao = [dataset_enem['NU_NOTA_LC'] < 400, dataset_enem['NU_NOTA_LC'] <= 599.9, dataset_enem['NU_NOTA_LC'] <= 699.9]\n",
    "resultado = ['INSUFICIENTE', 'REGULAR', 'BOM']\n",
    "\n",
    "dataset_enem['RENDIMENTO_LC'] = np.select(condicao, resultado, 'EXCELENTE')\n",
    "\n",
    "#condicao = [dataset_enem['NU_NOTA_LC'] < 450, dataset_enem['NU_NOTA_LC'] <= 599.9, dataset_enem['NU_NOTA_LC'] <= 699.9]\n",
    "#resultado = ['INSUFICIENTE', 'REGULAR', 'BOM']\n",
    "\n",
    "#dataset_enem['RENDIMENTO_LC'] = np.select(condicao, resultado, 'EXCELENTE')\n",
    "\n",
    "\n",
    "#condicao = [dataset_enem['NU_NOTA_LC'] <= 450, dataset_enem['NU_NOTA_LC'] <= 550, dataset_enem['NU_NOTA_LC'] <= 650, dataset_enem['NU_NOTA_LC'] <= 750]\n",
    "#resultado = ['RUIM', 'REGULAR', 'BOM', 'OTIMA']\n",
    "\n",
    "#dataset_enem['RENDIMENTO_LC'] = np.select(condicao, resultado, 'EXCELENTE')"
   ]
  },
  {
   "cell_type": "code",
   "execution_count": 147,
   "metadata": {
    "colab": {},
    "colab_type": "code",
    "id": "zXD8HA_CBQKD"
   },
   "outputs": [],
   "source": [
    "#RENDIMENTO_MT"
   ]
  },
  {
   "cell_type": "code",
   "execution_count": 148,
   "metadata": {
    "colab": {},
    "colab_type": "code",
    "id": "cyJDpfOeBR-k"
   },
   "outputs": [],
   "source": [
    "condicao = [dataset_enem['NU_NOTA_MT'] < 400, dataset_enem['NU_NOTA_MT'] <= 599.9, dataset_enem['NU_NOTA_MT'] <= 699.9]\n",
    "resultado = ['INSUFICIENTE', 'REGULAR', 'BOM']\n",
    "\n",
    "dataset_enem['RENDIMENTO_MT'] = np.select(condicao, resultado, 'EXCELENTE')\n",
    "\n",
    "#condicao = [dataset_enem['NU_NOTA_MT'] < 450, dataset_enem['NU_NOTA_MT'] <= 599.9, dataset_enem['NU_NOTA_MT'] <= 699.9]\n",
    "#resultado = ['INSUFICIENTE', 'REGULAR', 'BOM']\n",
    "\n",
    "#dataset_enem['RENDIMENTO_MT'] = np.select(condicao, resultado, 'EXCELENTE')\n",
    "\n",
    "\n",
    "#condicao = [dataset_enem['NU_NOTA_MT'] <= 450, dataset_enem['NU_NOTA_MT'] <= 550, dataset_enem['NU_NOTA_MT'] <= 650, dataset_enem['NU_NOTA_MT'] <= 750]\n",
    "#resultado = ['RUIM', 'REGULAR', 'BOM', 'OTIMA']\n",
    "\n",
    "#dataset_enem['RENDIMENTO_MT'] = np.select(condicao, resultado, 'EXCELENTE')"
   ]
  },
  {
   "cell_type": "code",
   "execution_count": 149,
   "metadata": {
    "colab": {},
    "colab_type": "code",
    "id": "qsNk9yNpBW8r"
   },
   "outputs": [],
   "source": [
    "#RENDIMENTO_REDACAO"
   ]
  },
  {
   "cell_type": "code",
   "execution_count": 150,
   "metadata": {
    "colab": {},
    "colab_type": "code",
    "id": "xH6zJ36QBZv6"
   },
   "outputs": [],
   "source": [
    "condicao = [dataset_enem['NU_NOTA_REDACAO'] < 400, dataset_enem['NU_NOTA_REDACAO'] <= 599.9, dataset_enem['NU_NOTA_REDACAO'] <= 699.9]\n",
    "resultado = ['INSUFICIENTE', 'REGULAR', 'BOM']\n",
    "\n",
    "dataset_enem['RENDIMENTO_REDACAO'] = np.select(condicao, resultado, 'EXCELENTE')\n",
    "\n",
    "\n",
    "#condicao = [dataset_enem['NU_NOTA_REDACAO'] < 450, dataset_enem['NU_NOTA_REDACAO'] <= 599.9, dataset_enem['NU_NOTA_REDACAO'] <= 699.9]\n",
    "#resultado = ['INSUFICIENTE', 'REGULAR', 'BOM']\n",
    "\n",
    "#dataset_enem['RENDIMENTO_REDACAO'] = np.select(condicao, resultado, 'EXCELENTE')\n",
    "\n",
    "\n",
    "#condicao = [dataset_enem['NU_NOTA_REDACAO'] <= 450, dataset_enem['NU_NOTA_REDACAO'] <= 550, dataset_enem['NU_NOTA_REDACAO'] <= 650, dataset_enem['NU_NOTA_REDACAO'] <= 750]\n",
    "#resultado = ['RUIM', 'REGULAR', 'BOM', 'OTIMA']\n",
    "\n",
    "#dataset_enem['RENDIMENTO_REDACAO'] = np.select(condicao, resultado, 'EXCELENTE')"
   ]
  },
  {
   "cell_type": "code",
   "execution_count": null,
   "metadata": {
    "colab": {},
    "colab_type": "code",
    "id": "tB7gdUgMqKNc"
   },
   "outputs": [],
   "source": []
  },
  {
   "cell_type": "code",
   "execution_count": 151,
   "metadata": {
    "colab": {},
    "colab_type": "code",
    "id": "nb4Wy25BmUoP"
   },
   "outputs": [],
   "source": [
    "backup = dataset_enem.copy()"
   ]
  },
  {
   "cell_type": "code",
   "execution_count": 152,
   "metadata": {
    "colab": {
     "base_uri": "https://localhost:8080/",
     "height": 697
    },
    "colab_type": "code",
    "executionInfo": {
     "elapsed": 1568,
     "status": "ok",
     "timestamp": 1589937512235,
     "user": {
      "displayName": "Marcos Oliveira",
      "photoUrl": "https://lh3.googleusercontent.com/a-/AOh14GjtJc6boEovFWZizRLvOrpllW_GprehG4IpHp41=s64",
      "userId": "12258186870812423715"
     },
     "user_tz": 180
    },
    "id": "6aRTjeOkqOYV",
    "outputId": "ff3c697f-49f4-4ca8-acbd-ed1f97726eaa"
   },
   "outputs": [
    {
     "name": "stdout",
     "output_type": "stream",
     "text": [
      "<class 'pandas.core.frame.DataFrame'>\n",
      "Int64Index: 3083676 entries, 1 to 5513746\n",
      "Data columns (total 33 columns):\n",
      " #   Column                           Dtype  \n",
      "---  ------                           -----  \n",
      " 0   SG_UF_RESIDENCIA                 object \n",
      " 1   NU_IDADE                         float64\n",
      " 2   TP_ESTADO_CIVIL                  float64\n",
      " 3   TP_COR_RACA                      int64  \n",
      " 4   TP_ST_CONCLUSAO                  int64  \n",
      " 5   TP_ANO_CONCLUIU                  int64  \n",
      " 6   TP_ENSINO                        float64\n",
      " 7   IN_TREINEIRO                     int64  \n",
      " 8   NU_NOTA_CN                       float64\n",
      " 9   NU_NOTA_CH                       float64\n",
      " 10  NU_NOTA_LC                       float64\n",
      " 11  NU_NOTA_MT                       float64\n",
      " 12  TP_LINGUA                        int64  \n",
      " 13  NU_NOTA_REDACAO                  float64\n",
      " 14  Q001                             object \n",
      " 15  Q002                             object \n",
      " 16  Q005                             int64  \n",
      " 17  Q006                             object \n",
      " 18  Q025                             object \n",
      " 19  Q026                             object \n",
      " 20  Q027                             object \n",
      " 21  RENDIMENTO_CN                    object \n",
      " 22  RENDIMENTO_CH                    object \n",
      " 23  RENDIMENTO_LC                    object \n",
      " 24  RENDIMENTO_MT                    object \n",
      " 25  RENDIMENTO_REDACAO               object \n",
      " 26  MEDIA_GERAL                      float64\n",
      " 27  RENDIMENTO_GERAL                 object \n",
      " 28  NU_IDADE_2                       int32  \n",
      " 29  RECEM_FORMADO                    int64  \n",
      " 30  Q001_Q002                        int64  \n",
      " 31  RENDA_PERCAPITA_FAMILIAR         float64\n",
      " 32  CLASSE_RENDA_PERCAPITA_FAMILIAR  int32  \n",
      "dtypes: float64(10), int32(2), int64(8), object(13)\n",
      "memory usage: 776.4+ MB\n"
     ]
    }
   ],
   "source": [
    "dataset_enem.info()"
   ]
  },
  {
   "cell_type": "code",
   "execution_count": 153,
   "metadata": {
    "colab": {},
    "colab_type": "code",
    "id": "yiqFaORyk6Tx"
   },
   "outputs": [],
   "source": [
    "dataset_enem.drop(['NU_IDADE', 'TP_ST_CONCLUSAO', 'TP_ANO_CONCLUIU', 'IN_TREINEIRO'], axis=1, inplace=True)"
   ]
  },
  {
   "cell_type": "code",
   "execution_count": 154,
   "metadata": {
    "colab": {
     "base_uri": "https://localhost:8080/",
     "height": 629
    },
    "colab_type": "code",
    "executionInfo": {
     "elapsed": 1304,
     "status": "ok",
     "timestamp": 1589937702192,
     "user": {
      "displayName": "Marcos Oliveira",
      "photoUrl": "https://lh3.googleusercontent.com/a-/AOh14GjtJc6boEovFWZizRLvOrpllW_GprehG4IpHp41=s64",
      "userId": "12258186870812423715"
     },
     "user_tz": 180
    },
    "id": "eewaTeagqMSh",
    "outputId": "040eb912-5f50-4020-a9b8-3d0a3a9e302c"
   },
   "outputs": [
    {
     "name": "stdout",
     "output_type": "stream",
     "text": [
      "<class 'pandas.core.frame.DataFrame'>\n",
      "Int64Index: 3083676 entries, 1 to 5513746\n",
      "Data columns (total 29 columns):\n",
      " #   Column                           Dtype  \n",
      "---  ------                           -----  \n",
      " 0   SG_UF_RESIDENCIA                 object \n",
      " 1   TP_ESTADO_CIVIL                  float64\n",
      " 2   TP_COR_RACA                      int64  \n",
      " 3   TP_ENSINO                        float64\n",
      " 4   NU_NOTA_CN                       float64\n",
      " 5   NU_NOTA_CH                       float64\n",
      " 6   NU_NOTA_LC                       float64\n",
      " 7   NU_NOTA_MT                       float64\n",
      " 8   TP_LINGUA                        int64  \n",
      " 9   NU_NOTA_REDACAO                  float64\n",
      " 10  Q001                             object \n",
      " 11  Q002                             object \n",
      " 12  Q005                             int64  \n",
      " 13  Q006                             object \n",
      " 14  Q025                             object \n",
      " 15  Q026                             object \n",
      " 16  Q027                             object \n",
      " 17  RENDIMENTO_CN                    object \n",
      " 18  RENDIMENTO_CH                    object \n",
      " 19  RENDIMENTO_LC                    object \n",
      " 20  RENDIMENTO_MT                    object \n",
      " 21  RENDIMENTO_REDACAO               object \n",
      " 22  MEDIA_GERAL                      float64\n",
      " 23  RENDIMENTO_GERAL                 object \n",
      " 24  NU_IDADE_2                       int32  \n",
      " 25  RECEM_FORMADO                    int64  \n",
      " 26  Q001_Q002                        int64  \n",
      " 27  RENDA_PERCAPITA_FAMILIAR         float64\n",
      " 28  CLASSE_RENDA_PERCAPITA_FAMILIAR  int32  \n",
      "dtypes: float64(9), int32(2), int64(5), object(13)\n",
      "memory usage: 682.3+ MB\n"
     ]
    }
   ],
   "source": [
    "dataset_enem.info()"
   ]
  },
  {
   "cell_type": "code",
   "execution_count": 155,
   "metadata": {
    "colab": {
     "base_uri": "https://localhost:8080/",
     "height": 153
    },
    "colab_type": "code",
    "executionInfo": {
     "elapsed": 1960,
     "status": "ok",
     "timestamp": 1589938339951,
     "user": {
      "displayName": "Marcos Oliveira",
      "photoUrl": "https://lh3.googleusercontent.com/a-/AOh14GjtJc6boEovFWZizRLvOrpllW_GprehG4IpHp41=s64",
      "userId": "12258186870812423715"
     },
     "user_tz": 180
    },
    "id": "Dw6NoD2utWTn",
    "outputId": "85dac0ce-6e5a-46b9-f733-14a4a92b438b",
    "scrolled": true
   },
   "outputs": [
    {
     "data": {
      "text/plain": [
       "array(['SG_UF_RESIDENCIA', 'TP_ESTADO_CIVIL', 'TP_COR_RACA', 'TP_ENSINO',\n",
       "       'NU_NOTA_CN', 'NU_NOTA_CH', 'NU_NOTA_LC', 'NU_NOTA_MT',\n",
       "       'TP_LINGUA', 'NU_NOTA_REDACAO', 'Q001', 'Q002', 'Q005', 'Q006',\n",
       "       'Q025', 'Q026', 'Q027', 'RENDIMENTO_CN', 'RENDIMENTO_CH',\n",
       "       'RENDIMENTO_LC', 'RENDIMENTO_MT', 'RENDIMENTO_REDACAO',\n",
       "       'MEDIA_GERAL', 'RENDIMENTO_GERAL', 'NU_IDADE_2', 'RECEM_FORMADO',\n",
       "       'Q001_Q002', 'RENDA_PERCAPITA_FAMILIAR',\n",
       "       'CLASSE_RENDA_PERCAPITA_FAMILIAR'], dtype=object)"
      ]
     },
     "execution_count": 155,
     "metadata": {},
     "output_type": "execute_result"
    }
   ],
   "source": [
    "dataset_enem.columns.values"
   ]
  },
  {
   "cell_type": "code",
   "execution_count": 3,
   "metadata": {},
   "outputs": [],
   "source": [
    "dataset_enem = pd.read_csv(\"Dataset_Enem_PreProc_Faixa_4.csv\", sep=\",\", encoding='ISO-8859-1')"
   ]
  },
  {
   "cell_type": "code",
   "execution_count": 22,
   "metadata": {},
   "outputs": [
    {
     "data": {
      "text/plain": [
       "(29,)"
      ]
     },
     "execution_count": 22,
     "metadata": {},
     "output_type": "execute_result"
    }
   ],
   "source": [
    "dataset_enem.columns.values.shape"
   ]
  },
  {
   "cell_type": "code",
   "execution_count": 23,
   "metadata": {},
   "outputs": [],
   "source": [
    "dataset_enem.drop(columns=['NU_NOTA_CN', 'NU_NOTA_CH', 'NU_NOTA_LC', 'NU_NOTA_MT','NU_NOTA_REDACAO', 'Q001', 'Q002', 'Q005', 'Q006', 'RENDIMENTO_CN', 'RENDIMENTO_CH','RENDIMENTO_LC', 'RENDIMENTO_MT', 'RENDIMENTO_REDACAO','MEDIA_GERAL'], inplace=True)"
   ]
  },
  {
   "cell_type": "code",
   "execution_count": 27,
   "metadata": {},
   "outputs": [
    {
     "data": {
      "text/html": [
       "<div>\n",
       "<style scoped>\n",
       "    .dataframe tbody tr th:only-of-type {\n",
       "        vertical-align: middle;\n",
       "    }\n",
       "\n",
       "    .dataframe tbody tr th {\n",
       "        vertical-align: top;\n",
       "    }\n",
       "\n",
       "    .dataframe thead th {\n",
       "        text-align: right;\n",
       "    }\n",
       "</style>\n",
       "<table border=\"1\" class=\"dataframe\">\n",
       "  <thead>\n",
       "    <tr style=\"text-align: right;\">\n",
       "      <th></th>\n",
       "      <th>SG_UF_RESIDENCIA</th>\n",
       "      <th>TP_ESTADO_CIVIL</th>\n",
       "      <th>TP_COR_RACA</th>\n",
       "      <th>TP_ENSINO</th>\n",
       "      <th>TP_LINGUA</th>\n",
       "      <th>Q025</th>\n",
       "      <th>Q026</th>\n",
       "      <th>Q027</th>\n",
       "      <th>RENDIMENTO_GERAL</th>\n",
       "      <th>NU_IDADE_2</th>\n",
       "      <th>RECEM_FORMADO</th>\n",
       "      <th>Q001_Q002</th>\n",
       "      <th>RENDA_PERCAPITA_FAMILIAR</th>\n",
       "      <th>CLASSE_RENDA_PERCAPITA_FAMILIAR</th>\n",
       "    </tr>\n",
       "  </thead>\n",
       "  <tbody>\n",
       "    <tr>\n",
       "      <th>0</th>\n",
       "      <td>MA</td>\n",
       "      <td>1.0</td>\n",
       "      <td>1</td>\n",
       "      <td>1.0</td>\n",
       "      <td>0</td>\n",
       "      <td>0</td>\n",
       "      <td>1</td>\n",
       "      <td>1</td>\n",
       "      <td>REGULAR</td>\n",
       "      <td>7</td>\n",
       "      <td>0</td>\n",
       "      <td>1</td>\n",
       "      <td>238.500000</td>\n",
       "      <td>0</td>\n",
       "    </tr>\n",
       "    <tr>\n",
       "      <th>1</th>\n",
       "      <td>PB</td>\n",
       "      <td>1.0</td>\n",
       "      <td>0</td>\n",
       "      <td>1.0</td>\n",
       "      <td>1</td>\n",
       "      <td>1</td>\n",
       "      <td>1</td>\n",
       "      <td>1</td>\n",
       "      <td>REGULAR</td>\n",
       "      <td>7</td>\n",
       "      <td>0</td>\n",
       "      <td>1</td>\n",
       "      <td>954.000000</td>\n",
       "      <td>2</td>\n",
       "    </tr>\n",
       "    <tr>\n",
       "      <th>2</th>\n",
       "      <td>PI</td>\n",
       "      <td>0.0</td>\n",
       "      <td>1</td>\n",
       "      <td>1.0</td>\n",
       "      <td>0</td>\n",
       "      <td>1</td>\n",
       "      <td>1</td>\n",
       "      <td>1</td>\n",
       "      <td>BOM</td>\n",
       "      <td>7</td>\n",
       "      <td>0</td>\n",
       "      <td>1</td>\n",
       "      <td>1192.500000</td>\n",
       "      <td>2</td>\n",
       "    </tr>\n",
       "    <tr>\n",
       "      <th>3</th>\n",
       "      <td>CE</td>\n",
       "      <td>1.0</td>\n",
       "      <td>1</td>\n",
       "      <td>1.0</td>\n",
       "      <td>0</td>\n",
       "      <td>0</td>\n",
       "      <td>0</td>\n",
       "      <td>1</td>\n",
       "      <td>INSUFICIENTE</td>\n",
       "      <td>4</td>\n",
       "      <td>1</td>\n",
       "      <td>1</td>\n",
       "      <td>204.428571</td>\n",
       "      <td>0</td>\n",
       "    </tr>\n",
       "    <tr>\n",
       "      <th>4</th>\n",
       "      <td>MT</td>\n",
       "      <td>1.0</td>\n",
       "      <td>1</td>\n",
       "      <td>1.0</td>\n",
       "      <td>1</td>\n",
       "      <td>0</td>\n",
       "      <td>1</td>\n",
       "      <td>1</td>\n",
       "      <td>REGULAR</td>\n",
       "      <td>7</td>\n",
       "      <td>0</td>\n",
       "      <td>1</td>\n",
       "      <td>1431.000000</td>\n",
       "      <td>3</td>\n",
       "    </tr>\n",
       "    <tr>\n",
       "      <th>...</th>\n",
       "      <td>...</td>\n",
       "      <td>...</td>\n",
       "      <td>...</td>\n",
       "      <td>...</td>\n",
       "      <td>...</td>\n",
       "      <td>...</td>\n",
       "      <td>...</td>\n",
       "      <td>...</td>\n",
       "      <td>...</td>\n",
       "      <td>...</td>\n",
       "      <td>...</td>\n",
       "      <td>...</td>\n",
       "      <td>...</td>\n",
       "      <td>...</td>\n",
       "    </tr>\n",
       "    <tr>\n",
       "      <th>3083671</th>\n",
       "      <td>MA</td>\n",
       "      <td>1.0</td>\n",
       "      <td>0</td>\n",
       "      <td>1.0</td>\n",
       "      <td>0</td>\n",
       "      <td>1</td>\n",
       "      <td>0</td>\n",
       "      <td>1</td>\n",
       "      <td>INSUFICIENTE</td>\n",
       "      <td>2</td>\n",
       "      <td>1</td>\n",
       "      <td>0</td>\n",
       "      <td>1669.500000</td>\n",
       "      <td>4</td>\n",
       "    </tr>\n",
       "    <tr>\n",
       "      <th>3083672</th>\n",
       "      <td>AM</td>\n",
       "      <td>1.0</td>\n",
       "      <td>1</td>\n",
       "      <td>1.0</td>\n",
       "      <td>0</td>\n",
       "      <td>1</td>\n",
       "      <td>0</td>\n",
       "      <td>1</td>\n",
       "      <td>REGULAR</td>\n",
       "      <td>3</td>\n",
       "      <td>1</td>\n",
       "      <td>1</td>\n",
       "      <td>318.000000</td>\n",
       "      <td>0</td>\n",
       "    </tr>\n",
       "    <tr>\n",
       "      <th>3083673</th>\n",
       "      <td>AM</td>\n",
       "      <td>1.0</td>\n",
       "      <td>1</td>\n",
       "      <td>1.0</td>\n",
       "      <td>0</td>\n",
       "      <td>1</td>\n",
       "      <td>0</td>\n",
       "      <td>1</td>\n",
       "      <td>REGULAR</td>\n",
       "      <td>5</td>\n",
       "      <td>1</td>\n",
       "      <td>1</td>\n",
       "      <td>954.000000</td>\n",
       "      <td>2</td>\n",
       "    </tr>\n",
       "    <tr>\n",
       "      <th>3083674</th>\n",
       "      <td>SP</td>\n",
       "      <td>1.0</td>\n",
       "      <td>0</td>\n",
       "      <td>1.0</td>\n",
       "      <td>1</td>\n",
       "      <td>1</td>\n",
       "      <td>0</td>\n",
       "      <td>1</td>\n",
       "      <td>REGULAR</td>\n",
       "      <td>2</td>\n",
       "      <td>1</td>\n",
       "      <td>1</td>\n",
       "      <td>477.000000</td>\n",
       "      <td>1</td>\n",
       "    </tr>\n",
       "    <tr>\n",
       "      <th>3083675</th>\n",
       "      <td>MG</td>\n",
       "      <td>1.0</td>\n",
       "      <td>1</td>\n",
       "      <td>1.0</td>\n",
       "      <td>1</td>\n",
       "      <td>1</td>\n",
       "      <td>1</td>\n",
       "      <td>1</td>\n",
       "      <td>REGULAR</td>\n",
       "      <td>6</td>\n",
       "      <td>0</td>\n",
       "      <td>1</td>\n",
       "      <td>477.000000</td>\n",
       "      <td>1</td>\n",
       "    </tr>\n",
       "  </tbody>\n",
       "</table>\n",
       "<p>3083676 rows × 14 columns</p>\n",
       "</div>"
      ],
      "text/plain": [
       "        SG_UF_RESIDENCIA  TP_ESTADO_CIVIL  TP_COR_RACA  TP_ENSINO  TP_LINGUA  \\\n",
       "0                     MA              1.0            1        1.0          0   \n",
       "1                     PB              1.0            0        1.0          1   \n",
       "2                     PI              0.0            1        1.0          0   \n",
       "3                     CE              1.0            1        1.0          0   \n",
       "4                     MT              1.0            1        1.0          1   \n",
       "...                  ...              ...          ...        ...        ...   \n",
       "3083671               MA              1.0            0        1.0          0   \n",
       "3083672               AM              1.0            1        1.0          0   \n",
       "3083673               AM              1.0            1        1.0          0   \n",
       "3083674               SP              1.0            0        1.0          1   \n",
       "3083675               MG              1.0            1        1.0          1   \n",
       "\n",
       "         Q025  Q026  Q027 RENDIMENTO_GERAL  NU_IDADE_2  RECEM_FORMADO  \\\n",
       "0           0     1     1          REGULAR           7              0   \n",
       "1           1     1     1          REGULAR           7              0   \n",
       "2           1     1     1              BOM           7              0   \n",
       "3           0     0     1     INSUFICIENTE           4              1   \n",
       "4           0     1     1          REGULAR           7              0   \n",
       "...       ...   ...   ...              ...         ...            ...   \n",
       "3083671     1     0     1     INSUFICIENTE           2              1   \n",
       "3083672     1     0     1          REGULAR           3              1   \n",
       "3083673     1     0     1          REGULAR           5              1   \n",
       "3083674     1     0     1          REGULAR           2              1   \n",
       "3083675     1     1     1          REGULAR           6              0   \n",
       "\n",
       "         Q001_Q002  RENDA_PERCAPITA_FAMILIAR  CLASSE_RENDA_PERCAPITA_FAMILIAR  \n",
       "0                1                238.500000                                0  \n",
       "1                1                954.000000                                2  \n",
       "2                1               1192.500000                                2  \n",
       "3                1                204.428571                                0  \n",
       "4                1               1431.000000                                3  \n",
       "...            ...                       ...                              ...  \n",
       "3083671          0               1669.500000                                4  \n",
       "3083672          1                318.000000                                0  \n",
       "3083673          1                954.000000                                2  \n",
       "3083674          1                477.000000                                1  \n",
       "3083675          1                477.000000                                1  \n",
       "\n",
       "[3083676 rows x 14 columns]"
      ]
     },
     "execution_count": 27,
     "metadata": {},
     "output_type": "execute_result"
    }
   ],
   "source": [
    "dataset_enem"
   ]
  },
  {
   "cell_type": "code",
   "execution_count": null,
   "metadata": {},
   "outputs": [],
   "source": []
  },
  {
   "cell_type": "code",
   "execution_count": 162,
   "metadata": {
    "colab": {},
    "colab_type": "code",
    "id": "7zdk9DpcxnPi"
   },
   "outputs": [
    {
     "data": {
      "text/plain": [
       "<matplotlib.axes._subplots.AxesSubplot at 0x2681294d608>"
      ]
     },
     "execution_count": 162,
     "metadata": {},
     "output_type": "execute_result"
    },
    {
     "data": {
      "image/png": "[encoded data removed]",
      "text/plain": [
       "<Figure size 720x360 with 1 Axes>"
      ]
     },
     "metadata": {
      "needs_background": "light"
     },
     "output_type": "display_data"
    }
   ],
   "source": [
    "plt.figure(figsize=(10,5))\n",
    "sns.distplot(dataset_enem['MEDIA_GERAL'], kde=False, bins=100)"
   ]
  },
  {
   "cell_type": "code",
   "execution_count": 25,
   "metadata": {},
   "outputs": [
    {
     "data": {
      "text/plain": [
       "array([[<matplotlib.axes._subplots.AxesSubplot object at 0x000001E88FEAF348>,\n",
       "        <matplotlib.axes._subplots.AxesSubplot object at 0x000001E88FE48108>,\n",
       "        <matplotlib.axes._subplots.AxesSubplot object at 0x000001E891F729C8>],\n",
       "       [<matplotlib.axes._subplots.AxesSubplot object at 0x000001E8CC8A9748>,\n",
       "        <matplotlib.axes._subplots.AxesSubplot object at 0x000001E8CC8E14C8>,\n",
       "        <matplotlib.axes._subplots.AxesSubplot object at 0x000001E8CC916248>],\n",
       "       [<matplotlib.axes._subplots.AxesSubplot object at 0x000001E8CC944F88>,\n",
       "        <matplotlib.axes._subplots.AxesSubplot object at 0x000001E8CC97FD08>,\n",
       "        <matplotlib.axes._subplots.AxesSubplot object at 0x000001E8CC984B88>],\n",
       "       [<matplotlib.axes._subplots.AxesSubplot object at 0x000001E8CC9C4808>,\n",
       "        <matplotlib.axes._subplots.AxesSubplot object at 0x000001E8CCA2AD88>,\n",
       "        <matplotlib.axes._subplots.AxesSubplot object at 0x000001E8CCA63E48>]],\n",
       "      dtype=object)"
      ]
     },
     "execution_count": 25,
     "metadata": {},
     "output_type": "execute_result"
    },
    {
     "data": {
      "image/png": "[encoded data removed]",
      "text/plain": [
       "<Figure size 1080x1440 with 12 Axes>"
      ]
     },
     "metadata": {
      "needs_background": "light"
     },
     "output_type": "display_data"
    }
   ],
   "source": [
    "dataset_enem.hist(figsize=[15, 20])"
   ]
  },
  {
   "cell_type": "code",
   "execution_count": 165,
   "metadata": {
    "colab": {},
    "colab_type": "code",
    "id": "bZu2MP16Bxc5"
   },
   "outputs": [
    {
     "data": {
      "text/plain": [
       "<seaborn.axisgrid.JointGrid at 0x26812f5dcc8>"
      ]
     },
     "execution_count": 165,
     "metadata": {},
     "output_type": "execute_result"
    },
    {
     "data": {
      "text/plain": [
       "<Figure size 720x360 with 0 Axes>"
      ]
     },
     "metadata": {},
     "output_type": "display_data"
    },
    {
     "data": {
      "image/png": "[encoded data removed]",
      "text/plain": [
       "<Figure size 432x432 with 3 Axes>"
      ]
     },
     "metadata": {
      "needs_background": "light"
     },
     "output_type": "display_data"
    }
   ],
   "source": [
    "plt.figure(figsize=(10,5))\n",
    "sns.jointplot(x='RENDA_PERCAPITA_FAMILIAR', y='MEDIA_GERAL', data= dataset_enem)"
   ]
  },
  {
   "cell_type": "code",
   "execution_count": null,
   "metadata": {},
   "outputs": [],
   "source": [
    "sns.pairplot(dataset_enem, hue='CLASSE_RENDA_PERCAPITA_FAMILIAR')"
   ]
  },
  {
   "cell_type": "code",
   "execution_count": 12,
   "metadata": {},
   "outputs": [
    {
     "data": {
      "text/plain": [
       "<matplotlib.axes._subplots.AxesSubplot at 0x1cecc82aac8>"
      ]
     },
     "execution_count": 12,
     "metadata": {},
     "output_type": "execute_result"
    },
    {
     "data": {
      "image/png": "[encoded data removed]",
      "text/plain": [
       "<Figure size 720x360 with 1 Axes>"
      ]
     },
     "metadata": {
      "needs_background": "light"
     },
     "output_type": "display_data"
    }
   ],
   "source": [
    "#Media\n",
    "plt.figure(figsize=(10,5))\n",
    "sns.barplot(x='SG_UF_RESIDENCIA', y='MEDIA_GERAL', data=dataset_enem)"
   ]
  },
  {
   "cell_type": "code",
   "execution_count": 13,
   "metadata": {},
   "outputs": [
    {
     "data": {
      "text/plain": [
       "<matplotlib.axes._subplots.AxesSubplot at 0x1cecc878448>"
      ]
     },
     "execution_count": 13,
     "metadata": {},
     "output_type": "execute_result"
    },
    {
     "data": {
      "image/png": "[encoded data removed]",
      "text/plain": [
       "<Figure size 720x360 with 1 Axes>"
      ]
     },
     "metadata": {
      "needs_background": "light"
     },
     "output_type": "display_data"
    }
   ],
   "source": [
    "#Desvio padrao\n",
    "plt.figure(figsize=(10,5))\n",
    "sns.barplot(x='SG_UF_RESIDENCIA', y='MEDIA_GERAL', data=dataset_enem, estimator=np.std)"
   ]
  },
  {
   "cell_type": "code",
   "execution_count": 19,
   "metadata": {},
   "outputs": [
    {
     "data": {
      "text/plain": [
       "<matplotlib.axes._subplots.AxesSubplot at 0x1e8921b8548>"
      ]
     },
     "execution_count": 19,
     "metadata": {},
     "output_type": "execute_result"
    },
    {
     "data": {
      "image/png": "[encoded data removed]",
      "text/plain": [
       "<Figure size 720x360 with 1 Axes>"
      ]
     },
     "metadata": {
      "needs_background": "light"
     },
     "output_type": "display_data"
    }
   ],
   "source": [
    "#Valor das por rendimento\n",
    "plt.figure(figsize=(10,5))\n",
    "sns.countplot(x='RENDIMENTO_GERAL', data=dataset_enem)"
   ]
  },
  {
   "cell_type": "code",
   "execution_count": 6,
   "metadata": {},
   "outputs": [
    {
     "data": {
      "text/plain": [
       "REGULAR         2389570\n",
       "BOM              485868\n",
       "EXCELENTE        117965\n",
       "INSUFICIENTE      90273\n",
       "Name: RENDIMENTO_GERAL, dtype: int64"
      ]
     },
     "execution_count": 6,
     "metadata": {},
     "output_type": "execute_result"
    }
   ],
   "source": [
    "dataset_enem.RENDIMENTO_GERAL.value_counts()"
   ]
  },
  {
   "cell_type": "code",
   "execution_count": null,
   "metadata": {},
   "outputs": [],
   "source": [
    "plt.figure(figsize=(10, 15))\n",
    "plt.boxplot(dataset_enem['RENDIMENTO_GERAL'])"
   ]
  },
  {
   "cell_type": "code",
   "execution_count": 18,
   "metadata": {},
   "outputs": [
    {
     "data": {
      "text/plain": [
       "<matplotlib.axes._subplots.AxesSubplot at 0x1cecd32d608>"
      ]
     },
     "execution_count": 18,
     "metadata": {},
     "output_type": "execute_result"
    },
    {
     "data": {
      "image/png": "[encoded data removed]",
      "text/plain": [
       "<Figure size 1440x360 with 1 Axes>"
      ]
     },
     "metadata": {
      "needs_background": "light"
     },
     "output_type": "display_data"
    }
   ],
   "source": [
    "plt.figure(figsize=(20,5))\n",
    "sns.boxplot(x='SG_UF_RESIDENCIA', y='MEDIA_GERAL', data=dataset_enem, palette='rainbow')"
   ]
  },
  {
   "cell_type": "code",
   "execution_count": 17,
   "metadata": {},
   "outputs": [
    {
     "data": {
      "text/plain": [
       "<matplotlib.axes._subplots.AxesSubplot at 0x1ceccd8e248>"
      ]
     },
     "execution_count": 17,
     "metadata": {},
     "output_type": "execute_result"
    },
    {
     "data": {
      "image/png": "[encoded data removed]",
      "text/plain": [
       "<Figure size 1440x360 with 1 Axes>"
      ]
     },
     "metadata": {
      "needs_background": "light"
     },
     "output_type": "display_data"
    }
   ],
   "source": [
    "plt.figure(figsize=(20,5))\n",
    "sns.boxplot(x='SG_UF_RESIDENCIA', y='MEDIA_GERAL', data=dataset_enem, palette='rainbow', hue='CLASSE_RENDA_PERCAPITA_FAMILIAR')"
   ]
  },
  {
   "cell_type": "code",
   "execution_count": 21,
   "metadata": {},
   "outputs": [
    {
     "data": {
      "text/plain": [
       "<matplotlib.axes._subplots.AxesSubplot at 0x1cecddf38c8>"
      ]
     },
     "execution_count": 21,
     "metadata": {},
     "output_type": "execute_result"
    },
    {
     "data": {
      "image/png": "[encoded data removed]",
      "text/plain": [
       "<Figure size 1800x360 with 1 Axes>"
      ]
     },
     "metadata": {
      "needs_background": "light"
     },
     "output_type": "display_data"
    }
   ],
   "source": [
    "plt.figure(figsize=(25,5))\n",
    "sns.violinplot(x='SG_UF_RESIDENCIA', y='MEDIA_GERAL', data=dataset_enem, hue='TP_LINGUA', split=True)"
   ]
  },
  {
   "cell_type": "code",
   "execution_count": 22,
   "metadata": {},
   "outputs": [
    {
     "data": {
      "text/plain": [
       "<matplotlib.axes._subplots.AxesSubplot at 0x1cede248808>"
      ]
     },
     "execution_count": 22,
     "metadata": {},
     "output_type": "execute_result"
    },
    {
     "data": {
      "image/png": "[encoded data removed]",
      "text/plain": [
       "<Figure size 1440x360 with 1 Axes>"
      ]
     },
     "metadata": {
      "needs_background": "light"
     },
     "output_type": "display_data"
    }
   ],
   "source": [
    "plt.figure(figsize=(20,5))\n",
    "sns.violinplot(x='SG_UF_RESIDENCIA', y='MEDIA_GERAL', data=dataset_enem, hue='Q001_Q002', split=True)"
   ]
  },
  {
   "cell_type": "code",
   "execution_count": 31,
   "metadata": {},
   "outputs": [],
   "source": [
    "corr = dataset_enem.corr()"
   ]
  },
  {
   "cell_type": "code",
   "execution_count": 32,
   "metadata": {},
   "outputs": [
    {
     "data": {
      "text/html": [
       "<div>\n",
       "<style scoped>\n",
       "    .dataframe tbody tr th:only-of-type {\n",
       "        vertical-align: middle;\n",
       "    }\n",
       "\n",
       "    .dataframe tbody tr th {\n",
       "        vertical-align: top;\n",
       "    }\n",
       "\n",
       "    .dataframe thead th {\n",
       "        text-align: right;\n",
       "    }\n",
       "</style>\n",
       "<table border=\"1\" class=\"dataframe\">\n",
       "  <thead>\n",
       "    <tr style=\"text-align: right;\">\n",
       "      <th></th>\n",
       "      <th>TP_ESTADO_CIVIL</th>\n",
       "      <th>TP_COR_RACA</th>\n",
       "      <th>TP_ENSINO</th>\n",
       "      <th>NU_NOTA_CN</th>\n",
       "      <th>NU_NOTA_CH</th>\n",
       "      <th>NU_NOTA_LC</th>\n",
       "      <th>NU_NOTA_MT</th>\n",
       "      <th>TP_LINGUA</th>\n",
       "      <th>NU_NOTA_REDACAO</th>\n",
       "      <th>Q001</th>\n",
       "      <th>...</th>\n",
       "      <th>Q005</th>\n",
       "      <th>Q025</th>\n",
       "      <th>Q026</th>\n",
       "      <th>Q027</th>\n",
       "      <th>MEDIA_GERAL</th>\n",
       "      <th>NU_IDADE_2</th>\n",
       "      <th>RECEM_FORMADO</th>\n",
       "      <th>Q001_Q002</th>\n",
       "      <th>RENDA_PERCAPITA_FAMILIAR</th>\n",
       "      <th>CLASSE_RENDA_PERCAPITA_FAMILIAR</th>\n",
       "    </tr>\n",
       "  </thead>\n",
       "  <tbody>\n",
       "    <tr>\n",
       "      <th>TP_ESTADO_CIVIL</th>\n",
       "      <td>1.000000</td>\n",
       "      <td>-0.032398</td>\n",
       "      <td>0.123869</td>\n",
       "      <td>0.054460</td>\n",
       "      <td>0.027380</td>\n",
       "      <td>0.071304</td>\n",
       "      <td>0.081121</td>\n",
       "      <td>-0.074330</td>\n",
       "      <td>0.102414</td>\n",
       "      <td>-0.059264</td>\n",
       "      <td>...</td>\n",
       "      <td>0.084179</td>\n",
       "      <td>0.029911</td>\n",
       "      <td>-0.142373</td>\n",
       "      <td>-0.071297</td>\n",
       "      <td>0.092850</td>\n",
       "      <td>-0.298285</td>\n",
       "      <td>0.142372</td>\n",
       "      <td>-0.081176</td>\n",
       "      <td>0.030621</td>\n",
       "      <td>0.026688</td>\n",
       "    </tr>\n",
       "    <tr>\n",
       "      <th>TP_COR_RACA</th>\n",
       "      <td>-0.032398</td>\n",
       "      <td>1.000000</td>\n",
       "      <td>-0.040098</td>\n",
       "      <td>-0.202545</td>\n",
       "      <td>-0.184928</td>\n",
       "      <td>-0.203763</td>\n",
       "      <td>-0.202827</td>\n",
       "      <td>0.146657</td>\n",
       "      <td>-0.153070</td>\n",
       "      <td>0.168496</td>\n",
       "      <td>...</td>\n",
       "      <td>0.094507</td>\n",
       "      <td>-0.180705</td>\n",
       "      <td>0.052666</td>\n",
       "      <td>0.196689</td>\n",
       "      <td>-0.224935</td>\n",
       "      <td>0.107617</td>\n",
       "      <td>-0.052667</td>\n",
       "      <td>0.173834</td>\n",
       "      <td>-0.191818</td>\n",
       "      <td>-0.281733</td>\n",
       "    </tr>\n",
       "    <tr>\n",
       "      <th>TP_ENSINO</th>\n",
       "      <td>0.123869</td>\n",
       "      <td>-0.040098</td>\n",
       "      <td>1.000000</td>\n",
       "      <td>0.104707</td>\n",
       "      <td>0.102420</td>\n",
       "      <td>0.132099</td>\n",
       "      <td>0.118835</td>\n",
       "      <td>-0.046619</td>\n",
       "      <td>0.140441</td>\n",
       "      <td>-0.060649</td>\n",
       "      <td>...</td>\n",
       "      <td>0.006968</td>\n",
       "      <td>0.051314</td>\n",
       "      <td>0.038346</td>\n",
       "      <td>-0.078860</td>\n",
       "      <td>0.152865</td>\n",
       "      <td>-0.158454</td>\n",
       "      <td>-0.038346</td>\n",
       "      <td>-0.082443</td>\n",
       "      <td>0.052242</td>\n",
       "      <td>0.078363</td>\n",
       "    </tr>\n",
       "    <tr>\n",
       "      <th>NU_NOTA_CN</th>\n",
       "      <td>0.054460</td>\n",
       "      <td>-0.202545</td>\n",
       "      <td>0.104707</td>\n",
       "      <td>1.000000</td>\n",
       "      <td>0.578498</td>\n",
       "      <td>0.602023</td>\n",
       "      <td>0.592281</td>\n",
       "      <td>-0.231382</td>\n",
       "      <td>0.527002</td>\n",
       "      <td>-0.297951</td>\n",
       "      <td>...</td>\n",
       "      <td>-0.080824</td>\n",
       "      <td>0.219458</td>\n",
       "      <td>0.035220</td>\n",
       "      <td>-0.392786</td>\n",
       "      <td>0.774428</td>\n",
       "      <td>-0.082696</td>\n",
       "      <td>-0.035221</td>\n",
       "      <td>-0.317375</td>\n",
       "      <td>0.312882</td>\n",
       "      <td>0.415476</td>\n",
       "    </tr>\n",
       "    <tr>\n",
       "      <th>NU_NOTA_CH</th>\n",
       "      <td>0.027380</td>\n",
       "      <td>-0.184928</td>\n",
       "      <td>0.102420</td>\n",
       "      <td>0.578498</td>\n",
       "      <td>1.000000</td>\n",
       "      <td>0.699848</td>\n",
       "      <td>0.538204</td>\n",
       "      <td>-0.231649</td>\n",
       "      <td>0.520057</td>\n",
       "      <td>-0.241847</td>\n",
       "      <td>...</td>\n",
       "      <td>-0.095281</td>\n",
       "      <td>0.220119</td>\n",
       "      <td>0.070707</td>\n",
       "      <td>-0.314236</td>\n",
       "      <td>0.779012</td>\n",
       "      <td>-0.037311</td>\n",
       "      <td>-0.070708</td>\n",
       "      <td>-0.263142</td>\n",
       "      <td>0.256164</td>\n",
       "      <td>0.366364</td>\n",
       "    </tr>\n",
       "    <tr>\n",
       "      <th>NU_NOTA_LC</th>\n",
       "      <td>0.071304</td>\n",
       "      <td>-0.203763</td>\n",
       "      <td>0.132099</td>\n",
       "      <td>0.602023</td>\n",
       "      <td>0.699848</td>\n",
       "      <td>1.000000</td>\n",
       "      <td>0.569723</td>\n",
       "      <td>-0.238722</td>\n",
       "      <td>0.566973</td>\n",
       "      <td>-0.263395</td>\n",
       "      <td>...</td>\n",
       "      <td>-0.101134</td>\n",
       "      <td>0.254855</td>\n",
       "      <td>0.061504</td>\n",
       "      <td>-0.330770</td>\n",
       "      <td>0.806758</td>\n",
       "      <td>-0.084467</td>\n",
       "      <td>-0.061505</td>\n",
       "      <td>-0.293100</td>\n",
       "      <td>0.273621</td>\n",
       "      <td>0.396324</td>\n",
       "    </tr>\n",
       "    <tr>\n",
       "      <th>NU_NOTA_MT</th>\n",
       "      <td>0.081121</td>\n",
       "      <td>-0.202827</td>\n",
       "      <td>0.118835</td>\n",
       "      <td>0.592281</td>\n",
       "      <td>0.538204</td>\n",
       "      <td>0.569723</td>\n",
       "      <td>1.000000</td>\n",
       "      <td>-0.247222</td>\n",
       "      <td>0.498794</td>\n",
       "      <td>-0.297303</td>\n",
       "      <td>...</td>\n",
       "      <td>-0.067678</td>\n",
       "      <td>0.228319</td>\n",
       "      <td>0.012997</td>\n",
       "      <td>-0.380318</td>\n",
       "      <td>0.776182</td>\n",
       "      <td>-0.120383</td>\n",
       "      <td>-0.012998</td>\n",
       "      <td>-0.320710</td>\n",
       "      <td>0.316247</td>\n",
       "      <td>0.417250</td>\n",
       "    </tr>\n",
       "    <tr>\n",
       "      <th>TP_LINGUA</th>\n",
       "      <td>-0.074330</td>\n",
       "      <td>0.146657</td>\n",
       "      <td>-0.046619</td>\n",
       "      <td>-0.231382</td>\n",
       "      <td>-0.231649</td>\n",
       "      <td>-0.238722</td>\n",
       "      <td>-0.247222</td>\n",
       "      <td>1.000000</td>\n",
       "      <td>-0.197323</td>\n",
       "      <td>0.170893</td>\n",
       "      <td>...</td>\n",
       "      <td>0.047294</td>\n",
       "      <td>-0.176212</td>\n",
       "      <td>0.093992</td>\n",
       "      <td>0.179701</td>\n",
       "      <td>-0.275666</td>\n",
       "      <td>0.157724</td>\n",
       "      <td>-0.093991</td>\n",
       "      <td>0.174982</td>\n",
       "      <td>-0.174033</td>\n",
       "      <td>-0.240710</td>\n",
       "    </tr>\n",
       "    <tr>\n",
       "      <th>NU_NOTA_REDACAO</th>\n",
       "      <td>0.102414</td>\n",
       "      <td>-0.153070</td>\n",
       "      <td>0.140441</td>\n",
       "      <td>0.527002</td>\n",
       "      <td>0.520057</td>\n",
       "      <td>0.566973</td>\n",
       "      <td>0.498794</td>\n",
       "      <td>-0.197323</td>\n",
       "      <td>1.000000</td>\n",
       "      <td>-0.248702</td>\n",
       "      <td>...</td>\n",
       "      <td>-0.060851</td>\n",
       "      <td>0.209658</td>\n",
       "      <td>0.025576</td>\n",
       "      <td>-0.344712</td>\n",
       "      <td>0.858794</td>\n",
       "      <td>-0.152319</td>\n",
       "      <td>-0.025578</td>\n",
       "      <td>-0.279546</td>\n",
       "      <td>0.248289</td>\n",
       "      <td>0.340564</td>\n",
       "    </tr>\n",
       "    <tr>\n",
       "      <th>Q001</th>\n",
       "      <td>-0.059264</td>\n",
       "      <td>0.168496</td>\n",
       "      <td>-0.060649</td>\n",
       "      <td>-0.297951</td>\n",
       "      <td>-0.241847</td>\n",
       "      <td>-0.263395</td>\n",
       "      <td>-0.297303</td>\n",
       "      <td>0.170893</td>\n",
       "      <td>-0.248702</td>\n",
       "      <td>1.000000</td>\n",
       "      <td>...</td>\n",
       "      <td>0.028607</td>\n",
       "      <td>-0.162181</td>\n",
       "      <td>0.057684</td>\n",
       "      <td>0.384094</td>\n",
       "      <td>-0.329047</td>\n",
       "      <td>0.133617</td>\n",
       "      <td>-0.057684</td>\n",
       "      <td>0.673329</td>\n",
       "      <td>-0.381626</td>\n",
       "      <td>-0.428829</td>\n",
       "    </tr>\n",
       "    <tr>\n",
       "      <th>Q002</th>\n",
       "      <td>-0.072420</td>\n",
       "      <td>0.152740</td>\n",
       "      <td>-0.074267</td>\n",
       "      <td>-0.287717</td>\n",
       "      <td>-0.234953</td>\n",
       "      <td>-0.260532</td>\n",
       "      <td>-0.290891</td>\n",
       "      <td>0.152519</td>\n",
       "      <td>-0.252256</td>\n",
       "      <td>0.393346</td>\n",
       "      <td>...</td>\n",
       "      <td>0.046019</td>\n",
       "      <td>-0.179113</td>\n",
       "      <td>0.053267</td>\n",
       "      <td>0.358014</td>\n",
       "      <td>-0.325389</td>\n",
       "      <td>0.150238</td>\n",
       "      <td>-0.053268</td>\n",
       "      <td>0.863000</td>\n",
       "      <td>-0.333329</td>\n",
       "      <td>-0.428855</td>\n",
       "    </tr>\n",
       "    <tr>\n",
       "      <th>Q005</th>\n",
       "      <td>0.084179</td>\n",
       "      <td>0.094507</td>\n",
       "      <td>0.006968</td>\n",
       "      <td>-0.080824</td>\n",
       "      <td>-0.095281</td>\n",
       "      <td>-0.101134</td>\n",
       "      <td>-0.067678</td>\n",
       "      <td>0.047294</td>\n",
       "      <td>-0.060851</td>\n",
       "      <td>0.028607</td>\n",
       "      <td>...</td>\n",
       "      <td>1.000000</td>\n",
       "      <td>-0.081695</td>\n",
       "      <td>-0.077735</td>\n",
       "      <td>0.054551</td>\n",
       "      <td>-0.093882</td>\n",
       "      <td>-0.091267</td>\n",
       "      <td>0.077735</td>\n",
       "      <td>0.047071</td>\n",
       "      <td>-0.167089</td>\n",
       "      <td>-0.333290</td>\n",
       "    </tr>\n",
       "    <tr>\n",
       "      <th>Q025</th>\n",
       "      <td>0.029911</td>\n",
       "      <td>-0.180705</td>\n",
       "      <td>0.051314</td>\n",
       "      <td>0.219458</td>\n",
       "      <td>0.220119</td>\n",
       "      <td>0.254855</td>\n",
       "      <td>0.228319</td>\n",
       "      <td>-0.176212</td>\n",
       "      <td>0.209658</td>\n",
       "      <td>-0.162181</td>\n",
       "      <td>...</td>\n",
       "      <td>-0.081695</td>\n",
       "      <td>1.000000</td>\n",
       "      <td>-0.012485</td>\n",
       "      <td>-0.190876</td>\n",
       "      <td>0.274912</td>\n",
       "      <td>-0.098795</td>\n",
       "      <td>0.012484</td>\n",
       "      <td>-0.205889</td>\n",
       "      <td>0.173081</td>\n",
       "      <td>0.309886</td>\n",
       "    </tr>\n",
       "    <tr>\n",
       "      <th>Q026</th>\n",
       "      <td>-0.142373</td>\n",
       "      <td>0.052666</td>\n",
       "      <td>0.038346</td>\n",
       "      <td>0.035220</td>\n",
       "      <td>0.070707</td>\n",
       "      <td>0.061504</td>\n",
       "      <td>0.012997</td>\n",
       "      <td>0.093992</td>\n",
       "      <td>0.025576</td>\n",
       "      <td>0.057684</td>\n",
       "      <td>...</td>\n",
       "      <td>-0.077735</td>\n",
       "      <td>-0.012485</td>\n",
       "      <td>1.000000</td>\n",
       "      <td>0.054892</td>\n",
       "      <td>0.044967</td>\n",
       "      <td>0.672346</td>\n",
       "      <td>-0.999999</td>\n",
       "      <td>0.060033</td>\n",
       "      <td>-0.033381</td>\n",
       "      <td>-0.008857</td>\n",
       "    </tr>\n",
       "    <tr>\n",
       "      <th>Q027</th>\n",
       "      <td>-0.071297</td>\n",
       "      <td>0.196689</td>\n",
       "      <td>-0.078860</td>\n",
       "      <td>-0.392786</td>\n",
       "      <td>-0.314236</td>\n",
       "      <td>-0.330770</td>\n",
       "      <td>-0.380318</td>\n",
       "      <td>0.179701</td>\n",
       "      <td>-0.344712</td>\n",
       "      <td>0.384094</td>\n",
       "      <td>...</td>\n",
       "      <td>0.054551</td>\n",
       "      <td>-0.190876</td>\n",
       "      <td>0.054892</td>\n",
       "      <td>1.000000</td>\n",
       "      <td>-0.434663</td>\n",
       "      <td>0.158248</td>\n",
       "      <td>-0.054892</td>\n",
       "      <td>0.394193</td>\n",
       "      <td>-0.394335</td>\n",
       "      <td>-0.465137</td>\n",
       "    </tr>\n",
       "    <tr>\n",
       "      <th>MEDIA_GERAL</th>\n",
       "      <td>0.092850</td>\n",
       "      <td>-0.224935</td>\n",
       "      <td>0.152865</td>\n",
       "      <td>0.774428</td>\n",
       "      <td>0.779012</td>\n",
       "      <td>0.806758</td>\n",
       "      <td>0.776182</td>\n",
       "      <td>-0.275666</td>\n",
       "      <td>0.858794</td>\n",
       "      <td>-0.329047</td>\n",
       "      <td>...</td>\n",
       "      <td>-0.093882</td>\n",
       "      <td>0.274912</td>\n",
       "      <td>0.044967</td>\n",
       "      <td>-0.434663</td>\n",
       "      <td>1.000000</td>\n",
       "      <td>-0.133955</td>\n",
       "      <td>-0.044968</td>\n",
       "      <td>-0.361202</td>\n",
       "      <td>0.340728</td>\n",
       "      <td>0.467283</td>\n",
       "    </tr>\n",
       "    <tr>\n",
       "      <th>NU_IDADE_2</th>\n",
       "      <td>-0.298285</td>\n",
       "      <td>0.107617</td>\n",
       "      <td>-0.158454</td>\n",
       "      <td>-0.082696</td>\n",
       "      <td>-0.037311</td>\n",
       "      <td>-0.084467</td>\n",
       "      <td>-0.120383</td>\n",
       "      <td>0.157724</td>\n",
       "      <td>-0.152319</td>\n",
       "      <td>0.133617</td>\n",
       "      <td>...</td>\n",
       "      <td>-0.091267</td>\n",
       "      <td>-0.098795</td>\n",
       "      <td>0.672346</td>\n",
       "      <td>0.158248</td>\n",
       "      <td>-0.133955</td>\n",
       "      <td>1.000000</td>\n",
       "      <td>-0.672347</td>\n",
       "      <td>0.166715</td>\n",
       "      <td>-0.084949</td>\n",
       "      <td>-0.083327</td>\n",
       "    </tr>\n",
       "    <tr>\n",
       "      <th>RECEM_FORMADO</th>\n",
       "      <td>0.142372</td>\n",
       "      <td>-0.052667</td>\n",
       "      <td>-0.038346</td>\n",
       "      <td>-0.035221</td>\n",
       "      <td>-0.070708</td>\n",
       "      <td>-0.061505</td>\n",
       "      <td>-0.012998</td>\n",
       "      <td>-0.093991</td>\n",
       "      <td>-0.025578</td>\n",
       "      <td>-0.057684</td>\n",
       "      <td>...</td>\n",
       "      <td>0.077735</td>\n",
       "      <td>0.012484</td>\n",
       "      <td>-0.999999</td>\n",
       "      <td>-0.054892</td>\n",
       "      <td>-0.044968</td>\n",
       "      <td>-0.672347</td>\n",
       "      <td>1.000000</td>\n",
       "      <td>-0.060034</td>\n",
       "      <td>0.033381</td>\n",
       "      <td>0.008856</td>\n",
       "    </tr>\n",
       "    <tr>\n",
       "      <th>Q001_Q002</th>\n",
       "      <td>-0.081176</td>\n",
       "      <td>0.173834</td>\n",
       "      <td>-0.082443</td>\n",
       "      <td>-0.317375</td>\n",
       "      <td>-0.263142</td>\n",
       "      <td>-0.293100</td>\n",
       "      <td>-0.320710</td>\n",
       "      <td>0.174982</td>\n",
       "      <td>-0.279546</td>\n",
       "      <td>0.673329</td>\n",
       "      <td>...</td>\n",
       "      <td>0.047071</td>\n",
       "      <td>-0.205889</td>\n",
       "      <td>0.060033</td>\n",
       "      <td>0.394193</td>\n",
       "      <td>-0.361202</td>\n",
       "      <td>0.166715</td>\n",
       "      <td>-0.060034</td>\n",
       "      <td>1.000000</td>\n",
       "      <td>-0.351523</td>\n",
       "      <td>-0.472210</td>\n",
       "    </tr>\n",
       "    <tr>\n",
       "      <th>RENDA_PERCAPITA_FAMILIAR</th>\n",
       "      <td>0.030621</td>\n",
       "      <td>-0.191818</td>\n",
       "      <td>0.052242</td>\n",
       "      <td>0.312882</td>\n",
       "      <td>0.256164</td>\n",
       "      <td>0.273621</td>\n",
       "      <td>0.316247</td>\n",
       "      <td>-0.174033</td>\n",
       "      <td>0.248289</td>\n",
       "      <td>-0.381626</td>\n",
       "      <td>...</td>\n",
       "      <td>-0.167089</td>\n",
       "      <td>0.173081</td>\n",
       "      <td>-0.033381</td>\n",
       "      <td>-0.394335</td>\n",
       "      <td>0.340728</td>\n",
       "      <td>-0.084949</td>\n",
       "      <td>0.033381</td>\n",
       "      <td>-0.351523</td>\n",
       "      <td>1.000000</td>\n",
       "      <td>0.601349</td>\n",
       "    </tr>\n",
       "    <tr>\n",
       "      <th>CLASSE_RENDA_PERCAPITA_FAMILIAR</th>\n",
       "      <td>0.026688</td>\n",
       "      <td>-0.281733</td>\n",
       "      <td>0.078363</td>\n",
       "      <td>0.415476</td>\n",
       "      <td>0.366364</td>\n",
       "      <td>0.396324</td>\n",
       "      <td>0.417250</td>\n",
       "      <td>-0.240710</td>\n",
       "      <td>0.340564</td>\n",
       "      <td>-0.428829</td>\n",
       "      <td>...</td>\n",
       "      <td>-0.333290</td>\n",
       "      <td>0.309886</td>\n",
       "      <td>-0.008857</td>\n",
       "      <td>-0.465137</td>\n",
       "      <td>0.467283</td>\n",
       "      <td>-0.083327</td>\n",
       "      <td>0.008856</td>\n",
       "      <td>-0.472210</td>\n",
       "      <td>0.601349</td>\n",
       "      <td>1.000000</td>\n",
       "    </tr>\n",
       "  </tbody>\n",
       "</table>\n",
       "<p>21 rows × 21 columns</p>\n",
       "</div>"
      ],
      "text/plain": [
       "                                 TP_ESTADO_CIVIL  TP_COR_RACA  TP_ENSINO  \\\n",
       "TP_ESTADO_CIVIL                         1.000000    -0.032398   0.123869   \n",
       "TP_COR_RACA                            -0.032398     1.000000  -0.040098   \n",
       "TP_ENSINO                               0.123869    -0.040098   1.000000   \n",
       "NU_NOTA_CN                              0.054460    -0.202545   0.104707   \n",
       "NU_NOTA_CH                              0.027380    -0.184928   0.102420   \n",
       "NU_NOTA_LC                              0.071304    -0.203763   0.132099   \n",
       "NU_NOTA_MT                              0.081121    -0.202827   0.118835   \n",
       "TP_LINGUA                              -0.074330     0.146657  -0.046619   \n",
       "NU_NOTA_REDACAO                         0.102414    -0.153070   0.140441   \n",
       "Q001                                   -0.059264     0.168496  -0.060649   \n",
       "Q002                                   -0.072420     0.152740  -0.074267   \n",
       "Q005                                    0.084179     0.094507   0.006968   \n",
       "Q025                                    0.029911    -0.180705   0.051314   \n",
       "Q026                                   -0.142373     0.052666   0.038346   \n",
       "Q027                                   -0.071297     0.196689  -0.078860   \n",
       "MEDIA_GERAL                             0.092850    -0.224935   0.152865   \n",
       "NU_IDADE_2                             -0.298285     0.107617  -0.158454   \n",
       "RECEM_FORMADO                           0.142372    -0.052667  -0.038346   \n",
       "Q001_Q002                              -0.081176     0.173834  -0.082443   \n",
       "RENDA_PERCAPITA_FAMILIAR                0.030621    -0.191818   0.052242   \n",
       "CLASSE_RENDA_PERCAPITA_FAMILIAR         0.026688    -0.281733   0.078363   \n",
       "\n",
       "                                 NU_NOTA_CN  NU_NOTA_CH  NU_NOTA_LC  \\\n",
       "TP_ESTADO_CIVIL                    0.054460    0.027380    0.071304   \n",
       "TP_COR_RACA                       -0.202545   -0.184928   -0.203763   \n",
       "TP_ENSINO                          0.104707    0.102420    0.132099   \n",
       "NU_NOTA_CN                         1.000000    0.578498    0.602023   \n",
       "NU_NOTA_CH                         0.578498    1.000000    0.699848   \n",
       "NU_NOTA_LC                         0.602023    0.699848    1.000000   \n",
       "NU_NOTA_MT                         0.592281    0.538204    0.569723   \n",
       "TP_LINGUA                         -0.231382   -0.231649   -0.238722   \n",
       "NU_NOTA_REDACAO                    0.527002    0.520057    0.566973   \n",
       "Q001                              -0.297951   -0.241847   -0.263395   \n",
       "Q002                              -0.287717   -0.234953   -0.260532   \n",
       "Q005                              -0.080824   -0.095281   -0.101134   \n",
       "Q025                               0.219458    0.220119    0.254855   \n",
       "Q026                               0.035220    0.070707    0.061504   \n",
       "Q027                              -0.392786   -0.314236   -0.330770   \n",
       "MEDIA_GERAL                        0.774428    0.779012    0.806758   \n",
       "NU_IDADE_2                        -0.082696   -0.037311   -0.084467   \n",
       "RECEM_FORMADO                     -0.035221   -0.070708   -0.061505   \n",
       "Q001_Q002                         -0.317375   -0.263142   -0.293100   \n",
       "RENDA_PERCAPITA_FAMILIAR           0.312882    0.256164    0.273621   \n",
       "CLASSE_RENDA_PERCAPITA_FAMILIAR    0.415476    0.366364    0.396324   \n",
       "\n",
       "                                 NU_NOTA_MT  TP_LINGUA  NU_NOTA_REDACAO  \\\n",
       "TP_ESTADO_CIVIL                    0.081121  -0.074330         0.102414   \n",
       "TP_COR_RACA                       -0.202827   0.146657        -0.153070   \n",
       "TP_ENSINO                          0.118835  -0.046619         0.140441   \n",
       "NU_NOTA_CN                         0.592281  -0.231382         0.527002   \n",
       "NU_NOTA_CH                         0.538204  -0.231649         0.520057   \n",
       "NU_NOTA_LC                         0.569723  -0.238722         0.566973   \n",
       "NU_NOTA_MT                         1.000000  -0.247222         0.498794   \n",
       "TP_LINGUA                         -0.247222   1.000000        -0.197323   \n",
       "NU_NOTA_REDACAO                    0.498794  -0.197323         1.000000   \n",
       "Q001                              -0.297303   0.170893        -0.248702   \n",
       "Q002                              -0.290891   0.152519        -0.252256   \n",
       "Q005                              -0.067678   0.047294        -0.060851   \n",
       "Q025                               0.228319  -0.176212         0.209658   \n",
       "Q026                               0.012997   0.093992         0.025576   \n",
       "Q027                              -0.380318   0.179701        -0.344712   \n",
       "MEDIA_GERAL                        0.776182  -0.275666         0.858794   \n",
       "NU_IDADE_2                        -0.120383   0.157724        -0.152319   \n",
       "RECEM_FORMADO                     -0.012998  -0.093991        -0.025578   \n",
       "Q001_Q002                         -0.320710   0.174982        -0.279546   \n",
       "RENDA_PERCAPITA_FAMILIAR           0.316247  -0.174033         0.248289   \n",
       "CLASSE_RENDA_PERCAPITA_FAMILIAR    0.417250  -0.240710         0.340564   \n",
       "\n",
       "                                     Q001  ...      Q005      Q025      Q026  \\\n",
       "TP_ESTADO_CIVIL                 -0.059264  ...  0.084179  0.029911 -0.142373   \n",
       "TP_COR_RACA                      0.168496  ...  0.094507 -0.180705  0.052666   \n",
       "TP_ENSINO                       -0.060649  ...  0.006968  0.051314  0.038346   \n",
       "NU_NOTA_CN                      -0.297951  ... -0.080824  0.219458  0.035220   \n",
       "NU_NOTA_CH                      -0.241847  ... -0.095281  0.220119  0.070707   \n",
       "NU_NOTA_LC                      -0.263395  ... -0.101134  0.254855  0.061504   \n",
       "NU_NOTA_MT                      -0.297303  ... -0.067678  0.228319  0.012997   \n",
       "TP_LINGUA                        0.170893  ...  0.047294 -0.176212  0.093992   \n",
       "NU_NOTA_REDACAO                 -0.248702  ... -0.060851  0.209658  0.025576   \n",
       "Q001                             1.000000  ...  0.028607 -0.162181  0.057684   \n",
       "Q002                             0.393346  ...  0.046019 -0.179113  0.053267   \n",
       "Q005                             0.028607  ...  1.000000 -0.081695 -0.077735   \n",
       "Q025                            -0.162181  ... -0.081695  1.000000 -0.012485   \n",
       "Q026                             0.057684  ... -0.077735 -0.012485  1.000000   \n",
       "Q027                             0.384094  ...  0.054551 -0.190876  0.054892   \n",
       "MEDIA_GERAL                     -0.329047  ... -0.093882  0.274912  0.044967   \n",
       "NU_IDADE_2                       0.133617  ... -0.091267 -0.098795  0.672346   \n",
       "RECEM_FORMADO                   -0.057684  ...  0.077735  0.012484 -0.999999   \n",
       "Q001_Q002                        0.673329  ...  0.047071 -0.205889  0.060033   \n",
       "RENDA_PERCAPITA_FAMILIAR        -0.381626  ... -0.167089  0.173081 -0.033381   \n",
       "CLASSE_RENDA_PERCAPITA_FAMILIAR -0.428829  ... -0.333290  0.309886 -0.008857   \n",
       "\n",
       "                                     Q027  MEDIA_GERAL  NU_IDADE_2  \\\n",
       "TP_ESTADO_CIVIL                 -0.071297     0.092850   -0.298285   \n",
       "TP_COR_RACA                      0.196689    -0.224935    0.107617   \n",
       "TP_ENSINO                       -0.078860     0.152865   -0.158454   \n",
       "NU_NOTA_CN                      -0.392786     0.774428   -0.082696   \n",
       "NU_NOTA_CH                      -0.314236     0.779012   -0.037311   \n",
       "NU_NOTA_LC                      -0.330770     0.806758   -0.084467   \n",
       "NU_NOTA_MT                      -0.380318     0.776182   -0.120383   \n",
       "TP_LINGUA                        0.179701    -0.275666    0.157724   \n",
       "NU_NOTA_REDACAO                 -0.344712     0.858794   -0.152319   \n",
       "Q001                             0.384094    -0.329047    0.133617   \n",
       "Q002                             0.358014    -0.325389    0.150238   \n",
       "Q005                             0.054551    -0.093882   -0.091267   \n",
       "Q025                            -0.190876     0.274912   -0.098795   \n",
       "Q026                             0.054892     0.044967    0.672346   \n",
       "Q027                             1.000000    -0.434663    0.158248   \n",
       "MEDIA_GERAL                     -0.434663     1.000000   -0.133955   \n",
       "NU_IDADE_2                       0.158248    -0.133955    1.000000   \n",
       "RECEM_FORMADO                   -0.054892    -0.044968   -0.672347   \n",
       "Q001_Q002                        0.394193    -0.361202    0.166715   \n",
       "RENDA_PERCAPITA_FAMILIAR        -0.394335     0.340728   -0.084949   \n",
       "CLASSE_RENDA_PERCAPITA_FAMILIAR -0.465137     0.467283   -0.083327   \n",
       "\n",
       "                                 RECEM_FORMADO  Q001_Q002  \\\n",
       "TP_ESTADO_CIVIL                       0.142372  -0.081176   \n",
       "TP_COR_RACA                          -0.052667   0.173834   \n",
       "TP_ENSINO                            -0.038346  -0.082443   \n",
       "NU_NOTA_CN                           -0.035221  -0.317375   \n",
       "NU_NOTA_CH                           -0.070708  -0.263142   \n",
       "NU_NOTA_LC                           -0.061505  -0.293100   \n",
       "NU_NOTA_MT                           -0.012998  -0.320710   \n",
       "TP_LINGUA                            -0.093991   0.174982   \n",
       "NU_NOTA_REDACAO                      -0.025578  -0.279546   \n",
       "Q001                                 -0.057684   0.673329   \n",
       "Q002                                 -0.053268   0.863000   \n",
       "Q005                                  0.077735   0.047071   \n",
       "Q025                                  0.012484  -0.205889   \n",
       "Q026                                 -0.999999   0.060033   \n",
       "Q027                                 -0.054892   0.394193   \n",
       "MEDIA_GERAL                          -0.044968  -0.361202   \n",
       "NU_IDADE_2                           -0.672347   0.166715   \n",
       "RECEM_FORMADO                         1.000000  -0.060034   \n",
       "Q001_Q002                            -0.060034   1.000000   \n",
       "RENDA_PERCAPITA_FAMILIAR              0.033381  -0.351523   \n",
       "CLASSE_RENDA_PERCAPITA_FAMILIAR       0.008856  -0.472210   \n",
       "\n",
       "                                 RENDA_PERCAPITA_FAMILIAR  \\\n",
       "TP_ESTADO_CIVIL                                  0.030621   \n",
       "TP_COR_RACA                                     -0.191818   \n",
       "TP_ENSINO                                        0.052242   \n",
       "NU_NOTA_CN                                       0.312882   \n",
       "NU_NOTA_CH                                       0.256164   \n",
       "NU_NOTA_LC                                       0.273621   \n",
       "NU_NOTA_MT                                       0.316247   \n",
       "TP_LINGUA                                       -0.174033   \n",
       "NU_NOTA_REDACAO                                  0.248289   \n",
       "Q001                                            -0.381626   \n",
       "Q002                                            -0.333329   \n",
       "Q005                                            -0.167089   \n",
       "Q025                                             0.173081   \n",
       "Q026                                            -0.033381   \n",
       "Q027                                            -0.394335   \n",
       "MEDIA_GERAL                                      0.340728   \n",
       "NU_IDADE_2                                      -0.084949   \n",
       "RECEM_FORMADO                                    0.033381   \n",
       "Q001_Q002                                       -0.351523   \n",
       "RENDA_PERCAPITA_FAMILIAR                         1.000000   \n",
       "CLASSE_RENDA_PERCAPITA_FAMILIAR                  0.601349   \n",
       "\n",
       "                                 CLASSE_RENDA_PERCAPITA_FAMILIAR  \n",
       "TP_ESTADO_CIVIL                                         0.026688  \n",
       "TP_COR_RACA                                            -0.281733  \n",
       "TP_ENSINO                                               0.078363  \n",
       "NU_NOTA_CN                                              0.415476  \n",
       "NU_NOTA_CH                                              0.366364  \n",
       "NU_NOTA_LC                                              0.396324  \n",
       "NU_NOTA_MT                                              0.417250  \n",
       "TP_LINGUA                                              -0.240710  \n",
       "NU_NOTA_REDACAO                                         0.340564  \n",
       "Q001                                                   -0.428829  \n",
       "Q002                                                   -0.428855  \n",
       "Q005                                                   -0.333290  \n",
       "Q025                                                    0.309886  \n",
       "Q026                                                   -0.008857  \n",
       "Q027                                                   -0.465137  \n",
       "MEDIA_GERAL                                             0.467283  \n",
       "NU_IDADE_2                                             -0.083327  \n",
       "RECEM_FORMADO                                           0.008856  \n",
       "Q001_Q002                                              -0.472210  \n",
       "RENDA_PERCAPITA_FAMILIAR                                0.601349  \n",
       "CLASSE_RENDA_PERCAPITA_FAMILIAR                         1.000000  \n",
       "\n",
       "[21 rows x 21 columns]"
      ]
     },
     "execution_count": 32,
     "metadata": {},
     "output_type": "execute_result"
    }
   ],
   "source": [
    "corr"
   ]
  },
  {
   "cell_type": "code",
   "execution_count": 39,
   "metadata": {},
   "outputs": [
    {
     "data": {
      "text/plain": [
       "<matplotlib.axes._subplots.AxesSubplot at 0x1d01ac93388>"
      ]
     },
     "execution_count": 39,
     "metadata": {},
     "output_type": "execute_result"
    },
    {
     "data": {
      "image/png": "[encoded data removed]",
      "text/plain": [
       "<Figure size 1080x504 with 2 Axes>"
      ]
     },
     "metadata": {
      "needs_background": "light"
     },
     "output_type": "display_data"
    }
   ],
   "source": [
    "plt.figure(figsize=(15,7))\n",
    "sns.heatmap(corr, cmap='YlGnBu')"
   ]
  },
  {
   "cell_type": "code",
   "execution_count": 34,
   "metadata": {},
   "outputs": [],
   "source": [
    "mpc1 = dataset_enem.pivot_table(values='MEDIA_GERAL', index='SG_UF_RESIDENCIA', columns='CLASSE_RENDA_PERCAPITA_FAMILIAR')"
   ]
  },
  {
   "cell_type": "code",
   "execution_count": 38,
   "metadata": {},
   "outputs": [
    {
     "data": {
      "text/plain": [
       "<matplotlib.axes._subplots.AxesSubplot at 0x1d01abcc6c8>"
      ]
     },
     "execution_count": 38,
     "metadata": {},
     "output_type": "execute_result"
    },
    {
     "data": {
      "image/png": "[encoded data removed]",
      "text/plain": [
       "<Figure size 1080x360 with 2 Axes>"
      ]
     },
     "metadata": {
      "needs_background": "light"
     },
     "output_type": "display_data"
    }
   ],
   "source": [
    "plt.figure(figsize=(15,5))\n",
    "sns.heatmap(mpc1, cmap='magma', linecolor='gray', linewidths=1)"
   ]
  },
  {
   "cell_type": "code",
   "execution_count": 40,
   "metadata": {},
   "outputs": [],
   "source": [
    "mpc2 = dataset_enem.pivot_table(values='MEDIA_GERAL', index='SG_UF_RESIDENCIA', columns='Q001_Q002')"
   ]
  },
  {
   "cell_type": "code",
   "execution_count": 41,
   "metadata": {},
   "outputs": [
    {
     "data": {
      "text/plain": [
       "<matplotlib.axes._subplots.AxesSubplot at 0x1d01abfc848>"
      ]
     },
     "execution_count": 41,
     "metadata": {},
     "output_type": "execute_result"
    },
    {
     "data": {
      "image/png": "[encoded data removed]",
      "text/plain": [
       "<Figure size 1080x360 with 2 Axes>"
      ]
     },
     "metadata": {
      "needs_background": "light"
     },
     "output_type": "display_data"
    }
   ],
   "source": [
    "plt.figure(figsize=(15,5))\n",
    "sns.heatmap(mpc2, cmap='magma', linecolor='gray', linewidths=1)"
   ]
  },
  {
   "cell_type": "code",
   "execution_count": null,
   "metadata": {},
   "outputs": [],
   "source": [
    "plt.figure(figsize=(10,5))\n",
    "g = sns.PairGrid(dataset_enem)\n",
    "g.map_diag(plt.hist)\n",
    "g.map_upper(plt.scatter)\n",
    "g.map_lower(sns.kdeplot)"
   ]
  },
  {
   "cell_type": "code",
   "execution_count": null,
   "metadata": {},
   "outputs": [],
   "source": []
  },
  {
   "cell_type": "code",
   "execution_count": null,
   "metadata": {},
   "outputs": [],
   "source": []
  }
 ],
 "metadata": {
  "colab": {
   "authorship_tag": "ABX9TyNRrEkEX1v6OGqrT8ct4miT",
   "collapsed_sections": [],
   "name": "Dataset_Enem_PreProc.ipynb",
   "provenance": []
  },
  "kernelspec": {
   "display_name": "Python 3",
   "language": "python",
   "name": "python3"
  },
  "language_info": {
   "codemirror_mode": {
    "name": "ipython",
    "version": 3
   },
   "file_extension": ".py",
   "mimetype": "text/x-python",
   "name": "python",
   "nbconvert_exporter": "python",
   "pygments_lexer": "ipython3",
   "version": "3.7.6"
  }
 },
 "nbformat": 4,
 "nbformat_minor": 1
}
