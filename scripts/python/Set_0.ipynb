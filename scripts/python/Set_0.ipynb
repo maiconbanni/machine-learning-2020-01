{
 "cells": [
  {
   "cell_type": "code",
   "execution_count": 1,
   "metadata": {},
   "outputs": [],
   "source": [
    "import pandas as pd\n",
    "import seaborn as sns\n",
    "import matplotlib.pyplot as plt\n",
    "import numpy as np\n",
    "%matplotlib inline"
   ]
  },
  {
   "cell_type": "code",
   "execution_count": 2,
   "metadata": {},
   "outputs": [],
   "source": [
    "dataset = pd.read_csv(\"dataset_20200712.csv\", sep=',')"
   ]
  },
  {
   "cell_type": "code",
   "execution_count": 4,
   "metadata": {},
   "outputs": [],
   "source": [
    "condicao = [dataset.UF_RESIDENCIA == 'AL', dataset.UF_RESIDENCIA == 'AP', dataset.UF_RESIDENCIA == 'AM', dataset.UF_RESIDENCIA == 'BA', dataset.UF_RESIDENCIA == 'CE', dataset.UF_RESIDENCIA == 'DF', dataset.UF_RESIDENCIA =='ES', dataset.UF_RESIDENCIA =='GO', dataset.UF_RESIDENCIA =='MA', dataset.UF_RESIDENCIA =='MT', dataset.UF_RESIDENCIA =='MS', dataset.UF_RESIDENCIA =='MG', dataset.UF_RESIDENCIA =='PA', dataset.UF_RESIDENCIA =='PB', dataset.UF_RESIDENCIA =='PR', dataset.UF_RESIDENCIA =='PE', dataset.UF_RESIDENCIA =='PI', dataset.UF_RESIDENCIA =='RJ', dataset.UF_RESIDENCIA =='RN', dataset.UF_RESIDENCIA =='RS', dataset.UF_RESIDENCIA =='RO', dataset.UF_RESIDENCIA =='RR', dataset.UF_RESIDENCIA =='SC', dataset.UF_RESIDENCIA =='SP', dataset.UF_RESIDENCIA =='SE', dataset.UF_RESIDENCIA =='TO']\n",
    "resultado = [1, 2, 3, 4, 5, 6, 7, 8, 9, 10, 11, 12, 13, 14, 15, 16, 17, 18, 19, 20, 21, 22, 23, 24, 25, 26]\n",
    "\n",
    "dataset['UF_RESIDENCIA'] = np.select(condicao, resultado, 0)\n",
    "\n",
    "dataset.dropna(axis=0, inplace=True)\n"
   ]
  },
  {
   "cell_type": "code",
   "execution_count": 5,
   "metadata": {},
   "outputs": [
    {
     "data": {
      "text/html": [
       "<div>\n",
       "<style scoped>\n",
       "    .dataframe tbody tr th:only-of-type {\n",
       "        vertical-align: middle;\n",
       "    }\n",
       "\n",
       "    .dataframe tbody tr th {\n",
       "        vertical-align: top;\n",
       "    }\n",
       "\n",
       "    .dataframe thead th {\n",
       "        text-align: right;\n",
       "    }\n",
       "</style>\n",
       "<table border=\"1\" class=\"dataframe\">\n",
       "  <thead>\n",
       "    <tr style=\"text-align: right;\">\n",
       "      <th></th>\n",
       "      <th>UF_RESIDENCIA</th>\n",
       "      <th>FAIXA_ETARIA</th>\n",
       "      <th>ESTADO_CIVIL</th>\n",
       "      <th>COR_RACA</th>\n",
       "      <th>IDIOMA</th>\n",
       "      <th>ESCOLARIDADE_DOS_PAIS</th>\n",
       "      <th>FAIXA_RENDA_PERCAPTA</th>\n",
       "      <th>TEM_INTERNET</th>\n",
       "      <th>ENSINO_PUBLICO</th>\n",
       "      <th>RENDIMENTO_GERAL</th>\n",
       "    </tr>\n",
       "  </thead>\n",
       "  <tbody>\n",
       "    <tr>\n",
       "      <th>0</th>\n",
       "      <td>16</td>\n",
       "      <td>6.0</td>\n",
       "      <td>1</td>\n",
       "      <td>1</td>\n",
       "      <td>0</td>\n",
       "      <td>0</td>\n",
       "      <td>1</td>\n",
       "      <td>1</td>\n",
       "      <td>0</td>\n",
       "      <td>EXCELENTE</td>\n",
       "    </tr>\n",
       "    <tr>\n",
       "      <th>1</th>\n",
       "      <td>4</td>\n",
       "      <td>7.0</td>\n",
       "      <td>0</td>\n",
       "      <td>1</td>\n",
       "      <td>0</td>\n",
       "      <td>1</td>\n",
       "      <td>2</td>\n",
       "      <td>1</td>\n",
       "      <td>0</td>\n",
       "      <td>REGULAR</td>\n",
       "    </tr>\n",
       "    <tr>\n",
       "      <th>2</th>\n",
       "      <td>7</td>\n",
       "      <td>2.0</td>\n",
       "      <td>1</td>\n",
       "      <td>1</td>\n",
       "      <td>1</td>\n",
       "      <td>0</td>\n",
       "      <td>0</td>\n",
       "      <td>1</td>\n",
       "      <td>0</td>\n",
       "      <td>REGULAR</td>\n",
       "    </tr>\n",
       "    <tr>\n",
       "      <th>3</th>\n",
       "      <td>16</td>\n",
       "      <td>2.0</td>\n",
       "      <td>1</td>\n",
       "      <td>1</td>\n",
       "      <td>1</td>\n",
       "      <td>1</td>\n",
       "      <td>0</td>\n",
       "      <td>1</td>\n",
       "      <td>0</td>\n",
       "      <td>REGULAR</td>\n",
       "    </tr>\n",
       "    <tr>\n",
       "      <th>4</th>\n",
       "      <td>24</td>\n",
       "      <td>6.0</td>\n",
       "      <td>1</td>\n",
       "      <td>0</td>\n",
       "      <td>0</td>\n",
       "      <td>2</td>\n",
       "      <td>3</td>\n",
       "      <td>1</td>\n",
       "      <td>2</td>\n",
       "      <td>REGULAR</td>\n",
       "    </tr>\n",
       "    <tr>\n",
       "      <th>...</th>\n",
       "      <td>...</td>\n",
       "      <td>...</td>\n",
       "      <td>...</td>\n",
       "      <td>...</td>\n",
       "      <td>...</td>\n",
       "      <td>...</td>\n",
       "      <td>...</td>\n",
       "      <td>...</td>\n",
       "      <td>...</td>\n",
       "      <td>...</td>\n",
       "    </tr>\n",
       "    <tr>\n",
       "      <th>3157269</th>\n",
       "      <td>15</td>\n",
       "      <td>3.0</td>\n",
       "      <td>1</td>\n",
       "      <td>1</td>\n",
       "      <td>0</td>\n",
       "      <td>2</td>\n",
       "      <td>4</td>\n",
       "      <td>1</td>\n",
       "      <td>1</td>\n",
       "      <td>REGULAR</td>\n",
       "    </tr>\n",
       "    <tr>\n",
       "      <th>3157270</th>\n",
       "      <td>5</td>\n",
       "      <td>7.0</td>\n",
       "      <td>0</td>\n",
       "      <td>1</td>\n",
       "      <td>0</td>\n",
       "      <td>1</td>\n",
       "      <td>1</td>\n",
       "      <td>1</td>\n",
       "      <td>0</td>\n",
       "      <td>REGULAR</td>\n",
       "    </tr>\n",
       "    <tr>\n",
       "      <th>3157271</th>\n",
       "      <td>25</td>\n",
       "      <td>7.0</td>\n",
       "      <td>1</td>\n",
       "      <td>0</td>\n",
       "      <td>0</td>\n",
       "      <td>2</td>\n",
       "      <td>7</td>\n",
       "      <td>1</td>\n",
       "      <td>2</td>\n",
       "      <td>REGULAR</td>\n",
       "    </tr>\n",
       "    <tr>\n",
       "      <th>3157272</th>\n",
       "      <td>16</td>\n",
       "      <td>5.0</td>\n",
       "      <td>1</td>\n",
       "      <td>1</td>\n",
       "      <td>0</td>\n",
       "      <td>0</td>\n",
       "      <td>0</td>\n",
       "      <td>0</td>\n",
       "      <td>0</td>\n",
       "      <td>REGULAR</td>\n",
       "    </tr>\n",
       "    <tr>\n",
       "      <th>3157273</th>\n",
       "      <td>8</td>\n",
       "      <td>4.0</td>\n",
       "      <td>1</td>\n",
       "      <td>1</td>\n",
       "      <td>1</td>\n",
       "      <td>1</td>\n",
       "      <td>1</td>\n",
       "      <td>1</td>\n",
       "      <td>0</td>\n",
       "      <td>REGULAR</td>\n",
       "    </tr>\n",
       "  </tbody>\n",
       "</table>\n",
       "<p>3157231 rows × 10 columns</p>\n",
       "</div>"
      ],
      "text/plain": [
       "         UF_RESIDENCIA  FAIXA_ETARIA  ESTADO_CIVIL  COR_RACA  IDIOMA  \\\n",
       "0                   16           6.0             1         1       0   \n",
       "1                    4           7.0             0         1       0   \n",
       "2                    7           2.0             1         1       1   \n",
       "3                   16           2.0             1         1       1   \n",
       "4                   24           6.0             1         0       0   \n",
       "...                ...           ...           ...       ...     ...   \n",
       "3157269             15           3.0             1         1       0   \n",
       "3157270              5           7.0             0         1       0   \n",
       "3157271             25           7.0             1         0       0   \n",
       "3157272             16           5.0             1         1       0   \n",
       "3157273              8           4.0             1         1       1   \n",
       "\n",
       "         ESCOLARIDADE_DOS_PAIS  FAIXA_RENDA_PERCAPTA  TEM_INTERNET  \\\n",
       "0                            0                     1             1   \n",
       "1                            1                     2             1   \n",
       "2                            0                     0             1   \n",
       "3                            1                     0             1   \n",
       "4                            2                     3             1   \n",
       "...                        ...                   ...           ...   \n",
       "3157269                      2                     4             1   \n",
       "3157270                      1                     1             1   \n",
       "3157271                      2                     7             1   \n",
       "3157272                      0                     0             0   \n",
       "3157273                      1                     1             1   \n",
       "\n",
       "         ENSINO_PUBLICO RENDIMENTO_GERAL  \n",
       "0                     0        EXCELENTE  \n",
       "1                     0          REGULAR  \n",
       "2                     0          REGULAR  \n",
       "3                     0          REGULAR  \n",
       "4                     2          REGULAR  \n",
       "...                 ...              ...  \n",
       "3157269               1          REGULAR  \n",
       "3157270               0          REGULAR  \n",
       "3157271               2          REGULAR  \n",
       "3157272               0          REGULAR  \n",
       "3157273               0          REGULAR  \n",
       "\n",
       "[3157231 rows x 10 columns]"
      ]
     },
     "execution_count": 5,
     "metadata": {},
     "output_type": "execute_result"
    }
   ],
   "source": [
    "dataset"
   ]
  },
  {
   "cell_type": "code",
   "execution_count": null,
   "metadata": {},
   "outputs": [],
   "source": []
  },
  {
   "cell_type": "code",
   "execution_count": 6,
   "metadata": {},
   "outputs": [
    {
     "data": {
      "text/plain": [
       "REGULAR         2358534\n",
       "INSUFICIENTE     505500\n",
       "EXCELENTE        293197\n",
       "Name: RENDIMENTO_GERAL, dtype: int64"
      ]
     },
     "execution_count": 6,
     "metadata": {},
     "output_type": "execute_result"
    }
   ],
   "source": [
    "dataset.RENDIMENTO_GERAL.value_counts()"
   ]
  },
  {
   "cell_type": "code",
   "execution_count": 7,
   "metadata": {
    "scrolled": false
   },
   "outputs": [
    {
     "data": {
      "text/plain": [
       "<matplotlib.axes._subplots.AxesSubplot at 0x231c2eba888>"
      ]
     },
     "execution_count": 7,
     "metadata": {},
     "output_type": "execute_result"
    },
    {
     "data": {
      "image/png": "[encoded data removed]",
      "text/plain": [
       "<Figure size 720x360 with 1 Axes>"
      ]
     },
     "metadata": {
      "needs_background": "light"
     },
     "output_type": "display_data"
    }
   ],
   "source": [
    "plt.figure(figsize=(10, 5))\n",
    "sns.countplot(x='RENDIMENTO_GERAL', data=dataset)"
   ]
  },
  {
   "cell_type": "code",
   "execution_count": null,
   "metadata": {},
   "outputs": [],
   "source": []
  },
  {
   "cell_type": "code",
   "execution_count": 9,
   "metadata": {},
   "outputs": [],
   "source": [
    "############### Árvore de Decisão"
   ]
  },
  {
   "cell_type": "code",
   "execution_count": 10,
   "metadata": {},
   "outputs": [],
   "source": [
    "from sklearn.model_selection import train_test_split"
   ]
  },
  {
   "cell_type": "code",
   "execution_count": 11,
   "metadata": {},
   "outputs": [],
   "source": [
    "X_tree = dataset.drop(columns=['RENDIMENTO_GERAL'])\n",
    "y_tree = dataset.RENDIMENTO_GERAL"
   ]
  },
  {
   "cell_type": "code",
   "execution_count": 12,
   "metadata": {},
   "outputs": [],
   "source": [
    "X_train_tree, X_test_tree, y_train_tree, y_test_tree = train_test_split(X_tree, y_tree, test_size=0.3)"
   ]
  },
  {
   "cell_type": "code",
   "execution_count": 13,
   "metadata": {},
   "outputs": [],
   "source": [
    "from sklearn.tree import DecisionTreeClassifier"
   ]
  },
  {
   "cell_type": "code",
   "execution_count": 14,
   "metadata": {},
   "outputs": [],
   "source": [
    "tree = DecisionTreeClassifier()"
   ]
  },
  {
   "cell_type": "code",
   "execution_count": 15,
   "metadata": {},
   "outputs": [
    {
     "data": {
      "text/plain": [
       "DecisionTreeClassifier(ccp_alpha=0.0, class_weight=None, criterion='gini',\n",
       "                       max_depth=None, max_features=None, max_leaf_nodes=None,\n",
       "                       min_impurity_decrease=0.0, min_impurity_split=None,\n",
       "                       min_samples_leaf=1, min_samples_split=2,\n",
       "                       min_weight_fraction_leaf=0.0, presort='deprecated',\n",
       "                       random_state=None, splitter='best')"
      ]
     },
     "execution_count": 15,
     "metadata": {},
     "output_type": "execute_result"
    }
   ],
   "source": [
    "tree.fit(X_train_tree, y_train_tree)"
   ]
  },
  {
   "cell_type": "code",
   "execution_count": 16,
   "metadata": {},
   "outputs": [],
   "source": [
    "predicao_tree = tree.predict(X_test_tree)"
   ]
  },
  {
   "cell_type": "code",
   "execution_count": 17,
   "metadata": {},
   "outputs": [],
   "source": [
    "from sklearn.metrics import classification_report, confusion_matrix"
   ]
  },
  {
   "cell_type": "code",
   "execution_count": 18,
   "metadata": {},
   "outputs": [
    {
     "name": "stdout",
     "output_type": "stream",
     "text": [
      "              precision    recall  f1-score   support\n",
      "\n",
      "   EXCELENTE       0.55      0.32      0.41     87986\n",
      "INSUFICIENTE       0.25      0.01      0.03    151436\n",
      "     REGULAR       0.77      0.96      0.85    707748\n",
      "\n",
      "    accuracy                           0.75    947170\n",
      "   macro avg       0.52      0.43      0.43    947170\n",
      "weighted avg       0.66      0.75      0.68    947170\n",
      "\n"
     ]
    }
   ],
   "source": [
    "print(classification_report(y_test_tree, predicao_tree))"
   ]
  },
  {
   "cell_type": "code",
   "execution_count": 19,
   "metadata": {},
   "outputs": [
    {
     "name": "stdout",
     "output_type": "stream",
     "text": [
      "[[ 28271    260  59455]\n",
      " [   586   2122 148728]\n",
      " [ 22162   6035 679551]]\n"
     ]
    }
   ],
   "source": [
    "print(confusion_matrix(y_test_tree, predicao_tree))"
   ]
  },
  {
   "cell_type": "code",
   "execution_count": null,
   "metadata": {},
   "outputs": [],
   "source": []
  },
  {
   "cell_type": "code",
   "execution_count": null,
   "metadata": {},
   "outputs": [],
   "source": []
  },
  {
   "cell_type": "code",
   "execution_count": 20,
   "metadata": {},
   "outputs": [],
   "source": [
    "################# Redes Bayseanas ###############"
   ]
  },
  {
   "cell_type": "code",
   "execution_count": 21,
   "metadata": {},
   "outputs": [],
   "source": [
    "X_Bayes = dataset.drop(columns=['RENDIMENTO_GERAL'])\n",
    "y_Bayes = dataset.RENDIMENTO_GERAL"
   ]
  },
  {
   "cell_type": "code",
   "execution_count": 22,
   "metadata": {},
   "outputs": [],
   "source": [
    "from sklearn.naive_bayes import GaussianNB"
   ]
  },
  {
   "cell_type": "code",
   "execution_count": 23,
   "metadata": {},
   "outputs": [],
   "source": [
    "modelGNB = GaussianNB()"
   ]
  },
  {
   "cell_type": "code",
   "execution_count": 24,
   "metadata": {},
   "outputs": [],
   "source": [
    "X_train_Bayes, X_test_Bayes, y_train_Bayes, y_test_Bayes = train_test_split(X_Bayes, y_Bayes, test_size=0.3)"
   ]
  },
  {
   "cell_type": "code",
   "execution_count": 25,
   "metadata": {},
   "outputs": [
    {
     "data": {
      "text/plain": [
       "GaussianNB(priors=None, var_smoothing=1e-09)"
      ]
     },
     "execution_count": 25,
     "metadata": {},
     "output_type": "execute_result"
    }
   ],
   "source": [
    "modelGNB.fit(X_train_Bayes, y_train_Bayes)"
   ]
  },
  {
   "cell_type": "code",
   "execution_count": 26,
   "metadata": {},
   "outputs": [],
   "source": [
    "predicao_Bayes = modelGNB.predict(X_test_Bayes)"
   ]
  },
  {
   "cell_type": "code",
   "execution_count": 27,
   "metadata": {},
   "outputs": [
    {
     "name": "stdout",
     "output_type": "stream",
     "text": [
      "              precision    recall  f1-score   support\n",
      "\n",
      "   EXCELENTE       0.34      0.69      0.46     87662\n",
      "INSUFICIENTE       0.30      0.45      0.36    151554\n",
      "     REGULAR       0.81      0.62      0.70    707954\n",
      "\n",
      "    accuracy                           0.60    947170\n",
      "   macro avg       0.48      0.58      0.51    947170\n",
      "weighted avg       0.68      0.60      0.62    947170\n",
      "\n"
     ]
    }
   ],
   "source": [
    "print(classification_report(y_test_Bayes, predicao_Bayes))"
   ]
  },
  {
   "cell_type": "code",
   "execution_count": 28,
   "metadata": {},
   "outputs": [
    {
     "name": "stdout",
     "output_type": "stream",
     "text": [
      "[[ 60055   1676  25931]\n",
      " [  4411  67728  79415]\n",
      " [109721 158180 440053]]\n"
     ]
    }
   ],
   "source": [
    "print(confusion_matrix(y_test_Bayes, predicao_Bayes))"
   ]
  },
  {
   "cell_type": "code",
   "execution_count": null,
   "metadata": {},
   "outputs": [],
   "source": []
  },
  {
   "cell_type": "code",
   "execution_count": null,
   "metadata": {},
   "outputs": [],
   "source": []
  },
  {
   "cell_type": "code",
   "execution_count": 29,
   "metadata": {},
   "outputs": [],
   "source": [
    "########## Regressão Logística #########"
   ]
  },
  {
   "cell_type": "code",
   "execution_count": 30,
   "metadata": {},
   "outputs": [],
   "source": [
    "X = dataset.drop(columns='RENDIMENTO_GERAL')\n",
    "y = dataset.RENDIMENTO_GERAL"
   ]
  },
  {
   "cell_type": "code",
   "execution_count": 31,
   "metadata": {},
   "outputs": [],
   "source": [
    "X_train, X_test, y_train, y_test = train_test_split(X, y, test_size=0.3)"
   ]
  },
  {
   "cell_type": "code",
   "execution_count": 32,
   "metadata": {},
   "outputs": [],
   "source": [
    "from sklearn.linear_model import LogisticRegression"
   ]
  },
  {
   "cell_type": "code",
   "execution_count": 33,
   "metadata": {},
   "outputs": [],
   "source": [
    "logmdel = LogisticRegression()"
   ]
  },
  {
   "cell_type": "code",
   "execution_count": 34,
   "metadata": {},
   "outputs": [
    {
     "name": "stderr",
     "output_type": "stream",
     "text": [
      "C:\\Users\\Vinicius\\anaconda3\\lib\\site-packages\\sklearn\\linear_model\\_logistic.py:940: ConvergenceWarning: lbfgs failed to converge (status=1):\n",
      "STOP: TOTAL NO. of ITERATIONS REACHED LIMIT.\n",
      "\n",
      "Increase the number of iterations (max_iter) or scale the data as shown in:\n",
      "    https://scikit-learn.org/stable/modules/preprocessing.html\n",
      "Please also refer to the documentation for alternative solver options:\n",
      "    https://scikit-learn.org/stable/modules/linear_model.html#logistic-regression\n",
      "  extra_warning_msg=_LOGISTIC_SOLVER_CONVERGENCE_MSG)\n"
     ]
    },
    {
     "data": {
      "text/plain": [
       "LogisticRegression(C=1.0, class_weight=None, dual=False, fit_intercept=True,\n",
       "                   intercept_scaling=1, l1_ratio=None, max_iter=100,\n",
       "                   multi_class='auto', n_jobs=None, penalty='l2',\n",
       "                   random_state=None, solver='lbfgs', tol=0.0001, verbose=0,\n",
       "                   warm_start=False)"
      ]
     },
     "execution_count": 34,
     "metadata": {},
     "output_type": "execute_result"
    }
   ],
   "source": [
    "logmdel.fit(X_train, y_train)"
   ]
  },
  {
   "cell_type": "code",
   "execution_count": 35,
   "metadata": {},
   "outputs": [],
   "source": [
    "predicao = logmdel.predict(X_test)"
   ]
  },
  {
   "cell_type": "code",
   "execution_count": 36,
   "metadata": {},
   "outputs": [
    {
     "name": "stderr",
     "output_type": "stream",
     "text": [
      "C:\\Users\\Vinicius\\anaconda3\\lib\\site-packages\\sklearn\\metrics\\_classification.py:1272: UndefinedMetricWarning: Precision and F-score are ill-defined and being set to 0.0 in labels with no predicted samples. Use `zero_division` parameter to control this behavior.\n",
      "  _warn_prf(average, modifier, msg_start, len(result))\n"
     ]
    },
    {
     "name": "stdout",
     "output_type": "stream",
     "text": [
      "              precision    recall  f1-score   support\n",
      "\n",
      "   EXCELENTE       0.58      0.29      0.39     87634\n",
      "INSUFICIENTE       0.00      0.00      0.00    151824\n",
      "     REGULAR       0.76      0.97      0.86    707712\n",
      "\n",
      "    accuracy                           0.76    947170\n",
      "   macro avg       0.45      0.42      0.41    947170\n",
      "weighted avg       0.62      0.76      0.68    947170\n",
      "\n"
     ]
    }
   ],
   "source": [
    "print(classification_report(y_test, predicao)) "
   ]
  },
  {
   "cell_type": "code",
   "execution_count": 37,
   "metadata": {},
   "outputs": [
    {
     "name": "stdout",
     "output_type": "stream",
     "text": [
      "[[ 25328      0  62306]\n",
      " [   224      0 151600]\n",
      " [ 17820      0 689892]]\n"
     ]
    }
   ],
   "source": [
    "print(confusion_matrix(y_test, predicao))"
   ]
  },
  {
   "cell_type": "code",
   "execution_count": null,
   "metadata": {},
   "outputs": [],
   "source": []
  },
  {
   "cell_type": "code",
   "execution_count": 38,
   "metadata": {},
   "outputs": [],
   "source": [
    "########### Floresta Aleatória"
   ]
  },
  {
   "cell_type": "code",
   "execution_count": 39,
   "metadata": {},
   "outputs": [],
   "source": [
    "X_florest = dataset.drop(columns='RENDIMENTO_GERAL')\n",
    "y_florest = dataset.RENDIMENTO_GERAL"
   ]
  },
  {
   "cell_type": "code",
   "execution_count": 40,
   "metadata": {},
   "outputs": [],
   "source": [
    "X_train_florest, X_test_florest, y_train_florest, y_test_florest = train_test_split(X_florest, y_florest, test_size=0.3)"
   ]
  },
  {
   "cell_type": "code",
   "execution_count": 41,
   "metadata": {},
   "outputs": [],
   "source": [
    "from sklearn.ensemble import RandomForestClassifier"
   ]
  },
  {
   "cell_type": "code",
   "execution_count": 42,
   "metadata": {},
   "outputs": [],
   "source": [
    "rfc = RandomForestClassifier(n_estimators=100)"
   ]
  },
  {
   "cell_type": "code",
   "execution_count": 43,
   "metadata": {},
   "outputs": [
    {
     "data": {
      "text/plain": [
       "RandomForestClassifier(bootstrap=True, ccp_alpha=0.0, class_weight=None,\n",
       "                       criterion='gini', max_depth=None, max_features='auto',\n",
       "                       max_leaf_nodes=None, max_samples=None,\n",
       "                       min_impurity_decrease=0.0, min_impurity_split=None,\n",
       "                       min_samples_leaf=1, min_samples_split=2,\n",
       "                       min_weight_fraction_leaf=0.0, n_estimators=100,\n",
       "                       n_jobs=None, oob_score=False, random_state=None,\n",
       "                       verbose=0, warm_start=False)"
      ]
     },
     "execution_count": 43,
     "metadata": {},
     "output_type": "execute_result"
    }
   ],
   "source": [
    "rfc.fit(X_train_florest, y_train_florest)"
   ]
  },
  {
   "cell_type": "code",
   "execution_count": 44,
   "metadata": {},
   "outputs": [],
   "source": [
    "predicao = rfc.predict(X_test_florest)"
   ]
  },
  {
   "cell_type": "code",
   "execution_count": 45,
   "metadata": {},
   "outputs": [
    {
     "name": "stdout",
     "output_type": "stream",
     "text": [
      "              precision    recall  f1-score   support\n",
      "\n",
      "   EXCELENTE       0.57      0.31      0.40     87985\n",
      "INSUFICIENTE       0.28      0.01      0.02    151733\n",
      "     REGULAR       0.76      0.97      0.85    707452\n",
      "\n",
      "    accuracy                           0.75    947170\n",
      "   macro avg       0.54      0.43      0.43    947170\n",
      "weighted avg       0.67      0.75      0.68    947170\n",
      "\n"
     ]
    }
   ],
   "source": [
    "print(classification_report(y_test_florest, predicao)) "
   ]
  },
  {
   "cell_type": "code",
   "execution_count": 46,
   "metadata": {},
   "outputs": [
    {
     "name": "stdout",
     "output_type": "stream",
     "text": [
      "[[ 27362    131  60492]\n",
      " [   427   1532 149774]\n",
      " [ 20002   3747 683703]]\n"
     ]
    }
   ],
   "source": [
    "print(confusion_matrix(y_test_florest, predicao))"
   ]
  },
  {
   "cell_type": "code",
   "execution_count": null,
   "metadata": {},
   "outputs": [],
   "source": []
  },
  {
   "cell_type": "code",
   "execution_count": 47,
   "metadata": {},
   "outputs": [],
   "source": [
    "############ KNN"
   ]
  },
  {
   "cell_type": "code",
   "execution_count": 48,
   "metadata": {},
   "outputs": [],
   "source": [
    "from sklearn.preprocessing import StandardScaler"
   ]
  },
  {
   "cell_type": "code",
   "execution_count": 49,
   "metadata": {},
   "outputs": [],
   "source": [
    "scaler = StandardScaler()"
   ]
  },
  {
   "cell_type": "code",
   "execution_count": 50,
   "metadata": {},
   "outputs": [
    {
     "data": {
      "text/plain": [
       "StandardScaler(copy=True, with_mean=True, with_std=True)"
      ]
     },
     "execution_count": 50,
     "metadata": {},
     "output_type": "execute_result"
    }
   ],
   "source": [
    "scaler.fit(dataset.drop('RENDIMENTO_GERAL', axis=1))"
   ]
  },
  {
   "cell_type": "code",
   "execution_count": 51,
   "metadata": {},
   "outputs": [],
   "source": [
    "dataset_Normalizado = scaler.transform(dataset.drop('RENDIMENTO_GERAL', axis=1))"
   ]
  },
  {
   "cell_type": "code",
   "execution_count": 52,
   "metadata": {},
   "outputs": [
    {
     "data": {
      "text/plain": [
       "array([[ 0.26747779,  0.798765  ,  0.30873175, ..., -0.51445041,\n",
       "         0.5788377 , -0.52849847],\n",
       "       [-1.41049001,  1.32119803, -3.23905785, ...,  0.06144074,\n",
       "         0.5788377 , -0.52849847],\n",
       "       [-0.99099806, -1.29096714,  0.30873175, ..., -1.09034155,\n",
       "         0.5788377 , -0.52849847],\n",
       "       ...,\n",
       "       [ 1.52595364,  1.32119803,  0.30873175, ...,  2.94089646,\n",
       "         0.5788377 ,  2.1508081 ],\n",
       "       [ 0.26747779,  0.27633196,  0.30873175, ..., -1.09034155,\n",
       "        -1.72759997, -0.52849847],\n",
       "       [-0.85116741, -0.24610107,  0.30873175, ..., -0.51445041,\n",
       "         0.5788377 , -0.52849847]])"
      ]
     },
     "execution_count": 52,
     "metadata": {},
     "output_type": "execute_result"
    }
   ],
   "source": [
    "dataset_Normalizado"
   ]
  },
  {
   "cell_type": "code",
   "execution_count": 53,
   "metadata": {},
   "outputs": [],
   "source": [
    "dataset_Padrao = pd.DataFrame(dataset_Normalizado, columns=dataset.columns[:-1])"
   ]
  },
  {
   "cell_type": "code",
   "execution_count": 54,
   "metadata": {},
   "outputs": [
    {
     "data": {
      "text/html": [
       "<div>\n",
       "<style scoped>\n",
       "    .dataframe tbody tr th:only-of-type {\n",
       "        vertical-align: middle;\n",
       "    }\n",
       "\n",
       "    .dataframe tbody tr th {\n",
       "        vertical-align: top;\n",
       "    }\n",
       "\n",
       "    .dataframe thead th {\n",
       "        text-align: right;\n",
       "    }\n",
       "</style>\n",
       "<table border=\"1\" class=\"dataframe\">\n",
       "  <thead>\n",
       "    <tr style=\"text-align: right;\">\n",
       "      <th></th>\n",
       "      <th>UF_RESIDENCIA</th>\n",
       "      <th>FAIXA_ETARIA</th>\n",
       "      <th>ESTADO_CIVIL</th>\n",
       "      <th>COR_RACA</th>\n",
       "      <th>IDIOMA</th>\n",
       "      <th>ESCOLARIDADE_DOS_PAIS</th>\n",
       "      <th>FAIXA_RENDA_PERCAPTA</th>\n",
       "      <th>TEM_INTERNET</th>\n",
       "      <th>ENSINO_PUBLICO</th>\n",
       "    </tr>\n",
       "  </thead>\n",
       "  <tbody>\n",
       "    <tr>\n",
       "      <th>0</th>\n",
       "      <td>0.267478</td>\n",
       "      <td>0.798765</td>\n",
       "      <td>0.308732</td>\n",
       "      <td>0.76290</td>\n",
       "      <td>-1.062713</td>\n",
       "      <td>-1.026232</td>\n",
       "      <td>-0.514450</td>\n",
       "      <td>0.578838</td>\n",
       "      <td>-0.528498</td>\n",
       "    </tr>\n",
       "    <tr>\n",
       "      <th>1</th>\n",
       "      <td>-1.410490</td>\n",
       "      <td>1.321198</td>\n",
       "      <td>-3.239058</td>\n",
       "      <td>0.76290</td>\n",
       "      <td>-1.062713</td>\n",
       "      <td>0.271295</td>\n",
       "      <td>0.061441</td>\n",
       "      <td>0.578838</td>\n",
       "      <td>-0.528498</td>\n",
       "    </tr>\n",
       "    <tr>\n",
       "      <th>2</th>\n",
       "      <td>-0.990998</td>\n",
       "      <td>-1.290967</td>\n",
       "      <td>0.308732</td>\n",
       "      <td>0.76290</td>\n",
       "      <td>0.940988</td>\n",
       "      <td>-1.026232</td>\n",
       "      <td>-1.090342</td>\n",
       "      <td>0.578838</td>\n",
       "      <td>-0.528498</td>\n",
       "    </tr>\n",
       "    <tr>\n",
       "      <th>3</th>\n",
       "      <td>0.267478</td>\n",
       "      <td>-1.290967</td>\n",
       "      <td>0.308732</td>\n",
       "      <td>0.76290</td>\n",
       "      <td>0.940988</td>\n",
       "      <td>0.271295</td>\n",
       "      <td>-1.090342</td>\n",
       "      <td>0.578838</td>\n",
       "      <td>-0.528498</td>\n",
       "    </tr>\n",
       "    <tr>\n",
       "      <th>4</th>\n",
       "      <td>1.386123</td>\n",
       "      <td>0.798765</td>\n",
       "      <td>0.308732</td>\n",
       "      <td>-1.24913</td>\n",
       "      <td>-1.062713</td>\n",
       "      <td>1.568822</td>\n",
       "      <td>0.637332</td>\n",
       "      <td>0.578838</td>\n",
       "      <td>2.150808</td>\n",
       "    </tr>\n",
       "    <tr>\n",
       "      <th>...</th>\n",
       "      <td>...</td>\n",
       "      <td>...</td>\n",
       "      <td>...</td>\n",
       "      <td>...</td>\n",
       "      <td>...</td>\n",
       "      <td>...</td>\n",
       "      <td>...</td>\n",
       "      <td>...</td>\n",
       "      <td>...</td>\n",
       "    </tr>\n",
       "    <tr>\n",
       "      <th>3157226</th>\n",
       "      <td>0.127647</td>\n",
       "      <td>-0.768534</td>\n",
       "      <td>0.308732</td>\n",
       "      <td>0.76290</td>\n",
       "      <td>-1.062713</td>\n",
       "      <td>1.568822</td>\n",
       "      <td>1.213223</td>\n",
       "      <td>0.578838</td>\n",
       "      <td>0.811155</td>\n",
       "    </tr>\n",
       "    <tr>\n",
       "      <th>3157227</th>\n",
       "      <td>-1.270659</td>\n",
       "      <td>1.321198</td>\n",
       "      <td>-3.239058</td>\n",
       "      <td>0.76290</td>\n",
       "      <td>-1.062713</td>\n",
       "      <td>0.271295</td>\n",
       "      <td>-0.514450</td>\n",
       "      <td>0.578838</td>\n",
       "      <td>-0.528498</td>\n",
       "    </tr>\n",
       "    <tr>\n",
       "      <th>3157228</th>\n",
       "      <td>1.525954</td>\n",
       "      <td>1.321198</td>\n",
       "      <td>0.308732</td>\n",
       "      <td>-1.24913</td>\n",
       "      <td>-1.062713</td>\n",
       "      <td>1.568822</td>\n",
       "      <td>2.940896</td>\n",
       "      <td>0.578838</td>\n",
       "      <td>2.150808</td>\n",
       "    </tr>\n",
       "    <tr>\n",
       "      <th>3157229</th>\n",
       "      <td>0.267478</td>\n",
       "      <td>0.276332</td>\n",
       "      <td>0.308732</td>\n",
       "      <td>0.76290</td>\n",
       "      <td>-1.062713</td>\n",
       "      <td>-1.026232</td>\n",
       "      <td>-1.090342</td>\n",
       "      <td>-1.727600</td>\n",
       "      <td>-0.528498</td>\n",
       "    </tr>\n",
       "    <tr>\n",
       "      <th>3157230</th>\n",
       "      <td>-0.851167</td>\n",
       "      <td>-0.246101</td>\n",
       "      <td>0.308732</td>\n",
       "      <td>0.76290</td>\n",
       "      <td>0.940988</td>\n",
       "      <td>0.271295</td>\n",
       "      <td>-0.514450</td>\n",
       "      <td>0.578838</td>\n",
       "      <td>-0.528498</td>\n",
       "    </tr>\n",
       "  </tbody>\n",
       "</table>\n",
       "<p>3157231 rows × 9 columns</p>\n",
       "</div>"
      ],
      "text/plain": [
       "         UF_RESIDENCIA  FAIXA_ETARIA  ESTADO_CIVIL  COR_RACA    IDIOMA  \\\n",
       "0             0.267478      0.798765      0.308732   0.76290 -1.062713   \n",
       "1            -1.410490      1.321198     -3.239058   0.76290 -1.062713   \n",
       "2            -0.990998     -1.290967      0.308732   0.76290  0.940988   \n",
       "3             0.267478     -1.290967      0.308732   0.76290  0.940988   \n",
       "4             1.386123      0.798765      0.308732  -1.24913 -1.062713   \n",
       "...                ...           ...           ...       ...       ...   \n",
       "3157226       0.127647     -0.768534      0.308732   0.76290 -1.062713   \n",
       "3157227      -1.270659      1.321198     -3.239058   0.76290 -1.062713   \n",
       "3157228       1.525954      1.321198      0.308732  -1.24913 -1.062713   \n",
       "3157229       0.267478      0.276332      0.308732   0.76290 -1.062713   \n",
       "3157230      -0.851167     -0.246101      0.308732   0.76290  0.940988   \n",
       "\n",
       "         ESCOLARIDADE_DOS_PAIS  FAIXA_RENDA_PERCAPTA  TEM_INTERNET  \\\n",
       "0                    -1.026232             -0.514450      0.578838   \n",
       "1                     0.271295              0.061441      0.578838   \n",
       "2                    -1.026232             -1.090342      0.578838   \n",
       "3                     0.271295             -1.090342      0.578838   \n",
       "4                     1.568822              0.637332      0.578838   \n",
       "...                        ...                   ...           ...   \n",
       "3157226               1.568822              1.213223      0.578838   \n",
       "3157227               0.271295             -0.514450      0.578838   \n",
       "3157228               1.568822              2.940896      0.578838   \n",
       "3157229              -1.026232             -1.090342     -1.727600   \n",
       "3157230               0.271295             -0.514450      0.578838   \n",
       "\n",
       "         ENSINO_PUBLICO  \n",
       "0             -0.528498  \n",
       "1             -0.528498  \n",
       "2             -0.528498  \n",
       "3             -0.528498  \n",
       "4              2.150808  \n",
       "...                 ...  \n",
       "3157226        0.811155  \n",
       "3157227       -0.528498  \n",
       "3157228        2.150808  \n",
       "3157229       -0.528498  \n",
       "3157230       -0.528498  \n",
       "\n",
       "[3157231 rows x 9 columns]"
      ]
     },
     "execution_count": 54,
     "metadata": {},
     "output_type": "execute_result"
    }
   ],
   "source": [
    "dataset_Padrao"
   ]
  },
  {
   "cell_type": "code",
   "execution_count": 55,
   "metadata": {},
   "outputs": [],
   "source": [
    "X_KNN = dataset_Padrao\n",
    "y_KNN = dataset.RENDIMENTO_GERAL"
   ]
  },
  {
   "cell_type": "code",
   "execution_count": 56,
   "metadata": {},
   "outputs": [],
   "source": [
    "X_train_KNN, X_test_KNN, y_train_KNN, y_test_KNN = train_test_split(X_KNN, y_KNN, test_size=0.3)"
   ]
  },
  {
   "cell_type": "code",
   "execution_count": 57,
   "metadata": {},
   "outputs": [],
   "source": [
    "from sklearn.neighbors import KNeighborsClassifier"
   ]
  },
  {
   "cell_type": "code",
   "execution_count": 58,
   "metadata": {},
   "outputs": [],
   "source": [
    "KNN = KNeighborsClassifier(n_neighbors=25)"
   ]
  },
  {
   "cell_type": "code",
   "execution_count": 59,
   "metadata": {},
   "outputs": [
    {
     "data": {
      "text/plain": [
       "KNeighborsClassifier(algorithm='auto', leaf_size=30, metric='minkowski',\n",
       "                     metric_params=None, n_jobs=None, n_neighbors=25, p=2,\n",
       "                     weights='uniform')"
      ]
     },
     "execution_count": 59,
     "metadata": {},
     "output_type": "execute_result"
    }
   ],
   "source": [
    "KNN.fit(X_train_KNN, y_train_KNN)"
   ]
  },
  {
   "cell_type": "code",
   "execution_count": 60,
   "metadata": {},
   "outputs": [],
   "source": [
    "predicao_KNN = KNN.predict(X_test_KNN)"
   ]
  },
  {
   "cell_type": "code",
   "execution_count": 61,
   "metadata": {},
   "outputs": [
    {
     "name": "stdout",
     "output_type": "stream",
     "text": [
      "              precision    recall  f1-score   support\n",
      "\n",
      "   EXCELENTE       0.57      0.31      0.40     87759\n",
      "INSUFICIENTE       0.37      0.03      0.06    151026\n",
      "     REGULAR       0.77      0.96      0.85    708385\n",
      "\n",
      "    accuracy                           0.75    947170\n",
      "   macro avg       0.57      0.43      0.44    947170\n",
      "weighted avg       0.69      0.75      0.68    947170\n",
      "\n"
     ]
    }
   ],
   "source": [
    "print(classification_report(y_test_KNN, predicao_KNN)) "
   ]
  },
  {
   "cell_type": "code",
   "execution_count": 62,
   "metadata": {},
   "outputs": [
    {
     "name": "stdout",
     "output_type": "stream",
     "text": [
      "[[ 27133     51  60575]\n",
      " [   307   4648 146071]\n",
      " [ 19954   7789 680642]]\n"
     ]
    }
   ],
   "source": [
    "print(confusion_matrix(y_test_KNN, predicao_KNN))"
   ]
  },
  {
   "cell_type": "code",
   "execution_count": null,
   "metadata": {},
   "outputs": [],
   "source": []
  }
 ],
 "metadata": {
  "kernelspec": {
   "display_name": "Python 3",
   "language": "python",
   "name": "python3"
  },
  "language_info": {
   "codemirror_mode": {
    "name": "ipython",
    "version": 3
   },
   "file_extension": ".py",
   "mimetype": "text/x-python",
   "name": "python",
   "nbconvert_exporter": "python",
   "pygments_lexer": "ipython3",
   "version": "3.7.6"
  }
 },
 "nbformat": 4,
 "nbformat_minor": 4
}
